{
 "cells": [
  {
   "cell_type": "markdown",
   "metadata": {},
   "source": [
    "### Required Questions: Please answer completely all four required questions.\n",
    "\n",
    "#### Question 1\n",
    "Programmatically download and load into your favorite analytical tool the trip data for September 2015.\n",
    "Report how many rows and columns of data you have loaded.\n",
    "\n",
    "#### Question 2\n",
    "Plot a histogram of the number of the trip distance (\"Trip Distance\").\n",
    "Report any structure you find and any hypotheses you have about that structure.\n",
    "\n",
    "#### Question 3\n",
    "Report mean and median trip distance grouped by hour of day.\n",
    "We'd like to get a rough sense of identifying trips that originate or terminate at one of the NYC area airports. Can you provide a count of how many transactions fit this criteria, the average fair, and any other interesting characteristics of these trips.\n",
    "\n",
    "#### Question 4\n",
    "Build a derived variable for tip as a percentage of the total fare.\n",
    "Build a predictive model for tip as a percentage of the total fare. Use as much of the data as you like (or all of it). We will validate a sample."
   ]
  },
  {
   "cell_type": "code",
   "execution_count": 9,
   "metadata": {
    "collapsed": true
   },
   "outputs": [],
   "source": [
    "import pandas as pd\n",
    "\n",
    "import matplotlib.pyplot as plt\n",
    "%matplotlib inline"
   ]
  },
  {
   "cell_type": "code",
   "execution_count": 2,
   "metadata": {
    "collapsed": true
   },
   "outputs": [],
   "source": [
    "trip = pd.read_csv('./data/green_tripdata_2015-09.csv')"
   ]
  },
  {
   "cell_type": "code",
   "execution_count": 3,
   "metadata": {
    "collapsed": false
   },
   "outputs": [
    {
     "data": {
      "text/plain": [
       "(1494926, 21)"
      ]
     },
     "execution_count": 3,
     "metadata": {},
     "output_type": "execute_result"
    }
   ],
   "source": [
    "trip.shape"
   ]
  },
  {
   "cell_type": "code",
   "execution_count": 4,
   "metadata": {
    "collapsed": false
   },
   "outputs": [
    {
     "data": {
      "text/plain": [
       "Index([u'VendorID', u'lpep_pickup_datetime', u'Lpep_dropoff_datetime',\n",
       "       u'Store_and_fwd_flag', u'RateCodeID', u'Pickup_longitude',\n",
       "       u'Pickup_latitude', u'Dropoff_longitude', u'Dropoff_latitude',\n",
       "       u'Passenger_count', u'Trip_distance', u'Fare_amount', u'Extra',\n",
       "       u'MTA_tax', u'Tip_amount', u'Tolls_amount', u'Ehail_fee',\n",
       "       u'improvement_surcharge', u'Total_amount', u'Payment_type',\n",
       "       u'Trip_type '],\n",
       "      dtype='object')"
      ]
     },
     "execution_count": 4,
     "metadata": {},
     "output_type": "execute_result"
    }
   ],
   "source": [
    "trip.columns"
   ]
  },
  {
   "cell_type": "code",
   "execution_count": 5,
   "metadata": {
    "collapsed": false
   },
   "outputs": [
    {
     "data": {
      "text/html": [
       "<div>\n",
       "<table border=\"1\" class=\"dataframe\">\n",
       "  <thead>\n",
       "    <tr style=\"text-align: right;\">\n",
       "      <th></th>\n",
       "      <th>VendorID</th>\n",
       "      <th>lpep_pickup_datetime</th>\n",
       "      <th>Lpep_dropoff_datetime</th>\n",
       "      <th>Store_and_fwd_flag</th>\n",
       "      <th>RateCodeID</th>\n",
       "      <th>Pickup_longitude</th>\n",
       "      <th>Pickup_latitude</th>\n",
       "      <th>Dropoff_longitude</th>\n",
       "      <th>Dropoff_latitude</th>\n",
       "      <th>Passenger_count</th>\n",
       "      <th>...</th>\n",
       "      <th>Fare_amount</th>\n",
       "      <th>Extra</th>\n",
       "      <th>MTA_tax</th>\n",
       "      <th>Tip_amount</th>\n",
       "      <th>Tolls_amount</th>\n",
       "      <th>Ehail_fee</th>\n",
       "      <th>improvement_surcharge</th>\n",
       "      <th>Total_amount</th>\n",
       "      <th>Payment_type</th>\n",
       "      <th>Trip_type</th>\n",
       "    </tr>\n",
       "  </thead>\n",
       "  <tbody>\n",
       "    <tr>\n",
       "      <th>0</th>\n",
       "      <td>2</td>\n",
       "      <td>2015-09-01 00:02:34</td>\n",
       "      <td>2015-09-01 00:02:38</td>\n",
       "      <td>N</td>\n",
       "      <td>5</td>\n",
       "      <td>-73.979485</td>\n",
       "      <td>40.684956</td>\n",
       "      <td>-73.979431</td>\n",
       "      <td>40.685020</td>\n",
       "      <td>1</td>\n",
       "      <td>...</td>\n",
       "      <td>7.8</td>\n",
       "      <td>0.0</td>\n",
       "      <td>0.0</td>\n",
       "      <td>1.95</td>\n",
       "      <td>0.0</td>\n",
       "      <td>NaN</td>\n",
       "      <td>0.0</td>\n",
       "      <td>9.75</td>\n",
       "      <td>1</td>\n",
       "      <td>2.0</td>\n",
       "    </tr>\n",
       "    <tr>\n",
       "      <th>1</th>\n",
       "      <td>2</td>\n",
       "      <td>2015-09-01 00:04:20</td>\n",
       "      <td>2015-09-01 00:04:24</td>\n",
       "      <td>N</td>\n",
       "      <td>5</td>\n",
       "      <td>-74.010796</td>\n",
       "      <td>40.912216</td>\n",
       "      <td>-74.010780</td>\n",
       "      <td>40.912212</td>\n",
       "      <td>1</td>\n",
       "      <td>...</td>\n",
       "      <td>45.0</td>\n",
       "      <td>0.0</td>\n",
       "      <td>0.0</td>\n",
       "      <td>0.00</td>\n",
       "      <td>0.0</td>\n",
       "      <td>NaN</td>\n",
       "      <td>0.0</td>\n",
       "      <td>45.00</td>\n",
       "      <td>1</td>\n",
       "      <td>2.0</td>\n",
       "    </tr>\n",
       "    <tr>\n",
       "      <th>2</th>\n",
       "      <td>2</td>\n",
       "      <td>2015-09-01 00:01:50</td>\n",
       "      <td>2015-09-01 00:04:24</td>\n",
       "      <td>N</td>\n",
       "      <td>1</td>\n",
       "      <td>-73.921410</td>\n",
       "      <td>40.766708</td>\n",
       "      <td>-73.914413</td>\n",
       "      <td>40.764687</td>\n",
       "      <td>1</td>\n",
       "      <td>...</td>\n",
       "      <td>4.0</td>\n",
       "      <td>0.5</td>\n",
       "      <td>0.5</td>\n",
       "      <td>0.50</td>\n",
       "      <td>0.0</td>\n",
       "      <td>NaN</td>\n",
       "      <td>0.3</td>\n",
       "      <td>5.80</td>\n",
       "      <td>1</td>\n",
       "      <td>1.0</td>\n",
       "    </tr>\n",
       "    <tr>\n",
       "      <th>3</th>\n",
       "      <td>2</td>\n",
       "      <td>2015-09-01 00:02:36</td>\n",
       "      <td>2015-09-01 00:06:42</td>\n",
       "      <td>N</td>\n",
       "      <td>1</td>\n",
       "      <td>-73.921387</td>\n",
       "      <td>40.766678</td>\n",
       "      <td>-73.931427</td>\n",
       "      <td>40.771584</td>\n",
       "      <td>1</td>\n",
       "      <td>...</td>\n",
       "      <td>5.0</td>\n",
       "      <td>0.5</td>\n",
       "      <td>0.5</td>\n",
       "      <td>0.00</td>\n",
       "      <td>0.0</td>\n",
       "      <td>NaN</td>\n",
       "      <td>0.3</td>\n",
       "      <td>6.30</td>\n",
       "      <td>2</td>\n",
       "      <td>1.0</td>\n",
       "    </tr>\n",
       "    <tr>\n",
       "      <th>4</th>\n",
       "      <td>2</td>\n",
       "      <td>2015-09-01 00:00:14</td>\n",
       "      <td>2015-09-01 00:04:20</td>\n",
       "      <td>N</td>\n",
       "      <td>1</td>\n",
       "      <td>-73.955482</td>\n",
       "      <td>40.714046</td>\n",
       "      <td>-73.944412</td>\n",
       "      <td>40.714729</td>\n",
       "      <td>1</td>\n",
       "      <td>...</td>\n",
       "      <td>5.0</td>\n",
       "      <td>0.5</td>\n",
       "      <td>0.5</td>\n",
       "      <td>0.00</td>\n",
       "      <td>0.0</td>\n",
       "      <td>NaN</td>\n",
       "      <td>0.3</td>\n",
       "      <td>6.30</td>\n",
       "      <td>2</td>\n",
       "      <td>1.0</td>\n",
       "    </tr>\n",
       "  </tbody>\n",
       "</table>\n",
       "<p>5 rows × 21 columns</p>\n",
       "</div>"
      ],
      "text/plain": [
       "   VendorID lpep_pickup_datetime Lpep_dropoff_datetime Store_and_fwd_flag  \\\n",
       "0         2  2015-09-01 00:02:34   2015-09-01 00:02:38                  N   \n",
       "1         2  2015-09-01 00:04:20   2015-09-01 00:04:24                  N   \n",
       "2         2  2015-09-01 00:01:50   2015-09-01 00:04:24                  N   \n",
       "3         2  2015-09-01 00:02:36   2015-09-01 00:06:42                  N   \n",
       "4         2  2015-09-01 00:00:14   2015-09-01 00:04:20                  N   \n",
       "\n",
       "   RateCodeID  Pickup_longitude  Pickup_latitude  Dropoff_longitude  \\\n",
       "0           5        -73.979485        40.684956         -73.979431   \n",
       "1           5        -74.010796        40.912216         -74.010780   \n",
       "2           1        -73.921410        40.766708         -73.914413   \n",
       "3           1        -73.921387        40.766678         -73.931427   \n",
       "4           1        -73.955482        40.714046         -73.944412   \n",
       "\n",
       "   Dropoff_latitude  Passenger_count     ...      Fare_amount  Extra  MTA_tax  \\\n",
       "0         40.685020                1     ...              7.8    0.0      0.0   \n",
       "1         40.912212                1     ...             45.0    0.0      0.0   \n",
       "2         40.764687                1     ...              4.0    0.5      0.5   \n",
       "3         40.771584                1     ...              5.0    0.5      0.5   \n",
       "4         40.714729                1     ...              5.0    0.5      0.5   \n",
       "\n",
       "   Tip_amount  Tolls_amount  Ehail_fee  improvement_surcharge  Total_amount  \\\n",
       "0        1.95           0.0        NaN                    0.0          9.75   \n",
       "1        0.00           0.0        NaN                    0.0         45.00   \n",
       "2        0.50           0.0        NaN                    0.3          5.80   \n",
       "3        0.00           0.0        NaN                    0.3          6.30   \n",
       "4        0.00           0.0        NaN                    0.3          6.30   \n",
       "\n",
       "   Payment_type  Trip_type   \n",
       "0             1         2.0  \n",
       "1             1         2.0  \n",
       "2             1         1.0  \n",
       "3             2         1.0  \n",
       "4             2         1.0  \n",
       "\n",
       "[5 rows x 21 columns]"
      ]
     },
     "execution_count": 5,
     "metadata": {},
     "output_type": "execute_result"
    }
   ],
   "source": [
    "trip.head()"
   ]
  },
  {
   "cell_type": "code",
   "execution_count": 6,
   "metadata": {
    "collapsed": false
   },
   "outputs": [
    {
     "data": {
      "text/plain": [
       "count    1.494926e+06\n",
       "mean     2.968141e+00\n",
       "std      3.076621e+00\n",
       "min      0.000000e+00\n",
       "25%      1.100000e+00\n",
       "50%      1.980000e+00\n",
       "75%      3.740000e+00\n",
       "max      6.031000e+02\n",
       "Name: Trip_distance, dtype: float64"
      ]
     },
     "execution_count": 6,
     "metadata": {},
     "output_type": "execute_result"
    }
   ],
   "source": [
    "trip.Trip_distance.describe()"
   ]
  },
  {
   "cell_type": "code",
   "execution_count": 10,
   "metadata": {
    "collapsed": false
   },
   "outputs": [
    {
     "data": {
      "text/plain": [
       "<matplotlib.axes._subplots.AxesSubplot at 0x112642d50>"
      ]
     },
     "execution_count": 10,
     "metadata": {},
     "output_type": "execute_result"
    },
    {
     "data": {
      "image/png": "[encoded data removed]",
      "text/plain": [
       "<matplotlib.figure.Figure at 0x112642590>"
      ]
     },
     "metadata": {},
     "output_type": "display_data"
    }
   ],
   "source": [
    "trip.Trip_distance.hist()"
   ]
  },
  {
   "cell_type": "code",
   "execution_count": 11,
   "metadata": {
    "collapsed": false
   },
   "outputs": [
    {
     "data": {
      "text/plain": [
       "{'boxes': [<matplotlib.lines.Line2D at 0x110ac1050>],\n",
       " 'caps': [<matplotlib.lines.Line2D at 0x110ac1dd0>,\n",
       "  <matplotlib.lines.Line2D at 0x1177d0450>],\n",
       " 'fliers': [<matplotlib.lines.Line2D at 0x1177de110>],\n",
       " 'means': [],\n",
       " 'medians': [<matplotlib.lines.Line2D at 0x1177d0a90>],\n",
       " 'whiskers': [<matplotlib.lines.Line2D at 0x110ab0f10>,\n",
       "  <matplotlib.lines.Line2D at 0x110ac1790>]}"
      ]
     },
     "execution_count": 11,
     "metadata": {},
     "output_type": "execute_result"
    },
    {
     "data": {
      "image/png": "[encoded data removed]",
      "text/plain": [
       "<matplotlib.figure.Figure at 0x1135d2390>"
      ]
     },
     "metadata": {},
     "output_type": "display_data"
    }
   ],
   "source": [
    "plt.boxplot(trip.Trip_distance)"
   ]
  },
  {
   "cell_type": "code",
   "execution_count": 17,
   "metadata": {
    "collapsed": false
   },
   "outputs": [
    {
     "data": {
      "text/html": [
       "<div>\n",
       "<table border=\"1\" class=\"dataframe\">\n",
       "  <thead>\n",
       "    <tr style=\"text-align: right;\">\n",
       "      <th></th>\n",
       "      <th>VendorID</th>\n",
       "      <th>lpep_pickup_datetime</th>\n",
       "      <th>Lpep_dropoff_datetime</th>\n",
       "      <th>Store_and_fwd_flag</th>\n",
       "      <th>RateCodeID</th>\n",
       "      <th>Pickup_longitude</th>\n",
       "      <th>Pickup_latitude</th>\n",
       "      <th>Dropoff_longitude</th>\n",
       "      <th>Dropoff_latitude</th>\n",
       "      <th>Passenger_count</th>\n",
       "      <th>...</th>\n",
       "      <th>Fare_amount</th>\n",
       "      <th>Extra</th>\n",
       "      <th>MTA_tax</th>\n",
       "      <th>Tip_amount</th>\n",
       "      <th>Tolls_amount</th>\n",
       "      <th>Ehail_fee</th>\n",
       "      <th>improvement_surcharge</th>\n",
       "      <th>Total_amount</th>\n",
       "      <th>Payment_type</th>\n",
       "      <th>Trip_type</th>\n",
       "    </tr>\n",
       "  </thead>\n",
       "  <tbody>\n",
       "    <tr>\n",
       "      <th>1321961</th>\n",
       "      <td>1</td>\n",
       "      <td>2015-09-27 03:13:48</td>\n",
       "      <td>2015-09-27 03:24:12</td>\n",
       "      <td>N</td>\n",
       "      <td>1</td>\n",
       "      <td>-73.937164</td>\n",
       "      <td>40.804386</td>\n",
       "      <td>-73.901382</td>\n",
       "      <td>40.819443</td>\n",
       "      <td>1</td>\n",
       "      <td>...</td>\n",
       "      <td>1.25</td>\n",
       "      <td>0.5</td>\n",
       "      <td>0.5</td>\n",
       "      <td>0.0</td>\n",
       "      <td>0.0</td>\n",
       "      <td>NaN</td>\n",
       "      <td>0.3</td>\n",
       "      <td>2.55</td>\n",
       "      <td>2</td>\n",
       "      <td>1.0</td>\n",
       "    </tr>\n",
       "  </tbody>\n",
       "</table>\n",
       "<p>1 rows × 21 columns</p>\n",
       "</div>"
      ],
      "text/plain": [
       "         VendorID lpep_pickup_datetime Lpep_dropoff_datetime  \\\n",
       "1321961         1  2015-09-27 03:13:48   2015-09-27 03:24:12   \n",
       "\n",
       "        Store_and_fwd_flag  RateCodeID  Pickup_longitude  Pickup_latitude  \\\n",
       "1321961                  N           1        -73.937164        40.804386   \n",
       "\n",
       "         Dropoff_longitude  Dropoff_latitude  Passenger_count     ...      \\\n",
       "1321961         -73.901382         40.819443                1     ...       \n",
       "\n",
       "         Fare_amount  Extra  MTA_tax  Tip_amount  Tolls_amount  Ehail_fee  \\\n",
       "1321961         1.25    0.5      0.5         0.0           0.0        NaN   \n",
       "\n",
       "         improvement_surcharge  Total_amount  Payment_type  Trip_type   \n",
       "1321961                    0.3          2.55             2         1.0  \n",
       "\n",
       "[1 rows x 21 columns]"
      ]
     },
     "execution_count": 17,
     "metadata": {},
     "output_type": "execute_result"
    }
   ],
   "source": [
    "trip[trip.Trip_distance > 600]"
   ]
  },
  {
   "cell_type": "code",
   "execution_count": 18,
   "metadata": {
    "collapsed": false
   },
   "outputs": [
    {
     "data": {
      "text/plain": [
       "VendorID                                   1\n",
       "lpep_pickup_datetime     2015-09-27 03:13:48\n",
       "Lpep_dropoff_datetime    2015-09-27 03:24:12\n",
       "Store_and_fwd_flag                         N\n",
       "RateCodeID                                 1\n",
       "Pickup_longitude                    -73.9372\n",
       "Pickup_latitude                      40.8044\n",
       "Dropoff_longitude                   -73.9014\n",
       "Dropoff_latitude                     40.8194\n",
       "Passenger_count                            1\n",
       "Trip_distance                          603.1\n",
       "Fare_amount                             1.25\n",
       "Extra                                    0.5\n",
       "MTA_tax                                  0.5\n",
       "Tip_amount                                 0\n",
       "Tolls_amount                               0\n",
       "Ehail_fee                                NaN\n",
       "improvement_surcharge                    0.3\n",
       "Total_amount                            2.55\n",
       "Payment_type                               2\n",
       "Trip_type                                  1\n",
       "Name: 1321961, dtype: object"
      ]
     },
     "execution_count": 18,
     "metadata": {},
     "output_type": "execute_result"
    }
   ],
   "source": [
    "trip.iloc[1321961,:]"
   ]
  },
  {
   "cell_type": "code",
   "execution_count": 28,
   "metadata": {
    "collapsed": false
   },
   "outputs": [],
   "source": [
    "col = ['lpep_pickup_datetime','Lpep_dropoff_datetime','Pickup_longitude','Pickup_latitude',\n",
    "       'Dropoff_longitude','Dropoff_latitude','Passenger_count','Trip_distance','Fare_amount',\n",
    "       'Tip_amount','Tolls_amount','Total_amount','Payment_type']"
   ]
  },
  {
   "cell_type": "code",
   "execution_count": 29,
   "metadata": {
    "collapsed": false
   },
   "outputs": [
    {
     "data": {
      "text/html": [
       "<div>\n",
       "<table border=\"1\" class=\"dataframe\">\n",
       "  <thead>\n",
       "    <tr style=\"text-align: right;\">\n",
       "      <th></th>\n",
       "      <th>lpep_pickup_datetime</th>\n",
       "      <th>Lpep_dropoff_datetime</th>\n",
       "      <th>Pickup_longitude</th>\n",
       "      <th>Pickup_latitude</th>\n",
       "      <th>Dropoff_longitude</th>\n",
       "      <th>Dropoff_latitude</th>\n",
       "      <th>Passenger_count</th>\n",
       "      <th>Trip_distance</th>\n",
       "      <th>Fare_amount</th>\n",
       "      <th>Tip_amount</th>\n",
       "      <th>Tolls_amount</th>\n",
       "      <th>Total_amount</th>\n",
       "      <th>Payment_type</th>\n",
       "    </tr>\n",
       "  </thead>\n",
       "  <tbody>\n",
       "    <tr>\n",
       "      <th>478080</th>\n",
       "      <td>2015-09-10 21:15:00</td>\n",
       "      <td>2015-09-11 00:52:07</td>\n",
       "      <td>-73.871719</td>\n",
       "      <td>40.771744</td>\n",
       "      <td>-76.121590</td>\n",
       "      <td>42.799343</td>\n",
       "      <td>1</td>\n",
       "      <td>246.28</td>\n",
       "      <td>300.00</td>\n",
       "      <td>77.44</td>\n",
       "      <td>9.75</td>\n",
       "      <td>387.19</td>\n",
       "      <td>1</td>\n",
       "    </tr>\n",
       "    <tr>\n",
       "      <th>516757</th>\n",
       "      <td>2015-09-11 17:22:50</td>\n",
       "      <td>2015-09-11 20:39:48</td>\n",
       "      <td>-73.937775</td>\n",
       "      <td>40.800926</td>\n",
       "      <td>-72.269753</td>\n",
       "      <td>40.928116</td>\n",
       "      <td>1</td>\n",
       "      <td>120.13</td>\n",
       "      <td>316.00</td>\n",
       "      <td>0.00</td>\n",
       "      <td>0.00</td>\n",
       "      <td>317.80</td>\n",
       "      <td>2</td>\n",
       "    </tr>\n",
       "    <tr>\n",
       "      <th>885097</th>\n",
       "      <td>2015-09-18 20:21:27</td>\n",
       "      <td>2015-09-18 22:36:04</td>\n",
       "      <td>-73.958954</td>\n",
       "      <td>40.819847</td>\n",
       "      <td>-72.258629</td>\n",
       "      <td>40.930805</td>\n",
       "      <td>1</td>\n",
       "      <td>100.74</td>\n",
       "      <td>258.50</td>\n",
       "      <td>0.00</td>\n",
       "      <td>0.00</td>\n",
       "      <td>259.80</td>\n",
       "      <td>2</td>\n",
       "    </tr>\n",
       "    <tr>\n",
       "      <th>944537</th>\n",
       "      <td>2015-09-19 18:49:29</td>\n",
       "      <td>2015-09-19 21:06:23</td>\n",
       "      <td>-73.961609</td>\n",
       "      <td>40.805958</td>\n",
       "      <td>-72.261024</td>\n",
       "      <td>41.917648</td>\n",
       "      <td>1</td>\n",
       "      <td>134.70</td>\n",
       "      <td>342.50</td>\n",
       "      <td>102.95</td>\n",
       "      <td>0.00</td>\n",
       "      <td>446.25</td>\n",
       "      <td>1</td>\n",
       "    </tr>\n",
       "    <tr>\n",
       "      <th>1077032</th>\n",
       "      <td>2015-09-22 10:30:53</td>\n",
       "      <td>2015-09-22 12:28:59</td>\n",
       "      <td>-73.898193</td>\n",
       "      <td>40.749580</td>\n",
       "      <td>-73.899033</td>\n",
       "      <td>40.746319</td>\n",
       "      <td>1</td>\n",
       "      <td>105.65</td>\n",
       "      <td>271.50</td>\n",
       "      <td>0.00</td>\n",
       "      <td>15.29</td>\n",
       "      <td>287.59</td>\n",
       "      <td>2</td>\n",
       "    </tr>\n",
       "    <tr>\n",
       "      <th>1282594</th>\n",
       "      <td>2015-09-26 17:23:52</td>\n",
       "      <td>2015-09-27 00:00:00</td>\n",
       "      <td>-73.803436</td>\n",
       "      <td>40.677845</td>\n",
       "      <td>-73.840210</td>\n",
       "      <td>40.719513</td>\n",
       "      <td>2</td>\n",
       "      <td>108.62</td>\n",
       "      <td>180.00</td>\n",
       "      <td>18.08</td>\n",
       "      <td>0.00</td>\n",
       "      <td>198.88</td>\n",
       "      <td>1</td>\n",
       "    </tr>\n",
       "    <tr>\n",
       "      <th>1321961</th>\n",
       "      <td>2015-09-27 03:13:48</td>\n",
       "      <td>2015-09-27 03:24:12</td>\n",
       "      <td>-73.937164</td>\n",
       "      <td>40.804386</td>\n",
       "      <td>-73.901382</td>\n",
       "      <td>40.819443</td>\n",
       "      <td>1</td>\n",
       "      <td>603.10</td>\n",
       "      <td>1.25</td>\n",
       "      <td>0.00</td>\n",
       "      <td>0.00</td>\n",
       "      <td>2.55</td>\n",
       "      <td>2</td>\n",
       "    </tr>\n",
       "    <tr>\n",
       "      <th>1416994</th>\n",
       "      <td>2015-09-29 10:45:52</td>\n",
       "      <td>2015-09-29 16:55:23</td>\n",
       "      <td>-73.931129</td>\n",
       "      <td>40.693161</td>\n",
       "      <td>-73.936172</td>\n",
       "      <td>40.685581</td>\n",
       "      <td>2</td>\n",
       "      <td>112.60</td>\n",
       "      <td>389.00</td>\n",
       "      <td>0.00</td>\n",
       "      <td>41.08</td>\n",
       "      <td>430.88</td>\n",
       "      <td>1</td>\n",
       "    </tr>\n",
       "    <tr>\n",
       "      <th>1432692</th>\n",
       "      <td>2015-09-29 17:01:17</td>\n",
       "      <td>2015-09-29 17:01:19</td>\n",
       "      <td>-73.936172</td>\n",
       "      <td>40.685581</td>\n",
       "      <td>-73.936172</td>\n",
       "      <td>40.685581</td>\n",
       "      <td>1</td>\n",
       "      <td>112.60</td>\n",
       "      <td>20.00</td>\n",
       "      <td>6.35</td>\n",
       "      <td>0.00</td>\n",
       "      <td>27.65</td>\n",
       "      <td>1</td>\n",
       "    </tr>\n",
       "    <tr>\n",
       "      <th>1457965</th>\n",
       "      <td>2015-09-30 09:42:56</td>\n",
       "      <td>2015-09-30 09:42:56</td>\n",
       "      <td>-73.914627</td>\n",
       "      <td>40.871475</td>\n",
       "      <td>-73.912315</td>\n",
       "      <td>40.872181</td>\n",
       "      <td>1</td>\n",
       "      <td>108.50</td>\n",
       "      <td>18.00</td>\n",
       "      <td>0.00</td>\n",
       "      <td>0.00</td>\n",
       "      <td>18.30</td>\n",
       "      <td>2</td>\n",
       "    </tr>\n",
       "  </tbody>\n",
       "</table>\n",
       "</div>"
      ],
      "text/plain": [
       "        lpep_pickup_datetime Lpep_dropoff_datetime  Pickup_longitude  \\\n",
       "478080   2015-09-10 21:15:00   2015-09-11 00:52:07        -73.871719   \n",
       "516757   2015-09-11 17:22:50   2015-09-11 20:39:48        -73.937775   \n",
       "885097   2015-09-18 20:21:27   2015-09-18 22:36:04        -73.958954   \n",
       "944537   2015-09-19 18:49:29   2015-09-19 21:06:23        -73.961609   \n",
       "1077032  2015-09-22 10:30:53   2015-09-22 12:28:59        -73.898193   \n",
       "1282594  2015-09-26 17:23:52   2015-09-27 00:00:00        -73.803436   \n",
       "1321961  2015-09-27 03:13:48   2015-09-27 03:24:12        -73.937164   \n",
       "1416994  2015-09-29 10:45:52   2015-09-29 16:55:23        -73.931129   \n",
       "1432692  2015-09-29 17:01:17   2015-09-29 17:01:19        -73.936172   \n",
       "1457965  2015-09-30 09:42:56   2015-09-30 09:42:56        -73.914627   \n",
       "\n",
       "         Pickup_latitude  Dropoff_longitude  Dropoff_latitude  \\\n",
       "478080         40.771744         -76.121590         42.799343   \n",
       "516757         40.800926         -72.269753         40.928116   \n",
       "885097         40.819847         -72.258629         40.930805   \n",
       "944537         40.805958         -72.261024         41.917648   \n",
       "1077032        40.749580         -73.899033         40.746319   \n",
       "1282594        40.677845         -73.840210         40.719513   \n",
       "1321961        40.804386         -73.901382         40.819443   \n",
       "1416994        40.693161         -73.936172         40.685581   \n",
       "1432692        40.685581         -73.936172         40.685581   \n",
       "1457965        40.871475         -73.912315         40.872181   \n",
       "\n",
       "         Passenger_count  Trip_distance  Fare_amount  Tip_amount  \\\n",
       "478080                 1         246.28       300.00       77.44   \n",
       "516757                 1         120.13       316.00        0.00   \n",
       "885097                 1         100.74       258.50        0.00   \n",
       "944537                 1         134.70       342.50      102.95   \n",
       "1077032                1         105.65       271.50        0.00   \n",
       "1282594                2         108.62       180.00       18.08   \n",
       "1321961                1         603.10         1.25        0.00   \n",
       "1416994                2         112.60       389.00        0.00   \n",
       "1432692                1         112.60        20.00        6.35   \n",
       "1457965                1         108.50        18.00        0.00   \n",
       "\n",
       "         Tolls_amount  Total_amount  Payment_type  \n",
       "478080           9.75        387.19             1  \n",
       "516757           0.00        317.80             2  \n",
       "885097           0.00        259.80             2  \n",
       "944537           0.00        446.25             1  \n",
       "1077032         15.29        287.59             2  \n",
       "1282594          0.00        198.88             1  \n",
       "1321961          0.00          2.55             2  \n",
       "1416994         41.08        430.88             1  \n",
       "1432692          0.00         27.65             1  \n",
       "1457965          0.00         18.30             2  "
      ]
     },
     "execution_count": 29,
     "metadata": {},
     "output_type": "execute_result"
    }
   ],
   "source": [
    "trip[trip.Trip_distance > 100][col]"
   ]
  },
  {
   "cell_type": "code",
   "execution_count": 30,
   "metadata": {
    "collapsed": true
   },
   "outputs": [],
   "source": [
    "# Remove outlier (600 miles)\n",
    "trip = trip[trip.Trip_distance < 600]"
   ]
  },
  {
   "cell_type": "code",
   "execution_count": 38,
   "metadata": {
    "collapsed": false
   },
   "outputs": [
    {
     "data": {
      "text/plain": [
       "<matplotlib.axes._subplots.AxesSubplot at 0x117f6cb50>"
      ]
     },
     "execution_count": 38,
     "metadata": {},
     "output_type": "execute_result"
    },
    {
     "data": {
      "image/png": "[encoded data removed]",
      "text/plain": [
       "<matplotlib.figure.Figure at 0x11798e450>"
      ]
     },
     "metadata": {},
     "output_type": "display_data"
    }
   ],
   "source": [
    "trip.Trip_distance.hist(bins=100)"
   ]
  },
  {
   "cell_type": "code",
   "execution_count": 44,
   "metadata": {
    "collapsed": false
   },
   "outputs": [
    {
     "data": {
      "text/plain": [
       "<matplotlib.axes._subplots.AxesSubplot at 0x11a1db950>"
      ]
     },
     "execution_count": 44,
     "metadata": {},
     "output_type": "execute_result"
    },
    {
     "data": {
      "image/png": "[encoded data removed]",
      "text/plain": [
       "<matplotlib.figure.Figure at 0x119daa5d0>"
      ]
     },
     "metadata": {},
     "output_type": "display_data"
    }
   ],
   "source": [
    "trip[trip.Trip_distance<40].Trip_distance.hist(bins=40)"
   ]
  },
  {
   "cell_type": "code",
   "execution_count": 46,
   "metadata": {
    "collapsed": false
   },
   "outputs": [
    {
     "data": {
      "text/plain": [
       "1.98"
      ]
     },
     "execution_count": 46,
     "metadata": {},
     "output_type": "execute_result"
    }
   ],
   "source": [
    "trip.Trip_distance.median()"
   ]
  },
  {
   "cell_type": "code",
   "execution_count": 32,
   "metadata": {
    "collapsed": false
   },
   "outputs": [
    {
     "data": {
      "text/plain": [
       "{'boxes': [<matplotlib.lines.Line2D at 0x113d59e10>],\n",
       " 'caps': [<matplotlib.lines.Line2D at 0x113d66bd0>,\n",
       "  <matplotlib.lines.Line2D at 0x113d74250>],\n",
       " 'fliers': [<matplotlib.lines.Line2D at 0x113d74ed0>],\n",
       " 'means': [],\n",
       " 'medians': [<matplotlib.lines.Line2D at 0x113d74890>],\n",
       " 'whiskers': [<matplotlib.lines.Line2D at 0x113d59d10>,\n",
       "  <matplotlib.lines.Line2D at 0x113d66590>]}"
      ]
     },
     "execution_count": 32,
     "metadata": {},
     "output_type": "execute_result"
    },
    {
     "data": {
      "image/png": "[encoded data removed]",
      "text/plain": [
       "<matplotlib.figure.Figure at 0x113720bd0>"
      ]
     },
     "metadata": {},
     "output_type": "display_data"
    }
   ],
   "source": [
    "plt.boxplot(trip.Trip_distance)"
   ]
  },
  {
   "cell_type": "code",
   "execution_count": 33,
   "metadata": {
    "collapsed": false
   },
   "outputs": [
    {
     "data": {
      "text/plain": [
       "VendorID                       0\n",
       "lpep_pickup_datetime           0\n",
       "Lpep_dropoff_datetime          0\n",
       "Store_and_fwd_flag             0\n",
       "RateCodeID                     0\n",
       "Pickup_longitude               0\n",
       "Pickup_latitude                0\n",
       "Dropoff_longitude              0\n",
       "Dropoff_latitude               0\n",
       "Passenger_count                0\n",
       "Trip_distance                  0\n",
       "Fare_amount                    0\n",
       "Extra                          0\n",
       "MTA_tax                        0\n",
       "Tip_amount                     0\n",
       "Tolls_amount                   0\n",
       "Ehail_fee                1494925\n",
       "improvement_surcharge          0\n",
       "Total_amount                   0\n",
       "Payment_type                   0\n",
       "Trip_type                      4\n",
       "dtype: int64"
      ]
     },
     "execution_count": 33,
     "metadata": {},
     "output_type": "execute_result"
    }
   ],
   "source": [
    "trip.isnull().sum()"
   ]
  },
  {
   "cell_type": "code",
   "execution_count": 48,
   "metadata": {
    "collapsed": false
   },
   "outputs": [
    {
     "data": {
      "text/plain": [
       "(602770, 892155, 1494925)"
      ]
     },
     "execution_count": 48,
     "metadata": {},
     "output_type": "execute_result"
    }
   ],
   "source": [
    "len(trip[trip.Tip_amount!=0]), len(trip[trip.Tip_amount==0]), len(trip)"
   ]
  },
  {
   "cell_type": "code",
   "execution_count": 49,
   "metadata": {
    "collapsed": false
   },
   "outputs": [
    {
     "data": {
      "text/plain": [
       "14277"
      ]
     },
     "execution_count": 49,
     "metadata": {},
     "output_type": "execute_result"
    }
   ],
   "source": [
    "len(trip[(trip.Tip_amount>0) & (trip.Tip_amount<1)])"
   ]
  },
  {
   "cell_type": "code",
   "execution_count": 52,
   "metadata": {
    "collapsed": true
   },
   "outputs": [],
   "source": [
    "trip['Tip_percentage'] = trip['Tip_amount'] / trip['Total_amount']"
   ]
  },
  {
   "cell_type": "code",
   "execution_count": 53,
   "metadata": {
    "collapsed": false
   },
   "outputs": [
    {
     "data": {
      "text/plain": [
       "count    602732.000000\n",
       "mean          0.164551\n",
       "std           0.057855\n",
       "min           0.000083\n",
       "25%           0.161290\n",
       "50%           0.166667\n",
       "75%           0.166708\n",
       "max           1.000000\n",
       "Name: Tip_percentage, dtype: float64"
      ]
     },
     "execution_count": 53,
     "metadata": {},
     "output_type": "execute_result"
    }
   ],
   "source": [
    "trip[trip.Tip_amount>0]['Tip_percentage'].describe()"
   ]
  },
  {
   "cell_type": "code",
   "execution_count": null,
   "metadata": {
    "collapsed": true
   },
   "outputs": [],
   "source": []
  }
 ],
 "metadata": {
  "kernelspec": {
   "display_name": "Python 2",
   "language": "python",
   "name": "python2"
  },
  "language_info": {
   "codemirror_mode": {
    "name": "ipython",
    "version": 2
   },
   "file_extension": ".py",
   "mimetype": "text/x-python",
   "name": "python",
   "nbconvert_exporter": "python",
   "pygments_lexer": "ipython2",
   "version": "2.7.10"
  }
 },
 "nbformat": 4,
 "nbformat_minor": 0
}
