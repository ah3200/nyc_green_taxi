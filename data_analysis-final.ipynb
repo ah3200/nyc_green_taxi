{
 "cells": [
  {
   "cell_type": "markdown",
   "metadata": {},
   "source": [
    "### Required Questions: Please answer completely all four required questions.\n",
    "\n",
    "#### Question 1\n",
    "Programmatically download and load into your favorite analytical tool the trip data for September 2015.\n",
    "Report how many rows and columns of data you have loaded.\n",
    "\n",
    "#### Question 2\n",
    "Plot a histogram of the number of the trip distance (\"Trip Distance\").\n",
    "Report any structure you find and any hypotheses you have about that structure.\n",
    "\n",
    "#### Question 3\n",
    "Report mean and median trip distance grouped by hour of day.\n",
    "We'd like to get a rough sense of identifying trips that originate or terminate at one of the NYC area airports. Can you provide a count of how many transactions fit this criteria, the average fair, and any other interesting characteristics of these trips.\n",
    "\n",
    "#### Question 4\n",
    "Build a derived variable for tip as a percentage of the total fare.\n",
    "Build a predictive model for tip as a percentage of the total fare. Use as much of the data as you like (or all of it). We will validate a sample."
   ]
  },
  {
   "cell_type": "code",
   "execution_count": 21,
   "metadata": {
    "collapsed": true
   },
   "outputs": [],
   "source": [
    "import pandas as pd\n",
    "import numpy as np\n",
    "\n",
    "import matplotlib.pyplot as plt\n",
    "%matplotlib inline\n",
    "import seaborn as sns"
   ]
  },
  {
   "cell_type": "markdown",
   "metadata": {},
   "source": [
    "#### Question 1\n",
    "Programmatically download and load into your favorite analytical tool the trip data for September 2015.\n",
    "Report how many rows and columns of data you have loaded."
   ]
  },
  {
   "cell_type": "code",
   "execution_count": 22,
   "metadata": {
    "collapsed": true
   },
   "outputs": [],
   "source": [
    "# Dataset can be loaded from url provided by TLC\n",
    "#url = \"https://s3.amazonaws.com/nyc-tlc/trip+data/green_tripdata_2015-09.csv\"\n",
    "# In this notebook, the data has been downloaded to local computer\n",
    "trips = pd.read_csv('./data/green_tripdata_2015-09.csv')"
   ]
  },
  {
   "cell_type": "code",
   "execution_count": 23,
   "metadata": {},
   "outputs": [
    {
     "name": "stdout",
     "output_type": "stream",
     "text": [
      "Number of rows = 1494926\n",
      "Number of columns = 21\n"
     ]
    }
   ],
   "source": [
    "# Inspect number of rows/columns\n",
    "print \"Number of rows = %i\" % (trips.shape[0])\n",
    "print \"Number of columns = %i\" % (trips.shape[1])"
   ]
  },
  {
   "cell_type": "code",
   "execution_count": 24,
   "metadata": {},
   "outputs": [
    {
     "name": "stdout",
     "output_type": "stream",
     "text": [
      "Index([u'VendorID', u'lpep_pickup_datetime', u'Lpep_dropoff_datetime',\n",
      "       u'Store_and_fwd_flag', u'RateCodeID', u'Pickup_longitude',\n",
      "       u'Pickup_latitude', u'Dropoff_longitude', u'Dropoff_latitude',\n",
      "       u'Passenger_count', u'Trip_distance', u'Fare_amount', u'Extra',\n",
      "       u'MTA_tax', u'Tip_amount', u'Tolls_amount', u'Ehail_fee',\n",
      "       u'improvement_surcharge', u'Total_amount', u'Payment_type',\n",
      "       u'Trip_type '],\n",
      "      dtype='object')\n"
     ]
    }
   ],
   "source": [
    "# I also examined column description\n",
    "# Data dictionaries can be found at \n",
    "# http://www.nyc.gov/html/tlc/downloads/pdf/data_dictionary_trip_records_green.pdf\n",
    "print trips.columns"
   ]
  },
  {
   "cell_type": "code",
   "execution_count": 25,
   "metadata": {},
   "outputs": [
    {
     "data": {
      "text/html": [
       "<div>\n",
       "<style>\n",
       "    .dataframe thead tr:only-child th {\n",
       "        text-align: right;\n",
       "    }\n",
       "\n",
       "    .dataframe thead th {\n",
       "        text-align: left;\n",
       "    }\n",
       "\n",
       "    .dataframe tbody tr th {\n",
       "        vertical-align: top;\n",
       "    }\n",
       "</style>\n",
       "<table border=\"1\" class=\"dataframe\">\n",
       "  <thead>\n",
       "    <tr style=\"text-align: right;\">\n",
       "      <th></th>\n",
       "      <th>VendorID</th>\n",
       "      <th>lpep_pickup_datetime</th>\n",
       "      <th>Lpep_dropoff_datetime</th>\n",
       "      <th>Store_and_fwd_flag</th>\n",
       "      <th>RateCodeID</th>\n",
       "      <th>Pickup_longitude</th>\n",
       "      <th>Pickup_latitude</th>\n",
       "      <th>Dropoff_longitude</th>\n",
       "      <th>Dropoff_latitude</th>\n",
       "      <th>Passenger_count</th>\n",
       "      <th>...</th>\n",
       "      <th>Fare_amount</th>\n",
       "      <th>Extra</th>\n",
       "      <th>MTA_tax</th>\n",
       "      <th>Tip_amount</th>\n",
       "      <th>Tolls_amount</th>\n",
       "      <th>Ehail_fee</th>\n",
       "      <th>improvement_surcharge</th>\n",
       "      <th>Total_amount</th>\n",
       "      <th>Payment_type</th>\n",
       "      <th>Trip_type</th>\n",
       "    </tr>\n",
       "  </thead>\n",
       "  <tbody>\n",
       "    <tr>\n",
       "      <th>0</th>\n",
       "      <td>2</td>\n",
       "      <td>2015-09-01 00:02:34</td>\n",
       "      <td>2015-09-01 00:02:38</td>\n",
       "      <td>N</td>\n",
       "      <td>5</td>\n",
       "      <td>-73.979485</td>\n",
       "      <td>40.684956</td>\n",
       "      <td>-73.979431</td>\n",
       "      <td>40.685020</td>\n",
       "      <td>1</td>\n",
       "      <td>...</td>\n",
       "      <td>7.8</td>\n",
       "      <td>0.0</td>\n",
       "      <td>0.0</td>\n",
       "      <td>1.95</td>\n",
       "      <td>0.0</td>\n",
       "      <td>NaN</td>\n",
       "      <td>0.0</td>\n",
       "      <td>9.75</td>\n",
       "      <td>1</td>\n",
       "      <td>2.0</td>\n",
       "    </tr>\n",
       "    <tr>\n",
       "      <th>1</th>\n",
       "      <td>2</td>\n",
       "      <td>2015-09-01 00:04:20</td>\n",
       "      <td>2015-09-01 00:04:24</td>\n",
       "      <td>N</td>\n",
       "      <td>5</td>\n",
       "      <td>-74.010796</td>\n",
       "      <td>40.912216</td>\n",
       "      <td>-74.010780</td>\n",
       "      <td>40.912212</td>\n",
       "      <td>1</td>\n",
       "      <td>...</td>\n",
       "      <td>45.0</td>\n",
       "      <td>0.0</td>\n",
       "      <td>0.0</td>\n",
       "      <td>0.00</td>\n",
       "      <td>0.0</td>\n",
       "      <td>NaN</td>\n",
       "      <td>0.0</td>\n",
       "      <td>45.00</td>\n",
       "      <td>1</td>\n",
       "      <td>2.0</td>\n",
       "    </tr>\n",
       "    <tr>\n",
       "      <th>2</th>\n",
       "      <td>2</td>\n",
       "      <td>2015-09-01 00:01:50</td>\n",
       "      <td>2015-09-01 00:04:24</td>\n",
       "      <td>N</td>\n",
       "      <td>1</td>\n",
       "      <td>-73.921410</td>\n",
       "      <td>40.766708</td>\n",
       "      <td>-73.914413</td>\n",
       "      <td>40.764687</td>\n",
       "      <td>1</td>\n",
       "      <td>...</td>\n",
       "      <td>4.0</td>\n",
       "      <td>0.5</td>\n",
       "      <td>0.5</td>\n",
       "      <td>0.50</td>\n",
       "      <td>0.0</td>\n",
       "      <td>NaN</td>\n",
       "      <td>0.3</td>\n",
       "      <td>5.80</td>\n",
       "      <td>1</td>\n",
       "      <td>1.0</td>\n",
       "    </tr>\n",
       "    <tr>\n",
       "      <th>3</th>\n",
       "      <td>2</td>\n",
       "      <td>2015-09-01 00:02:36</td>\n",
       "      <td>2015-09-01 00:06:42</td>\n",
       "      <td>N</td>\n",
       "      <td>1</td>\n",
       "      <td>-73.921387</td>\n",
       "      <td>40.766678</td>\n",
       "      <td>-73.931427</td>\n",
       "      <td>40.771584</td>\n",
       "      <td>1</td>\n",
       "      <td>...</td>\n",
       "      <td>5.0</td>\n",
       "      <td>0.5</td>\n",
       "      <td>0.5</td>\n",
       "      <td>0.00</td>\n",
       "      <td>0.0</td>\n",
       "      <td>NaN</td>\n",
       "      <td>0.3</td>\n",
       "      <td>6.30</td>\n",
       "      <td>2</td>\n",
       "      <td>1.0</td>\n",
       "    </tr>\n",
       "    <tr>\n",
       "      <th>4</th>\n",
       "      <td>2</td>\n",
       "      <td>2015-09-01 00:00:14</td>\n",
       "      <td>2015-09-01 00:04:20</td>\n",
       "      <td>N</td>\n",
       "      <td>1</td>\n",
       "      <td>-73.955482</td>\n",
       "      <td>40.714046</td>\n",
       "      <td>-73.944412</td>\n",
       "      <td>40.714729</td>\n",
       "      <td>1</td>\n",
       "      <td>...</td>\n",
       "      <td>5.0</td>\n",
       "      <td>0.5</td>\n",
       "      <td>0.5</td>\n",
       "      <td>0.00</td>\n",
       "      <td>0.0</td>\n",
       "      <td>NaN</td>\n",
       "      <td>0.3</td>\n",
       "      <td>6.30</td>\n",
       "      <td>2</td>\n",
       "      <td>1.0</td>\n",
       "    </tr>\n",
       "  </tbody>\n",
       "</table>\n",
       "<p>5 rows × 21 columns</p>\n",
       "</div>"
      ],
      "text/plain": [
       "   VendorID lpep_pickup_datetime Lpep_dropoff_datetime Store_and_fwd_flag  \\\n",
       "0         2  2015-09-01 00:02:34   2015-09-01 00:02:38                  N   \n",
       "1         2  2015-09-01 00:04:20   2015-09-01 00:04:24                  N   \n",
       "2         2  2015-09-01 00:01:50   2015-09-01 00:04:24                  N   \n",
       "3         2  2015-09-01 00:02:36   2015-09-01 00:06:42                  N   \n",
       "4         2  2015-09-01 00:00:14   2015-09-01 00:04:20                  N   \n",
       "\n",
       "   RateCodeID  Pickup_longitude  Pickup_latitude  Dropoff_longitude  \\\n",
       "0           5        -73.979485        40.684956         -73.979431   \n",
       "1           5        -74.010796        40.912216         -74.010780   \n",
       "2           1        -73.921410        40.766708         -73.914413   \n",
       "3           1        -73.921387        40.766678         -73.931427   \n",
       "4           1        -73.955482        40.714046         -73.944412   \n",
       "\n",
       "   Dropoff_latitude  Passenger_count     ...      Fare_amount  Extra  MTA_tax  \\\n",
       "0         40.685020                1     ...              7.8    0.0      0.0   \n",
       "1         40.912212                1     ...             45.0    0.0      0.0   \n",
       "2         40.764687                1     ...              4.0    0.5      0.5   \n",
       "3         40.771584                1     ...              5.0    0.5      0.5   \n",
       "4         40.714729                1     ...              5.0    0.5      0.5   \n",
       "\n",
       "   Tip_amount  Tolls_amount  Ehail_fee  improvement_surcharge  Total_amount  \\\n",
       "0        1.95           0.0        NaN                    0.0          9.75   \n",
       "1        0.00           0.0        NaN                    0.0         45.00   \n",
       "2        0.50           0.0        NaN                    0.3          5.80   \n",
       "3        0.00           0.0        NaN                    0.3          6.30   \n",
       "4        0.00           0.0        NaN                    0.3          6.30   \n",
       "\n",
       "   Payment_type  Trip_type   \n",
       "0             1         2.0  \n",
       "1             1         2.0  \n",
       "2             1         1.0  \n",
       "3             2         1.0  \n",
       "4             2         1.0  \n",
       "\n",
       "[5 rows x 21 columns]"
      ]
     },
     "execution_count": 25,
     "metadata": {},
     "output_type": "execute_result"
    }
   ],
   "source": [
    "# A quick look on data\n",
    "trips.head()"
   ]
  },
  {
   "cell_type": "code",
   "execution_count": 26,
   "metadata": {},
   "outputs": [
    {
     "data": {
      "text/plain": [
       "VendorID                       0\n",
       "lpep_pickup_datetime           0\n",
       "Lpep_dropoff_datetime          0\n",
       "Store_and_fwd_flag             0\n",
       "RateCodeID                     0\n",
       "Pickup_longitude               0\n",
       "Pickup_latitude                0\n",
       "Dropoff_longitude              0\n",
       "Dropoff_latitude               0\n",
       "Passenger_count                0\n",
       "Trip_distance                  0\n",
       "Fare_amount                    0\n",
       "Extra                          0\n",
       "MTA_tax                        0\n",
       "Tip_amount                     0\n",
       "Tolls_amount                   0\n",
       "Ehail_fee                1494926\n",
       "improvement_surcharge          0\n",
       "Total_amount                   0\n",
       "Payment_type                   0\n",
       "Trip_type                      4\n",
       "dtype: int64"
      ]
     },
     "execution_count": 26,
     "metadata": {},
     "output_type": "execute_result"
    }
   ],
   "source": [
    "# Check the completeness of data\n",
    "trips.isnull().sum()"
   ]
  },
  {
   "cell_type": "markdown",
   "metadata": {},
   "source": [
    "It seems the data completeness is very good. Only the field 'Ehail_fee' is null for all rows. There is no definition of this field in data dictionaries so we will ignore this field in the analysis and modeling"
   ]
  },
  {
   "cell_type": "markdown",
   "metadata": {},
   "source": [
    "#### Question 2\n",
    "Plot a histogram of the number of the trip distance (\"Trip Distance\").\n",
    "Report any structure you find and any hypotheses you have about that structure."
   ]
  },
  {
   "cell_type": "code",
   "execution_count": 27,
   "metadata": {},
   "outputs": [
    {
     "name": "stdout",
     "output_type": "stream",
     "text": [
      "Mean = 2.968\n",
      "Standard deviation = 3.077\n",
      "Median = 1.980\n",
      "Min = 0.000\n",
      "Max = 603.100\n"
     ]
    }
   ],
   "source": [
    "# Summary statistics\n",
    "print \"Mean = %.3f\" % trips.Trip_distance.mean()\n",
    "print \"Standard deviation = %.3f\" % trips.Trip_distance.std()\n",
    "print \"Median = %.3f\" % trips.Trip_distance.median()\n",
    "print \"Min = %.3f\" % trips.Trip_distance.min()\n",
    "print \"Max = %.3f\" % trips.Trip_distance.max()"
   ]
  },
  {
   "cell_type": "code",
   "execution_count": 28,
   "metadata": {},
   "outputs": [
    {
     "data": {
      "image/png": "[encoded data removed]",
      "text/plain": [
       "<matplotlib.figure.Figure at 0x7fd80605b810>"
      ]
     },
     "metadata": {},
     "output_type": "display_data"
    }
   ],
   "source": [
    "# Plot histogram and Box-plot to visualize Trip_distance\n",
    "# Create a figure instance, and the two subplots\n",
    "fig = plt.figure(figsize = (20,4))\n",
    "ax1 = fig.add_subplot(121)\n",
    "ax2 = fig.add_subplot(122)\n",
    "\n",
    "p1 = trips.Trip_distance.hist(bins=100, ax=ax1)\n",
    "p2 = sns.boxplot(trips.Trip_distance, ax=ax2)"
   ]
  },
  {
   "cell_type": "code",
   "execution_count": 29,
   "metadata": {
    "collapsed": true
   },
   "outputs": [],
   "source": [
    "check_col = ['lpep_pickup_datetime','Lpep_dropoff_datetime','Pickup_longitude','Pickup_latitude',\n",
    "       'Dropoff_longitude','Dropoff_latitude','RateCodeID','Passenger_count','Trip_distance','Fare_amount',\n",
    "       'Tip_amount','Tolls_amount','Total_amount','Payment_type']"
   ]
  },
  {
   "cell_type": "code",
   "execution_count": 30,
   "metadata": {},
   "outputs": [
    {
     "data": {
      "text/html": [
       "<div>\n",
       "<style>\n",
       "    .dataframe thead tr:only-child th {\n",
       "        text-align: right;\n",
       "    }\n",
       "\n",
       "    .dataframe thead th {\n",
       "        text-align: left;\n",
       "    }\n",
       "\n",
       "    .dataframe tbody tr th {\n",
       "        vertical-align: top;\n",
       "    }\n",
       "</style>\n",
       "<table border=\"1\" class=\"dataframe\">\n",
       "  <thead>\n",
       "    <tr style=\"text-align: right;\">\n",
       "      <th></th>\n",
       "      <th>lpep_pickup_datetime</th>\n",
       "      <th>Lpep_dropoff_datetime</th>\n",
       "      <th>Pickup_longitude</th>\n",
       "      <th>Pickup_latitude</th>\n",
       "      <th>Dropoff_longitude</th>\n",
       "      <th>Dropoff_latitude</th>\n",
       "      <th>RateCodeID</th>\n",
       "      <th>Passenger_count</th>\n",
       "      <th>Trip_distance</th>\n",
       "      <th>Fare_amount</th>\n",
       "      <th>Tip_amount</th>\n",
       "      <th>Tolls_amount</th>\n",
       "      <th>Total_amount</th>\n",
       "      <th>Payment_type</th>\n",
       "    </tr>\n",
       "  </thead>\n",
       "  <tbody>\n",
       "    <tr>\n",
       "      <th>478080</th>\n",
       "      <td>2015-09-10 21:15:00</td>\n",
       "      <td>2015-09-11 00:52:07</td>\n",
       "      <td>-73.871719</td>\n",
       "      <td>40.771744</td>\n",
       "      <td>-76.121590</td>\n",
       "      <td>42.799343</td>\n",
       "      <td>5</td>\n",
       "      <td>1</td>\n",
       "      <td>246.28</td>\n",
       "      <td>300.00</td>\n",
       "      <td>77.44</td>\n",
       "      <td>9.75</td>\n",
       "      <td>387.19</td>\n",
       "      <td>1</td>\n",
       "    </tr>\n",
       "    <tr>\n",
       "      <th>516757</th>\n",
       "      <td>2015-09-11 17:22:50</td>\n",
       "      <td>2015-09-11 20:39:48</td>\n",
       "      <td>-73.937775</td>\n",
       "      <td>40.800926</td>\n",
       "      <td>-72.269753</td>\n",
       "      <td>40.928116</td>\n",
       "      <td>1</td>\n",
       "      <td>1</td>\n",
       "      <td>120.13</td>\n",
       "      <td>316.00</td>\n",
       "      <td>0.00</td>\n",
       "      <td>0.00</td>\n",
       "      <td>317.80</td>\n",
       "      <td>2</td>\n",
       "    </tr>\n",
       "    <tr>\n",
       "      <th>885097</th>\n",
       "      <td>2015-09-18 20:21:27</td>\n",
       "      <td>2015-09-18 22:36:04</td>\n",
       "      <td>-73.958954</td>\n",
       "      <td>40.819847</td>\n",
       "      <td>-72.258629</td>\n",
       "      <td>40.930805</td>\n",
       "      <td>1</td>\n",
       "      <td>1</td>\n",
       "      <td>100.74</td>\n",
       "      <td>258.50</td>\n",
       "      <td>0.00</td>\n",
       "      <td>0.00</td>\n",
       "      <td>259.80</td>\n",
       "      <td>2</td>\n",
       "    </tr>\n",
       "    <tr>\n",
       "      <th>944537</th>\n",
       "      <td>2015-09-19 18:49:29</td>\n",
       "      <td>2015-09-19 21:06:23</td>\n",
       "      <td>-73.961609</td>\n",
       "      <td>40.805958</td>\n",
       "      <td>-72.261024</td>\n",
       "      <td>41.917648</td>\n",
       "      <td>1</td>\n",
       "      <td>1</td>\n",
       "      <td>134.70</td>\n",
       "      <td>342.50</td>\n",
       "      <td>102.95</td>\n",
       "      <td>0.00</td>\n",
       "      <td>446.25</td>\n",
       "      <td>1</td>\n",
       "    </tr>\n",
       "    <tr>\n",
       "      <th>1077032</th>\n",
       "      <td>2015-09-22 10:30:53</td>\n",
       "      <td>2015-09-22 12:28:59</td>\n",
       "      <td>-73.898193</td>\n",
       "      <td>40.749580</td>\n",
       "      <td>-73.899033</td>\n",
       "      <td>40.746319</td>\n",
       "      <td>1</td>\n",
       "      <td>1</td>\n",
       "      <td>105.65</td>\n",
       "      <td>271.50</td>\n",
       "      <td>0.00</td>\n",
       "      <td>15.29</td>\n",
       "      <td>287.59</td>\n",
       "      <td>2</td>\n",
       "    </tr>\n",
       "    <tr>\n",
       "      <th>1282594</th>\n",
       "      <td>2015-09-26 17:23:52</td>\n",
       "      <td>2015-09-27 00:00:00</td>\n",
       "      <td>-73.803436</td>\n",
       "      <td>40.677845</td>\n",
       "      <td>-73.840210</td>\n",
       "      <td>40.719513</td>\n",
       "      <td>5</td>\n",
       "      <td>2</td>\n",
       "      <td>108.62</td>\n",
       "      <td>180.00</td>\n",
       "      <td>18.08</td>\n",
       "      <td>0.00</td>\n",
       "      <td>198.88</td>\n",
       "      <td>1</td>\n",
       "    </tr>\n",
       "    <tr>\n",
       "      <th>1321961</th>\n",
       "      <td>2015-09-27 03:13:48</td>\n",
       "      <td>2015-09-27 03:24:12</td>\n",
       "      <td>-73.937164</td>\n",
       "      <td>40.804386</td>\n",
       "      <td>-73.901382</td>\n",
       "      <td>40.819443</td>\n",
       "      <td>1</td>\n",
       "      <td>1</td>\n",
       "      <td>603.10</td>\n",
       "      <td>1.25</td>\n",
       "      <td>0.00</td>\n",
       "      <td>0.00</td>\n",
       "      <td>2.55</td>\n",
       "      <td>2</td>\n",
       "    </tr>\n",
       "    <tr>\n",
       "      <th>1416994</th>\n",
       "      <td>2015-09-29 10:45:52</td>\n",
       "      <td>2015-09-29 16:55:23</td>\n",
       "      <td>-73.931129</td>\n",
       "      <td>40.693161</td>\n",
       "      <td>-73.936172</td>\n",
       "      <td>40.685581</td>\n",
       "      <td>1</td>\n",
       "      <td>2</td>\n",
       "      <td>112.60</td>\n",
       "      <td>389.00</td>\n",
       "      <td>0.00</td>\n",
       "      <td>41.08</td>\n",
       "      <td>430.88</td>\n",
       "      <td>1</td>\n",
       "    </tr>\n",
       "    <tr>\n",
       "      <th>1432692</th>\n",
       "      <td>2015-09-29 17:01:17</td>\n",
       "      <td>2015-09-29 17:01:19</td>\n",
       "      <td>-73.936172</td>\n",
       "      <td>40.685581</td>\n",
       "      <td>-73.936172</td>\n",
       "      <td>40.685581</td>\n",
       "      <td>3</td>\n",
       "      <td>1</td>\n",
       "      <td>112.60</td>\n",
       "      <td>20.00</td>\n",
       "      <td>6.35</td>\n",
       "      <td>0.00</td>\n",
       "      <td>27.65</td>\n",
       "      <td>1</td>\n",
       "    </tr>\n",
       "    <tr>\n",
       "      <th>1457965</th>\n",
       "      <td>2015-09-30 09:42:56</td>\n",
       "      <td>2015-09-30 09:42:56</td>\n",
       "      <td>-73.914627</td>\n",
       "      <td>40.871475</td>\n",
       "      <td>-73.912315</td>\n",
       "      <td>40.872181</td>\n",
       "      <td>5</td>\n",
       "      <td>1</td>\n",
       "      <td>108.50</td>\n",
       "      <td>18.00</td>\n",
       "      <td>0.00</td>\n",
       "      <td>0.00</td>\n",
       "      <td>18.30</td>\n",
       "      <td>2</td>\n",
       "    </tr>\n",
       "  </tbody>\n",
       "</table>\n",
       "</div>"
      ],
      "text/plain": [
       "        lpep_pickup_datetime Lpep_dropoff_datetime  Pickup_longitude  \\\n",
       "478080   2015-09-10 21:15:00   2015-09-11 00:52:07        -73.871719   \n",
       "516757   2015-09-11 17:22:50   2015-09-11 20:39:48        -73.937775   \n",
       "885097   2015-09-18 20:21:27   2015-09-18 22:36:04        -73.958954   \n",
       "944537   2015-09-19 18:49:29   2015-09-19 21:06:23        -73.961609   \n",
       "1077032  2015-09-22 10:30:53   2015-09-22 12:28:59        -73.898193   \n",
       "1282594  2015-09-26 17:23:52   2015-09-27 00:00:00        -73.803436   \n",
       "1321961  2015-09-27 03:13:48   2015-09-27 03:24:12        -73.937164   \n",
       "1416994  2015-09-29 10:45:52   2015-09-29 16:55:23        -73.931129   \n",
       "1432692  2015-09-29 17:01:17   2015-09-29 17:01:19        -73.936172   \n",
       "1457965  2015-09-30 09:42:56   2015-09-30 09:42:56        -73.914627   \n",
       "\n",
       "         Pickup_latitude  Dropoff_longitude  Dropoff_latitude  RateCodeID  \\\n",
       "478080         40.771744         -76.121590         42.799343           5   \n",
       "516757         40.800926         -72.269753         40.928116           1   \n",
       "885097         40.819847         -72.258629         40.930805           1   \n",
       "944537         40.805958         -72.261024         41.917648           1   \n",
       "1077032        40.749580         -73.899033         40.746319           1   \n",
       "1282594        40.677845         -73.840210         40.719513           5   \n",
       "1321961        40.804386         -73.901382         40.819443           1   \n",
       "1416994        40.693161         -73.936172         40.685581           1   \n",
       "1432692        40.685581         -73.936172         40.685581           3   \n",
       "1457965        40.871475         -73.912315         40.872181           5   \n",
       "\n",
       "         Passenger_count  Trip_distance  Fare_amount  Tip_amount  \\\n",
       "478080                 1         246.28       300.00       77.44   \n",
       "516757                 1         120.13       316.00        0.00   \n",
       "885097                 1         100.74       258.50        0.00   \n",
       "944537                 1         134.70       342.50      102.95   \n",
       "1077032                1         105.65       271.50        0.00   \n",
       "1282594                2         108.62       180.00       18.08   \n",
       "1321961                1         603.10         1.25        0.00   \n",
       "1416994                2         112.60       389.00        0.00   \n",
       "1432692                1         112.60        20.00        6.35   \n",
       "1457965                1         108.50        18.00        0.00   \n",
       "\n",
       "         Tolls_amount  Total_amount  Payment_type  \n",
       "478080           9.75        387.19             1  \n",
       "516757           0.00        317.80             2  \n",
       "885097           0.00        259.80             2  \n",
       "944537           0.00        446.25             1  \n",
       "1077032         15.29        287.59             2  \n",
       "1282594          0.00        198.88             1  \n",
       "1321961          0.00          2.55             2  \n",
       "1416994         41.08        430.88             1  \n",
       "1432692          0.00         27.65             1  \n",
       "1457965          0.00         18.30             2  "
      ]
     },
     "execution_count": 30,
     "metadata": {},
     "output_type": "execute_result"
    }
   ],
   "source": [
    "# Let's also check rows with Trip distance > 100 miles to see if they are valid outliers\n",
    "trips[trips.Trip_distance > 100][check_col]"
   ]
  },
  {
   "cell_type": "markdown",
   "metadata": {},
   "source": [
    "There seems to be an unusual data point: Trip distance is 603.1 miles but the fare amount is only 1.25. Let's also check rows with Trip distance > 100 miles to see if they are valid outliers. It is likely to be caused by data entry error. Also, there are two data points with trip distance of 112.60 and 108.50 miles but the fare amounts of \\$20 and \\$18 respectively. These two data points seem unusual as well. \n",
    "\n",
    "However, at this point, we will only remove that one data point which we are confident that it's an outlier due to data entry error"
   ]
  },
  {
   "cell_type": "code",
   "execution_count": 31,
   "metadata": {
    "collapsed": true
   },
   "outputs": [],
   "source": [
    "# Remove outlier (600 miles) and assign new dataframe 'clean_trips'\n",
    "clean_trips = trips[trips.Trip_distance < 600]"
   ]
  },
  {
   "cell_type": "code",
   "execution_count": 32,
   "metadata": {},
   "outputs": [
    {
     "data": {
      "image/png": "[encoded data removed]",
      "text/plain": [
       "<matplotlib.figure.Figure at 0x7fd80605b990>"
      ]
     },
     "metadata": {},
     "output_type": "display_data"
    }
   ],
   "source": [
    "# To better visualize the trip distance in general we will only plot histogram for \n",
    "# the trips with trip distance less than 100 miles\n",
    "fig = plt.figure(figsize = (20,4))\n",
    "ax1 = fig.add_subplot(121)\n",
    "ax2 = fig.add_subplot(122)\n",
    "p1 = clean_trips[clean_trips.Trip_distance < 100].Trip_distance.hist(bins=100, ax=ax1)\n",
    "p2 = sns.boxplot(clean_trips[clean_trips.Trip_distance < 100].Trip_distance, ax=ax2)"
   ]
  },
  {
   "cell_type": "markdown",
   "metadata": {},
   "source": [
    "By plotting only the data points where the trip distance is less than 100 miles, we can see clearer visualization on the trip distance distribution\n",
    "\n",
    "In summary, the trip distance data has right-skewed distribution, where mean (2.968 miles) is less than median (1.980 miles). In this case, median would be better measure of the average trip distance. We can say that the average trip distance of the green taxis's trips in September 2015 is about 2 miles."
   ]
  },
  {
   "cell_type": "markdown",
   "metadata": {},
   "source": [
    "#### Question 3\n",
    "Report mean and median trip distance grouped by hour of day.\n",
    "We'd like to get a rough sense of identifying trips that originate or terminate at one of the NYC area airports. Can you provide a count of how many transactions fit this criteria, the average fair, and any other interesting characteristics of these trips."
   ]
  },
  {
   "cell_type": "markdown",
   "metadata": {},
   "source": [
    "##### Mean and median trip distance grouped by hour of day\n",
    "We will use hour from pickup date/time (lpep_pickup_datetime) field"
   ]
  },
  {
   "cell_type": "code",
   "execution_count": 44,
   "metadata": {},
   "outputs": [
    {
     "data": {
      "text/plain": [
       "('2015-09-30 23:59:58', '2015-09-01 00:00:00')"
      ]
     },
     "execution_count": 44,
     "metadata": {},
     "output_type": "execute_result"
    }
   ],
   "source": [
    "clean_trips['lpep_pickup_datetime'].max(), clean_trips['lpep_pickup_datetime'].min()"
   ]
  },
  {
   "cell_type": "code",
   "execution_count": 45,
   "metadata": {},
   "outputs": [
    {
     "name": "stderr",
     "output_type": "stream",
     "text": [
      "/usr/local/lib/python2.7/dist-packages/ipykernel_launcher.py:3: SettingWithCopyWarning: \n",
      "A value is trying to be set on a copy of a slice from a DataFrame.\n",
      "Try using .loc[row_indexer,col_indexer] = value instead\n",
      "\n",
      "See the caveats in the documentation: http://pandas.pydata.org/pandas-docs/stable/indexing.html#indexing-view-versus-copy\n",
      "  This is separate from the ipykernel package so we can avoid doing imports until\n",
      "/usr/local/lib/python2.7/dist-packages/ipykernel_launcher.py:4: SettingWithCopyWarning: \n",
      "A value is trying to be set on a copy of a slice from a DataFrame.\n",
      "Try using .loc[row_indexer,col_indexer] = value instead\n",
      "\n",
      "See the caveats in the documentation: http://pandas.pydata.org/pandas-docs/stable/indexing.html#indexing-view-versus-copy\n",
      "  after removing the cwd from sys.path.\n",
      "/usr/local/lib/python2.7/dist-packages/ipykernel_launcher.py:6: SettingWithCopyWarning: \n",
      "A value is trying to be set on a copy of a slice from a DataFrame.\n",
      "Try using .loc[row_indexer,col_indexer] = value instead\n",
      "\n",
      "See the caveats in the documentation: http://pandas.pydata.org/pandas-docs/stable/indexing.html#indexing-view-versus-copy\n",
      "  \n",
      "/usr/local/lib/python2.7/dist-packages/ipykernel_launcher.py:7: SettingWithCopyWarning: \n",
      "A value is trying to be set on a copy of a slice from a DataFrame.\n",
      "Try using .loc[row_indexer,col_indexer] = value instead\n",
      "\n",
      "See the caveats in the documentation: http://pandas.pydata.org/pandas-docs/stable/indexing.html#indexing-view-versus-copy\n",
      "  import sys\n"
     ]
    }
   ],
   "source": [
    "# We will use pick-up date/time to calculate mean/median of trip distance by hour of day\n",
    "# Convert to datetime data type\n",
    "clean_trips['pickup_datetime'] = pd.to_datetime(clean_trips['lpep_pickup_datetime'], format='%Y-%m-%d %H:%M:%S')\n",
    "clean_trips['dropoff_datetime'] = pd.to_datetime(clean_trips['Lpep_dropoff_datetime'], format='%Y-%m-%d %H:%M:%S')\n",
    "# Extract hour data\n",
    "clean_trips['hour_pickup'] = clean_trips['pickup_datetime'].dt.hour\n",
    "clean_trips['hour_dropoff'] = clean_trips['dropoff_datetime'].dt.hour"
   ]
  },
  {
   "cell_type": "code",
   "execution_count": 46,
   "metadata": {
    "collapsed": true
   },
   "outputs": [],
   "source": [
    "# Trip distance by hour of day (based on pickup hour of day)\n",
    "distance_by_hour_pickup = clean_trips.groupby('hour_pickup').agg({'Trip_distance':(np.mean,np.median)})"
   ]
  },
  {
   "cell_type": "code",
   "execution_count": 47,
   "metadata": {},
   "outputs": [
    {
     "data": {
      "text/html": [
       "<div>\n",
       "<style>\n",
       "    .dataframe thead tr:only-child th {\n",
       "        text-align: right;\n",
       "    }\n",
       "\n",
       "    .dataframe thead th {\n",
       "        text-align: left;\n",
       "    }\n",
       "\n",
       "    .dataframe tbody tr th {\n",
       "        vertical-align: top;\n",
       "    }\n",
       "</style>\n",
       "<table border=\"1\" class=\"dataframe\">\n",
       "  <thead>\n",
       "    <tr>\n",
       "      <th></th>\n",
       "      <th>hour_pickup</th>\n",
       "      <th colspan=\"2\" halign=\"left\">Trip_distance</th>\n",
       "    </tr>\n",
       "    <tr>\n",
       "      <th></th>\n",
       "      <th></th>\n",
       "      <th>mean</th>\n",
       "      <th>median</th>\n",
       "    </tr>\n",
       "  </thead>\n",
       "  <tbody>\n",
       "    <tr>\n",
       "      <th>0</th>\n",
       "      <td>0</td>\n",
       "      <td>3.115276</td>\n",
       "      <td>2.20</td>\n",
       "    </tr>\n",
       "    <tr>\n",
       "      <th>1</th>\n",
       "      <td>1</td>\n",
       "      <td>3.017347</td>\n",
       "      <td>2.12</td>\n",
       "    </tr>\n",
       "    <tr>\n",
       "      <th>2</th>\n",
       "      <td>2</td>\n",
       "      <td>3.046176</td>\n",
       "      <td>2.14</td>\n",
       "    </tr>\n",
       "    <tr>\n",
       "      <th>3</th>\n",
       "      <td>3</td>\n",
       "      <td>3.193985</td>\n",
       "      <td>2.20</td>\n",
       "    </tr>\n",
       "    <tr>\n",
       "      <th>4</th>\n",
       "      <td>4</td>\n",
       "      <td>3.526555</td>\n",
       "      <td>2.36</td>\n",
       "    </tr>\n",
       "    <tr>\n",
       "      <th>5</th>\n",
       "      <td>5</td>\n",
       "      <td>4.133474</td>\n",
       "      <td>2.90</td>\n",
       "    </tr>\n",
       "    <tr>\n",
       "      <th>6</th>\n",
       "      <td>6</td>\n",
       "      <td>4.055149</td>\n",
       "      <td>2.84</td>\n",
       "    </tr>\n",
       "    <tr>\n",
       "      <th>7</th>\n",
       "      <td>7</td>\n",
       "      <td>3.284394</td>\n",
       "      <td>2.17</td>\n",
       "    </tr>\n",
       "    <tr>\n",
       "      <th>8</th>\n",
       "      <td>8</td>\n",
       "      <td>3.048450</td>\n",
       "      <td>1.98</td>\n",
       "    </tr>\n",
       "    <tr>\n",
       "      <th>9</th>\n",
       "      <td>9</td>\n",
       "      <td>2.999105</td>\n",
       "      <td>1.96</td>\n",
       "    </tr>\n",
       "    <tr>\n",
       "      <th>10</th>\n",
       "      <td>10</td>\n",
       "      <td>2.944482</td>\n",
       "      <td>1.92</td>\n",
       "    </tr>\n",
       "    <tr>\n",
       "      <th>11</th>\n",
       "      <td>11</td>\n",
       "      <td>2.912015</td>\n",
       "      <td>1.88</td>\n",
       "    </tr>\n",
       "    <tr>\n",
       "      <th>12</th>\n",
       "      <td>12</td>\n",
       "      <td>2.903065</td>\n",
       "      <td>1.89</td>\n",
       "    </tr>\n",
       "    <tr>\n",
       "      <th>13</th>\n",
       "      <td>13</td>\n",
       "      <td>2.878294</td>\n",
       "      <td>1.84</td>\n",
       "    </tr>\n",
       "    <tr>\n",
       "      <th>14</th>\n",
       "      <td>14</td>\n",
       "      <td>2.864304</td>\n",
       "      <td>1.83</td>\n",
       "    </tr>\n",
       "    <tr>\n",
       "      <th>15</th>\n",
       "      <td>15</td>\n",
       "      <td>2.857040</td>\n",
       "      <td>1.81</td>\n",
       "    </tr>\n",
       "    <tr>\n",
       "      <th>16</th>\n",
       "      <td>16</td>\n",
       "      <td>2.779852</td>\n",
       "      <td>1.80</td>\n",
       "    </tr>\n",
       "    <tr>\n",
       "      <th>17</th>\n",
       "      <td>17</td>\n",
       "      <td>2.679114</td>\n",
       "      <td>1.78</td>\n",
       "    </tr>\n",
       "    <tr>\n",
       "      <th>18</th>\n",
       "      <td>18</td>\n",
       "      <td>2.653222</td>\n",
       "      <td>1.80</td>\n",
       "    </tr>\n",
       "    <tr>\n",
       "      <th>19</th>\n",
       "      <td>19</td>\n",
       "      <td>2.715597</td>\n",
       "      <td>1.85</td>\n",
       "    </tr>\n",
       "    <tr>\n",
       "      <th>20</th>\n",
       "      <td>20</td>\n",
       "      <td>2.777052</td>\n",
       "      <td>1.90</td>\n",
       "    </tr>\n",
       "    <tr>\n",
       "      <th>21</th>\n",
       "      <td>21</td>\n",
       "      <td>2.999189</td>\n",
       "      <td>2.03</td>\n",
       "    </tr>\n",
       "    <tr>\n",
       "      <th>22</th>\n",
       "      <td>22</td>\n",
       "      <td>3.185394</td>\n",
       "      <td>2.20</td>\n",
       "    </tr>\n",
       "    <tr>\n",
       "      <th>23</th>\n",
       "      <td>23</td>\n",
       "      <td>3.191538</td>\n",
       "      <td>2.22</td>\n",
       "    </tr>\n",
       "  </tbody>\n",
       "</table>\n",
       "</div>"
      ],
      "text/plain": [
       "   hour_pickup Trip_distance       \n",
       "                        mean median\n",
       "0            0      3.115276   2.20\n",
       "1            1      3.017347   2.12\n",
       "2            2      3.046176   2.14\n",
       "3            3      3.193985   2.20\n",
       "4            4      3.526555   2.36\n",
       "5            5      4.133474   2.90\n",
       "6            6      4.055149   2.84\n",
       "7            7      3.284394   2.17\n",
       "8            8      3.048450   1.98\n",
       "9            9      2.999105   1.96\n",
       "10          10      2.944482   1.92\n",
       "11          11      2.912015   1.88\n",
       "12          12      2.903065   1.89\n",
       "13          13      2.878294   1.84\n",
       "14          14      2.864304   1.83\n",
       "15          15      2.857040   1.81\n",
       "16          16      2.779852   1.80\n",
       "17          17      2.679114   1.78\n",
       "18          18      2.653222   1.80\n",
       "19          19      2.715597   1.85\n",
       "20          20      2.777052   1.90\n",
       "21          21      2.999189   2.03\n",
       "22          22      3.185394   2.20\n",
       "23          23      3.191538   2.22"
      ]
     },
     "execution_count": 47,
     "metadata": {},
     "output_type": "execute_result"
    }
   ],
   "source": [
    "distance_by_hour_pickup.reset_index()"
   ]
  },
  {
   "cell_type": "code",
   "execution_count": 49,
   "metadata": {},
   "outputs": [
    {
     "data": {
      "text/plain": [
       "<matplotlib.axes._subplots.AxesSubplot at 0x7fd805d80090>"
      ]
     },
     "execution_count": 49,
     "metadata": {},
     "output_type": "execute_result"
    },
    {
     "data": {
      "image/png": "[encoded data removed]",
      "text/plain": [
       "<matplotlib.figure.Figure at 0x7fd7dc1d8610>"
      ]
     },
     "metadata": {},
     "output_type": "display_data"
    }
   ],
   "source": [
    "# Plot mean/median trip distance\n",
    "ax = sns.tsplot(distance_by_hour_pickup['Trip_distance']['mean'], color='g')\n",
    "sns.tsplot(distance_by_hour_pickup['Trip_distance']['median'], color='r')"
   ]
  },
  {
   "cell_type": "markdown",
   "metadata": {},
   "source": [
    "##### Trip from/to NYC area airports"
   ]
  },
  {
   "cell_type": "code",
   "execution_count": 50,
   "metadata": {},
   "outputs": [
    {
     "data": {
      "text/plain": [
       "1     1454464\n",
       "5       33943\n",
       "2        4435\n",
       "3        1117\n",
       "4         925\n",
       "6          36\n",
       "99          6\n",
       "Name: RateCodeID, dtype: int64"
      ]
     },
     "execution_count": 50,
     "metadata": {},
     "output_type": "execute_result"
    }
   ],
   "source": [
    "trips.RateCodeID.value_counts()"
   ]
  },
  {
   "cell_type": "markdown",
   "metadata": {},
   "source": [
    "There are three major airports in NYC area: JFK, La Guardia and Newark (in NJ)\n",
    "\n",
    "According to fare types defined by TLC (http://www.nyc.gov/html/tlc/html/passenger/taxicab_rate.shtml), taxi trip from/to JFK and Newark are of special RateCodeID '2' and '3' respectively whereas the trip from/to La Guardia is standard (metered) fare (RateCodeID = '1').\n",
    "\n",
    "For this question, I will analyze the trip from/to JFK, which is the largest airport among the three."
   ]
  },
  {
   "cell_type": "code",
   "execution_count": 51,
   "metadata": {
    "collapsed": true
   },
   "outputs": [],
   "source": [
    "# Filter trip from/to JFK i.e. RatedCodeID = 2\n",
    "jfk_trips = trips[trips.RateCodeID==2]"
   ]
  },
  {
   "cell_type": "code",
   "execution_count": 52,
   "metadata": {},
   "outputs": [
    {
     "name": "stdout",
     "output_type": "stream",
     "text": [
      "Number of trip from/to JFK = 4435 trips\n"
     ]
    }
   ],
   "source": [
    "print \"Number of trip from/to JFK = %s trips\" % jfk_trips.shape[0]"
   ]
  },
  {
   "cell_type": "code",
   "execution_count": 53,
   "metadata": {},
   "outputs": [
    {
     "data": {
      "text/plain": [
       "Index([u'VendorID', u'lpep_pickup_datetime', u'Lpep_dropoff_datetime',\n",
       "       u'Store_and_fwd_flag', u'RateCodeID', u'Pickup_longitude',\n",
       "       u'Pickup_latitude', u'Dropoff_longitude', u'Dropoff_latitude',\n",
       "       u'Passenger_count', u'Trip_distance', u'Fare_amount', u'Extra',\n",
       "       u'MTA_tax', u'Tip_amount', u'Tolls_amount', u'Ehail_fee',\n",
       "       u'improvement_surcharge', u'Total_amount', u'Payment_type',\n",
       "       u'Trip_type '],\n",
       "      dtype='object')"
      ]
     },
     "execution_count": 53,
     "metadata": {},
     "output_type": "execute_result"
    }
   ],
   "source": [
    "jfk_trips.columns"
   ]
  },
  {
   "cell_type": "code",
   "execution_count": 54,
   "metadata": {},
   "outputs": [
    {
     "name": "stdout",
     "output_type": "stream",
     "text": [
      "Trip distance mean = 10.245\n",
      "Trip distance median = 16.590\n",
      "Fare amount mean = 49.02\n",
      "Fare amount median = 52.00\n",
      "Tolls amount mean = 2.68\n",
      "Tolls amount median = 0.00\n",
      "Tip amount mean = 4.08\n",
      "Tip amount median = 0.00\n",
      "Total amount mean = 56.53\n",
      "Total amount median = 58.34\n"
     ]
    }
   ],
   "source": [
    "# Average Fare \n",
    "print \"Trip distance mean = %.3f\" % jfk_trips.Trip_distance.mean()\n",
    "print \"Trip distance median = %.3f\" % jfk_trips.Trip_distance.median()\n",
    "print \"Fare amount mean = %.2f\" % jfk_trips.Fare_amount.mean()\n",
    "print \"Fare amount median = %.2f\" % jfk_trips.Fare_amount.median()\n",
    "print \"Tolls amount mean = %.2f\" % jfk_trips.Tolls_amount.mean()\n",
    "print \"Tolls amount median = %.2f\" % jfk_trips.Tolls_amount.median()\n",
    "print \"Tip amount mean = %.2f\" % jfk_trips.Tip_amount.mean()\n",
    "print \"Tip amount median = %.2f\" % jfk_trips.Tip_amount.median()\n",
    "print \"Total amount mean = %.2f\" % jfk_trips.Total_amount.mean()\n",
    "print \"Total amount median = %.2f\" % jfk_trips.Total_amount.median()"
   ]
  },
  {
   "cell_type": "code",
   "execution_count": 55,
   "metadata": {
    "collapsed": true
   },
   "outputs": [],
   "source": [
    "standard_trips = trips[trips.RateCodeID==1]"
   ]
  },
  {
   "cell_type": "code",
   "execution_count": 56,
   "metadata": {},
   "outputs": [
    {
     "name": "stdout",
     "output_type": "stream",
     "text": [
      "Trip distance mean = 2.923\n",
      "Trip distance median = 1.970\n",
      "Fare amount mean = 12.24\n",
      "Fare amount median = 9.50\n",
      "Tolls amount mean = 0.11\n",
      "Tolls amount median = 0.00\n",
      "Tip amount mean = 1.23\n",
      "Tip amount median = 0.00\n",
      "Total amount mean = 14.74\n",
      "Total amount median = 11.75\n"
     ]
    }
   ],
   "source": [
    "print \"Trip distance mean = %.3f\" % standard_trips.Trip_distance.mean()\n",
    "print \"Trip distance median = %.3f\" % standard_trips.Trip_distance.median()\n",
    "print \"Fare amount mean = %.2f\" % standard_trips.Fare_amount.mean()\n",
    "print \"Fare amount median = %.2f\" % standard_trips.Fare_amount.median()\n",
    "print \"Tolls amount mean = %.2f\" % standard_trips.Tolls_amount.mean()\n",
    "print \"Tolls amount median = %.2f\" % standard_trips.Tolls_amount.median()\n",
    "print \"Tip amount mean = %.2f\" % standard_trips.Tip_amount.mean()\n",
    "print \"Tip amount median = %.2f\" % standard_trips.Tip_amount.median()\n",
    "print \"Total amount mean = %.2f\" % standard_trips.Total_amount.mean()\n",
    "print \"Total amount median = %.2f\" % standard_trips.Total_amount.median()"
   ]
  },
  {
   "cell_type": "markdown",
   "metadata": {
    "collapsed": true
   },
   "source": [
    "##### Alternative approach by using Lat/Lon coordinates"
   ]
  },
  {
   "cell_type": "code",
   "execution_count": null,
   "metadata": {
    "collapsed": true
   },
   "outputs": [],
   "source": []
  },
  {
   "cell_type": "code",
   "execution_count": null,
   "metadata": {
    "collapsed": true
   },
   "outputs": [],
   "source": []
  },
  {
   "cell_type": "markdown",
   "metadata": {
    "collapsed": true
   },
   "source": [
    "#### Question 4\n",
    "Build a derived variable for tip as a percentage of the total fare.\n",
    "Build a predictive model for tip as a percentage of the total fare. Use as much of the data as you like (or all of it). We will validate a sample."
   ]
  },
  {
   "cell_type": "code",
   "execution_count": 28,
   "metadata": {},
   "outputs": [
    {
     "name": "stdout",
     "output_type": "stream",
     "text": [
      "Number of trips with Tip amount = 0: 892155\n",
      "Number of trips with Tip amount < 0: 38\n",
      "Number of trips with Tip amount > 0: 602732\n"
     ]
    }
   ],
   "source": [
    "print \"Number of trips with Tip amount = 0: %s\" % len(clean_trips[clean_trips.Tip_amount==0])\n",
    "print \"Number of trips with Tip amount < 0: %s\" % len(clean_trips[clean_trips.Tip_amount<0])\n",
    "print \"Number of trips with Tip amount > 0: %s\" % len(clean_trips[clean_trips.Tip_amount>0])"
   ]
  },
  {
   "cell_type": "markdown",
   "metadata": {},
   "source": [
    "According to the data dictionaries provided by TLC, Tip_amount field only records credit card tips, not cash tips. Hence, the Tip_amount value = 0 could be either actual no tip or tip not recorded. \n",
    "\n",
    "There is another column called 'Payment_type', which specify different type of payment.\n",
    "\n",
    "I decided not to include the trips with Tip amount = 0 in building the predictive model since I think they do not the represent ground truth"
   ]
  },
  {
   "cell_type": "code",
   "execution_count": 29,
   "metadata": {},
   "outputs": [
    {
     "data": {
      "text/html": [
       "<div>\n",
       "<style>\n",
       "    .dataframe thead tr:only-child th {\n",
       "        text-align: right;\n",
       "    }\n",
       "\n",
       "    .dataframe thead th {\n",
       "        text-align: left;\n",
       "    }\n",
       "\n",
       "    .dataframe tbody tr th {\n",
       "        vertical-align: top;\n",
       "    }\n",
       "</style>\n",
       "<table border=\"1\" class=\"dataframe\">\n",
       "  <thead>\n",
       "    <tr style=\"text-align: right;\">\n",
       "      <th></th>\n",
       "      <th>lpep_pickup_datetime</th>\n",
       "      <th>Lpep_dropoff_datetime</th>\n",
       "      <th>Pickup_longitude</th>\n",
       "      <th>Pickup_latitude</th>\n",
       "      <th>Dropoff_longitude</th>\n",
       "      <th>Dropoff_latitude</th>\n",
       "      <th>RateCodeID</th>\n",
       "      <th>Passenger_count</th>\n",
       "      <th>Trip_distance</th>\n",
       "      <th>Fare_amount</th>\n",
       "      <th>Tip_amount</th>\n",
       "      <th>Tolls_amount</th>\n",
       "      <th>Total_amount</th>\n",
       "      <th>Payment_type</th>\n",
       "    </tr>\n",
       "  </thead>\n",
       "  <tbody>\n",
       "    <tr>\n",
       "      <th>74598</th>\n",
       "      <td>2015-09-02 19:42:27</td>\n",
       "      <td>2015-09-02 19:42:38</td>\n",
       "      <td>-73.93058</td>\n",
       "      <td>40.685566</td>\n",
       "      <td>-73.930580</td>\n",
       "      <td>40.685566</td>\n",
       "      <td>1</td>\n",
       "      <td>1</td>\n",
       "      <td>1.1</td>\n",
       "      <td>2.5</td>\n",
       "      <td>150.00</td>\n",
       "      <td>0.0</td>\n",
       "      <td>154.30</td>\n",
       "      <td>2</td>\n",
       "    </tr>\n",
       "    <tr>\n",
       "      <th>1341588</th>\n",
       "      <td>2015-09-27 15:24:32</td>\n",
       "      <td>2015-09-27 16:24:51</td>\n",
       "      <td>-73.92823</td>\n",
       "      <td>40.761208</td>\n",
       "      <td>-74.177002</td>\n",
       "      <td>40.694790</td>\n",
       "      <td>1</td>\n",
       "      <td>2</td>\n",
       "      <td>21.1</td>\n",
       "      <td>65.5</td>\n",
       "      <td>13.26</td>\n",
       "      <td>0.0</td>\n",
       "      <td>79.56</td>\n",
       "      <td>2</td>\n",
       "    </tr>\n",
       "  </tbody>\n",
       "</table>\n",
       "</div>"
      ],
      "text/plain": [
       "        lpep_pickup_datetime Lpep_dropoff_datetime  Pickup_longitude  \\\n",
       "74598    2015-09-02 19:42:27   2015-09-02 19:42:38         -73.93058   \n",
       "1341588  2015-09-27 15:24:32   2015-09-27 16:24:51         -73.92823   \n",
       "\n",
       "         Pickup_latitude  Dropoff_longitude  Dropoff_latitude  RateCodeID  \\\n",
       "74598          40.685566         -73.930580         40.685566           1   \n",
       "1341588        40.761208         -74.177002         40.694790           1   \n",
       "\n",
       "         Passenger_count  Trip_distance  Fare_amount  Tip_amount  \\\n",
       "74598                  1            1.1          2.5      150.00   \n",
       "1341588                2           21.1         65.5       13.26   \n",
       "\n",
       "         Tolls_amount  Total_amount  Payment_type  \n",
       "74598             0.0        154.30             2  \n",
       "1341588           0.0         79.56             2  "
      ]
     },
     "execution_count": 29,
     "metadata": {},
     "output_type": "execute_result"
    }
   ],
   "source": [
    "clean_trips[(clean_trips.Payment_type==2) & (clean_trips.Tip_amount > 0)][check_col]"
   ]
  },
  {
   "cell_type": "code",
   "execution_count": 30,
   "metadata": {},
   "outputs": [
    {
     "data": {
      "text/plain": [
       "2    783696\n",
       "1     98557\n",
       "3      5463\n",
       "4      4365\n",
       "5        74\n",
       "Name: Payment_type, dtype: int64"
      ]
     },
     "execution_count": 30,
     "metadata": {},
     "output_type": "execute_result"
    }
   ],
   "source": [
    "# Payment type definition\n",
    "# 1 = Credit Card\n",
    "# 2 = Cash\n",
    "# 3 = No Charge\n",
    "# 4 = Dispute\n",
    "# 5 = Unknown\n",
    "# 6 = Voided trip\n",
    "clean_trips[clean_trips.Tip_amount==0].Payment_type.value_counts()"
   ]
  },
  {
   "cell_type": "code",
   "execution_count": 31,
   "metadata": {},
   "outputs": [
    {
     "data": {
      "text/plain": [
       "3    35\n",
       "4     2\n",
       "1     1\n",
       "Name: Payment_type, dtype: int64"
      ]
     },
     "execution_count": 31,
     "metadata": {},
     "output_type": "execute_result"
    }
   ],
   "source": [
    "clean_trips[clean_trips.Tip_amount<0].Payment_type.value_counts()"
   ]
  },
  {
   "cell_type": "code",
   "execution_count": 32,
   "metadata": {},
   "outputs": [
    {
     "data": {
      "text/plain": [
       "1    602729\n",
       "2         2\n",
       "4         1\n",
       "Name: Payment_type, dtype: int64"
      ]
     },
     "execution_count": 32,
     "metadata": {},
     "output_type": "execute_result"
    }
   ],
   "source": [
    "clean_trips[clean_trips.Tip_amount>0].Payment_type.value_counts()"
   ]
  },
  {
   "cell_type": "markdown",
   "metadata": {},
   "source": [
    "To sum up, I will use only the trips that belong to credit card payment type and tip amount > 0 to build the predictive model"
   ]
  },
  {
   "cell_type": "code",
   "execution_count": 33,
   "metadata": {
    "collapsed": true
   },
   "outputs": [],
   "source": [
    "data_trips = clean_trips[(clean_trips.Payment_type==1) & (clean_trips.Tip_amount >= 0)]"
   ]
  },
  {
   "cell_type": "code",
   "execution_count": 34,
   "metadata": {},
   "outputs": [
    {
     "name": "stdout",
     "output_type": "stream",
     "text": [
      "The number of data points to used for prediction = 701286\n"
     ]
    }
   ],
   "source": [
    "print \"The number of data points to used for prediction = %s\" % data_trips.shape[0]"
   ]
  },
  {
   "cell_type": "code",
   "execution_count": 35,
   "metadata": {
    "collapsed": true
   },
   "outputs": [],
   "source": [
    "# Plot correlation\n",
    "#sns.regplot(data_trips['Trip_distance'], data_trips['Tip_amount'])"
   ]
  },
  {
   "cell_type": "code",
   "execution_count": 36,
   "metadata": {
    "collapsed": true
   },
   "outputs": [],
   "source": [
    "#sns.regplot(clean_trips['Trip_distance'], clean_trips['Tip_amount'])"
   ]
  },
  {
   "cell_type": "code",
   "execution_count": 37,
   "metadata": {},
   "outputs": [
    {
     "name": "stderr",
     "output_type": "stream",
     "text": [
      "/usr/local/lib/python2.7/dist-packages/ipykernel_launcher.py:8: SettingWithCopyWarning: \n",
      "A value is trying to be set on a copy of a slice from a DataFrame.\n",
      "Try using .loc[row_indexer,col_indexer] = value instead\n",
      "\n",
      "See the caveats in the documentation: http://pandas.pydata.org/pandas-docs/stable/indexing.html#indexing-view-versus-copy\n",
      "  \n"
     ]
    }
   ],
   "source": [
    "def calculate_tip_percentage(row):\n",
    "    if row['Total_amount'] != 0:\n",
    "        return row['Tip_amount'] * 100 / row['Total_amount']\n",
    "    else:\n",
    "        return 0\n",
    "    \n",
    "#data_trips['tip_percentage'] = data_trips['Tip_amount'] * 100 / data_trips['Total_amount']\n",
    "data_trips['tip_percentage'] = data_trips.apply(calculate_tip_percentage, axis=1)"
   ]
  },
  {
   "cell_type": "code",
   "execution_count": 38,
   "metadata": {},
   "outputs": [
    {
     "data": {
      "text/plain": [
       "VendorID                      0\n",
       "lpep_pickup_datetime          0\n",
       "Lpep_dropoff_datetime         0\n",
       "Store_and_fwd_flag            0\n",
       "RateCodeID                    0\n",
       "Pickup_longitude              0\n",
       "Pickup_latitude               0\n",
       "Dropoff_longitude             0\n",
       "Dropoff_latitude              0\n",
       "Passenger_count               0\n",
       "Trip_distance                 0\n",
       "Fare_amount                   0\n",
       "Extra                         0\n",
       "MTA_tax                       0\n",
       "Tip_amount                    0\n",
       "Tolls_amount                  0\n",
       "Ehail_fee                701286\n",
       "improvement_surcharge         0\n",
       "Total_amount                  0\n",
       "Payment_type                  0\n",
       "Trip_type                     3\n",
       "pickup_datetime               0\n",
       "dropoff_datetime              0\n",
       "hour_pickup                   0\n",
       "hour_dropoff                  0\n",
       "tip_percentage                0\n",
       "dtype: int64"
      ]
     },
     "execution_count": 38,
     "metadata": {},
     "output_type": "execute_result"
    }
   ],
   "source": [
    "data_trips.isnull().sum()"
   ]
  },
  {
   "cell_type": "code",
   "execution_count": 39,
   "metadata": {},
   "outputs": [
    {
     "data": {
      "text/plain": [
       "count    701286.000000\n",
       "mean         14.142424\n",
       "std           7.839868\n",
       "min           0.000000\n",
       "25%          10.769231\n",
       "50%          16.666667\n",
       "75%          16.666667\n",
       "max         100.000000\n",
       "Name: tip_percentage, dtype: float64"
      ]
     },
     "execution_count": 39,
     "metadata": {},
     "output_type": "execute_result"
    }
   ],
   "source": [
    "data_trips['tip_percentage'].describe()"
   ]
  },
  {
   "cell_type": "code",
   "execution_count": 40,
   "metadata": {},
   "outputs": [
    {
     "data": {
      "text/plain": [
       "<matplotlib.axes._subplots.AxesSubplot at 0x7f1bd23f8d50>"
      ]
     },
     "execution_count": 40,
     "metadata": {},
     "output_type": "execute_result"
    },
    {
     "data": {
      "image/png": "[encoded data removed]",
      "text/plain": [
       "<matplotlib.figure.Figure at 0x7f1bd2608a50>"
      ]
     },
     "metadata": {},
     "output_type": "display_data"
    }
   ],
   "source": [
    "# Histogram of tip percentage\n",
    "data_trips['tip_percentage'].hist(bins=40)"
   ]
  },
  {
   "cell_type": "code",
   "execution_count": 41,
   "metadata": {
    "collapsed": true
   },
   "outputs": [],
   "source": [
    "# Plot correlation\n",
    "#sns.regplot(data_trips['Trip_distance'], data_trips['tip_percentage'])"
   ]
  },
  {
   "cell_type": "markdown",
   "metadata": {},
   "source": [
    "##### Features Engineering"
   ]
  },
  {
   "cell_type": "code",
   "execution_count": 42,
   "metadata": {},
   "outputs": [
    {
     "data": {
      "text/plain": [
       "Index([u'VendorID', u'lpep_pickup_datetime', u'Lpep_dropoff_datetime',\n",
       "       u'Store_and_fwd_flag', u'RateCodeID', u'Pickup_longitude',\n",
       "       u'Pickup_latitude', u'Dropoff_longitude', u'Dropoff_latitude',\n",
       "       u'Passenger_count', u'Trip_distance', u'Fare_amount', u'Extra',\n",
       "       u'MTA_tax', u'Tip_amount', u'Tolls_amount', u'Ehail_fee',\n",
       "       u'improvement_surcharge', u'Total_amount', u'Payment_type',\n",
       "       u'Trip_type ', u'pickup_datetime', u'dropoff_datetime', u'hour_pickup',\n",
       "       u'hour_dropoff', u'tip_percentage'],\n",
       "      dtype='object')"
      ]
     },
     "execution_count": 42,
     "metadata": {},
     "output_type": "execute_result"
    }
   ],
   "source": [
    "data_trips.columns"
   ]
  },
  {
   "cell_type": "code",
   "execution_count": 43,
   "metadata": {},
   "outputs": [
    {
     "name": "stderr",
     "output_type": "stream",
     "text": [
      "/usr/local/lib/python2.7/dist-packages/ipykernel_launcher.py:2: SettingWithCopyWarning: \n",
      "A value is trying to be set on a copy of a slice from a DataFrame.\n",
      "Try using .loc[row_indexer,col_indexer] = value instead\n",
      "\n",
      "See the caveats in the documentation: http://pandas.pydata.org/pandas-docs/stable/indexing.html#indexing-view-versus-copy\n",
      "  \n",
      "/usr/local/lib/python2.7/dist-packages/ipykernel_launcher.py:3: SettingWithCopyWarning: \n",
      "A value is trying to be set on a copy of a slice from a DataFrame.\n",
      "Try using .loc[row_indexer,col_indexer] = value instead\n",
      "\n",
      "See the caveats in the documentation: http://pandas.pydata.org/pandas-docs/stable/indexing.html#indexing-view-versus-copy\n",
      "  This is separate from the ipykernel package so we can avoid doing imports until\n",
      "/usr/local/lib/python2.7/dist-packages/ipykernel_launcher.py:4: SettingWithCopyWarning: \n",
      "A value is trying to be set on a copy of a slice from a DataFrame.\n",
      "Try using .loc[row_indexer,col_indexer] = value instead\n",
      "\n",
      "See the caveats in the documentation: http://pandas.pydata.org/pandas-docs/stable/indexing.html#indexing-view-versus-copy\n",
      "  after removing the cwd from sys.path.\n",
      "/usr/local/lib/python2.7/dist-packages/ipykernel_launcher.py:5: SettingWithCopyWarning: \n",
      "A value is trying to be set on a copy of a slice from a DataFrame.\n",
      "Try using .loc[row_indexer,col_indexer] = value instead\n",
      "\n",
      "See the caveats in the documentation: http://pandas.pydata.org/pandas-docs/stable/indexing.html#indexing-view-versus-copy\n",
      "  \"\"\"\n"
     ]
    }
   ],
   "source": [
    "# Additional time dimensions\n",
    "data_trips['weekday_pickup'] = data_trips['pickup_datetime'].dt.weekday\n",
    "data_trips['weekday_dropoff'] = data_trips['dropoff_datetime'].dt.weekday\n",
    "data_trips['day_pickup'] = data_trips['pickup_datetime'].dt.day\n",
    "data_trips['day_dropoff'] = data_trips['dropoff_datetime'].dt.day"
   ]
  },
  {
   "cell_type": "code",
   "execution_count": 45,
   "metadata": {
    "collapsed": true
   },
   "outputs": [],
   "source": [
    "features = ['hour_pickup','hour_dropoff','weekday_pickup','weekday_dropoff','day_pickup','day_dropoff',\n",
    "            'RateCodeID','Passenger_count','Trip_distance',\n",
    "            'Pickup_longitude','Pickup_latitude','Dropoff_longitude','Dropoff_latitude']\n",
    "target = ['tip_percentage']"
   ]
  },
  {
   "cell_type": "code",
   "execution_count": 46,
   "metadata": {},
   "outputs": [
    {
     "data": {
      "text/html": [
       "<div>\n",
       "<style>\n",
       "    .dataframe thead tr:only-child th {\n",
       "        text-align: right;\n",
       "    }\n",
       "\n",
       "    .dataframe thead th {\n",
       "        text-align: left;\n",
       "    }\n",
       "\n",
       "    .dataframe tbody tr th {\n",
       "        vertical-align: top;\n",
       "    }\n",
       "</style>\n",
       "<table border=\"1\" class=\"dataframe\">\n",
       "  <thead>\n",
       "    <tr style=\"text-align: right;\">\n",
       "      <th></th>\n",
       "      <th>hour_pickup</th>\n",
       "      <th>hour_dropoff</th>\n",
       "      <th>weekday_pickup</th>\n",
       "      <th>weekday_dropoff</th>\n",
       "      <th>day_pickup</th>\n",
       "      <th>day_dropoff</th>\n",
       "      <th>RateCodeID</th>\n",
       "      <th>Passenger_count</th>\n",
       "      <th>Trip_distance</th>\n",
       "      <th>Pickup_longitude</th>\n",
       "      <th>Pickup_latitude</th>\n",
       "      <th>Dropoff_longitude</th>\n",
       "      <th>Dropoff_latitude</th>\n",
       "    </tr>\n",
       "  </thead>\n",
       "  <tbody>\n",
       "    <tr>\n",
       "      <th>0</th>\n",
       "      <td>0</td>\n",
       "      <td>0</td>\n",
       "      <td>1</td>\n",
       "      <td>1</td>\n",
       "      <td>1</td>\n",
       "      <td>1</td>\n",
       "      <td>5</td>\n",
       "      <td>1</td>\n",
       "      <td>0.00</td>\n",
       "      <td>-73.979485</td>\n",
       "      <td>40.684956</td>\n",
       "      <td>-73.979431</td>\n",
       "      <td>40.685020</td>\n",
       "    </tr>\n",
       "    <tr>\n",
       "      <th>1</th>\n",
       "      <td>0</td>\n",
       "      <td>0</td>\n",
       "      <td>1</td>\n",
       "      <td>1</td>\n",
       "      <td>1</td>\n",
       "      <td>1</td>\n",
       "      <td>5</td>\n",
       "      <td>1</td>\n",
       "      <td>0.00</td>\n",
       "      <td>-74.010796</td>\n",
       "      <td>40.912216</td>\n",
       "      <td>-74.010780</td>\n",
       "      <td>40.912212</td>\n",
       "    </tr>\n",
       "    <tr>\n",
       "      <th>2</th>\n",
       "      <td>0</td>\n",
       "      <td>0</td>\n",
       "      <td>1</td>\n",
       "      <td>1</td>\n",
       "      <td>1</td>\n",
       "      <td>1</td>\n",
       "      <td>1</td>\n",
       "      <td>1</td>\n",
       "      <td>0.59</td>\n",
       "      <td>-73.921410</td>\n",
       "      <td>40.766708</td>\n",
       "      <td>-73.914413</td>\n",
       "      <td>40.764687</td>\n",
       "    </tr>\n",
       "    <tr>\n",
       "      <th>5</th>\n",
       "      <td>0</td>\n",
       "      <td>0</td>\n",
       "      <td>1</td>\n",
       "      <td>1</td>\n",
       "      <td>1</td>\n",
       "      <td>1</td>\n",
       "      <td>1</td>\n",
       "      <td>1</td>\n",
       "      <td>1.07</td>\n",
       "      <td>-73.945297</td>\n",
       "      <td>40.808186</td>\n",
       "      <td>-73.937668</td>\n",
       "      <td>40.821198</td>\n",
       "    </tr>\n",
       "    <tr>\n",
       "      <th>6</th>\n",
       "      <td>0</td>\n",
       "      <td>0</td>\n",
       "      <td>1</td>\n",
       "      <td>1</td>\n",
       "      <td>1</td>\n",
       "      <td>1</td>\n",
       "      <td>1</td>\n",
       "      <td>1</td>\n",
       "      <td>1.43</td>\n",
       "      <td>-73.890877</td>\n",
       "      <td>40.746426</td>\n",
       "      <td>-73.876923</td>\n",
       "      <td>40.756306</td>\n",
       "    </tr>\n",
       "  </tbody>\n",
       "</table>\n",
       "</div>"
      ],
      "text/plain": [
       "   hour_pickup  hour_dropoff  weekday_pickup  weekday_dropoff  day_pickup  \\\n",
       "0            0             0               1                1           1   \n",
       "1            0             0               1                1           1   \n",
       "2            0             0               1                1           1   \n",
       "5            0             0               1                1           1   \n",
       "6            0             0               1                1           1   \n",
       "\n",
       "   day_dropoff  RateCodeID  Passenger_count  Trip_distance  Pickup_longitude  \\\n",
       "0            1           5                1           0.00        -73.979485   \n",
       "1            1           5                1           0.00        -74.010796   \n",
       "2            1           1                1           0.59        -73.921410   \n",
       "5            1           1                1           1.07        -73.945297   \n",
       "6            1           1                1           1.43        -73.890877   \n",
       "\n",
       "   Pickup_latitude  Dropoff_longitude  Dropoff_latitude  \n",
       "0        40.684956         -73.979431         40.685020  \n",
       "1        40.912216         -74.010780         40.912212  \n",
       "2        40.766708         -73.914413         40.764687  \n",
       "5        40.808186         -73.937668         40.821198  \n",
       "6        40.746426         -73.876923         40.756306  "
      ]
     },
     "execution_count": 46,
     "metadata": {},
     "output_type": "execute_result"
    }
   ],
   "source": [
    "data_trips[features].head()"
   ]
  },
  {
   "cell_type": "code",
   "execution_count": 47,
   "metadata": {},
   "outputs": [
    {
     "data": {
      "text/plain": [
       "tip_percentage    0\n",
       "dtype: int64"
      ]
     },
     "execution_count": 47,
     "metadata": {},
     "output_type": "execute_result"
    }
   ],
   "source": [
    "data_trips[target].isnull().sum()"
   ]
  },
  {
   "cell_type": "markdown",
   "metadata": {},
   "source": [
    "##### Model Training"
   ]
  },
  {
   "cell_type": "code",
   "execution_count": 87,
   "metadata": {
    "collapsed": true
   },
   "outputs": [],
   "source": [
    "# Split test/train set\n",
    "from sklearn.model_selection import train_test_split\n",
    "X_train, X_test, y_train, y_test = train_test_split(data_trips[features], data_trips[target], test_size=0.2, random_state=40)"
   ]
  },
  {
   "cell_type": "code",
   "execution_count": 88,
   "metadata": {},
   "outputs": [
    {
     "data": {
      "text/plain": [
       "((561028, 13), (140258, 13), (561028, 1), (140258, 1))"
      ]
     },
     "execution_count": 88,
     "metadata": {},
     "output_type": "execute_result"
    }
   ],
   "source": [
    "X_train.shape, X_test.shape, y_train.shape, y_test.shape"
   ]
  },
  {
   "cell_type": "code",
   "execution_count": 116,
   "metadata": {},
   "outputs": [
    {
     "name": "stderr",
     "output_type": "stream",
     "text": [
      "/usr/local/lib/python2.7/dist-packages/ipykernel_launcher.py:4: DataConversionWarning: A column-vector y was passed when a 1d array was expected. Please change the shape of y to (n_samples,), for example using ravel().\n",
      "  after removing the cwd from sys.path.\n"
     ]
    },
    {
     "data": {
      "text/plain": [
       "RandomForestRegressor(bootstrap=True, criterion='mse', max_depth=None,\n",
       "           max_features='auto', max_leaf_nodes=None,\n",
       "           min_impurity_split=1e-07, min_samples_leaf=1,\n",
       "           min_samples_split=2, min_weight_fraction_leaf=0.0,\n",
       "           n_estimators=50, n_jobs=1, oob_score=False, random_state=None,\n",
       "           verbose=0, warm_start=False)"
      ]
     },
     "execution_count": 116,
     "metadata": {},
     "output_type": "execute_result"
    }
   ],
   "source": [
    "from sklearn.ensemble import RandomForestRegressor\n",
    "\n",
    "rf = RandomForestRegressor(n_estimators=10)\n",
    "rf.fit(X_train, y_train)"
   ]
  },
  {
   "cell_type": "code",
   "execution_count": 117,
   "metadata": {
    "collapsed": true
   },
   "outputs": [],
   "source": [
    "from sklearn.model_selection import cross_val_score\n",
    "\n",
    "scores = cross_val_score(rf, X_train, y_train, cv=5, scoring='neg_mean_squared_error')"
   ]
  },
  {
   "cell_type": "code",
   "execution_count": 118,
   "metadata": {},
   "outputs": [
    {
     "data": {
      "text/plain": [
       "array([-54.26829843, -54.08663255, -54.29995167, -54.72555435, -55.06802832])"
      ]
     },
     "execution_count": 118,
     "metadata": {},
     "output_type": "execute_result"
    }
   ],
   "source": [
    "scores"
   ]
  },
  {
   "cell_type": "code",
   "execution_count": 119,
   "metadata": {
    "collapsed": true
   },
   "outputs": [],
   "source": [
    "importances = rf.feature_importances_"
   ]
  },
  {
   "cell_type": "code",
   "execution_count": 120,
   "metadata": {},
   "outputs": [
    {
     "data": {
      "text/plain": [
       "array([ 0.04895807,  0.048821  ,  0.0248866 ,  0.02491275,  0.04194004,\n",
       "        0.04254421,  0.01334518,  0.01795333,  0.12985668,  0.13927337,\n",
       "        0.14615325,  0.14989631,  0.17145921])"
      ]
     },
     "execution_count": 120,
     "metadata": {},
     "output_type": "execute_result"
    }
   ],
   "source": [
    "importances"
   ]
  },
  {
   "cell_type": "code",
   "execution_count": 121,
   "metadata": {},
   "outputs": [
    {
     "data": {
      "text/plain": [
       "[DecisionTreeRegressor(criterion='mse', max_depth=None, max_features='auto',\n",
       "            max_leaf_nodes=None, min_impurity_split=1e-07,\n",
       "            min_samples_leaf=1, min_samples_split=2,\n",
       "            min_weight_fraction_leaf=0.0, presort=False,\n",
       "            random_state=475986701, splitter='best'),\n",
       " DecisionTreeRegressor(criterion='mse', max_depth=None, max_features='auto',\n",
       "            max_leaf_nodes=None, min_impurity_split=1e-07,\n",
       "            min_samples_leaf=1, min_samples_split=2,\n",
       "            min_weight_fraction_leaf=0.0, presort=False,\n",
       "            random_state=252626692, splitter='best'),\n",
       " DecisionTreeRegressor(criterion='mse', max_depth=None, max_features='auto',\n",
       "            max_leaf_nodes=None, min_impurity_split=1e-07,\n",
       "            min_samples_leaf=1, min_samples_split=2,\n",
       "            min_weight_fraction_leaf=0.0, presort=False,\n",
       "            random_state=377673463, splitter='best'),\n",
       " DecisionTreeRegressor(criterion='mse', max_depth=None, max_features='auto',\n",
       "            max_leaf_nodes=None, min_impurity_split=1e-07,\n",
       "            min_samples_leaf=1, min_samples_split=2,\n",
       "            min_weight_fraction_leaf=0.0, presort=False,\n",
       "            random_state=1938441137, splitter='best'),\n",
       " DecisionTreeRegressor(criterion='mse', max_depth=None, max_features='auto',\n",
       "            max_leaf_nodes=None, min_impurity_split=1e-07,\n",
       "            min_samples_leaf=1, min_samples_split=2,\n",
       "            min_weight_fraction_leaf=0.0, presort=False,\n",
       "            random_state=2028585401, splitter='best'),\n",
       " DecisionTreeRegressor(criterion='mse', max_depth=None, max_features='auto',\n",
       "            max_leaf_nodes=None, min_impurity_split=1e-07,\n",
       "            min_samples_leaf=1, min_samples_split=2,\n",
       "            min_weight_fraction_leaf=0.0, presort=False,\n",
       "            random_state=767122775, splitter='best'),\n",
       " DecisionTreeRegressor(criterion='mse', max_depth=None, max_features='auto',\n",
       "            max_leaf_nodes=None, min_impurity_split=1e-07,\n",
       "            min_samples_leaf=1, min_samples_split=2,\n",
       "            min_weight_fraction_leaf=0.0, presort=False,\n",
       "            random_state=229541244, splitter='best'),\n",
       " DecisionTreeRegressor(criterion='mse', max_depth=None, max_features='auto',\n",
       "            max_leaf_nodes=None, min_impurity_split=1e-07,\n",
       "            min_samples_leaf=1, min_samples_split=2,\n",
       "            min_weight_fraction_leaf=0.0, presort=False,\n",
       "            random_state=1938873817, splitter='best'),\n",
       " DecisionTreeRegressor(criterion='mse', max_depth=None, max_features='auto',\n",
       "            max_leaf_nodes=None, min_impurity_split=1e-07,\n",
       "            min_samples_leaf=1, min_samples_split=2,\n",
       "            min_weight_fraction_leaf=0.0, presort=False,\n",
       "            random_state=1089749134, splitter='best'),\n",
       " DecisionTreeRegressor(criterion='mse', max_depth=None, max_features='auto',\n",
       "            max_leaf_nodes=None, min_impurity_split=1e-07,\n",
       "            min_samples_leaf=1, min_samples_split=2,\n",
       "            min_weight_fraction_leaf=0.0, presort=False,\n",
       "            random_state=2015050107, splitter='best'),\n",
       " DecisionTreeRegressor(criterion='mse', max_depth=None, max_features='auto',\n",
       "            max_leaf_nodes=None, min_impurity_split=1e-07,\n",
       "            min_samples_leaf=1, min_samples_split=2,\n",
       "            min_weight_fraction_leaf=0.0, presort=False,\n",
       "            random_state=602828800, splitter='best'),\n",
       " DecisionTreeRegressor(criterion='mse', max_depth=None, max_features='auto',\n",
       "            max_leaf_nodes=None, min_impurity_split=1e-07,\n",
       "            min_samples_leaf=1, min_samples_split=2,\n",
       "            min_weight_fraction_leaf=0.0, presort=False,\n",
       "            random_state=1622346925, splitter='best'),\n",
       " DecisionTreeRegressor(criterion='mse', max_depth=None, max_features='auto',\n",
       "            max_leaf_nodes=None, min_impurity_split=1e-07,\n",
       "            min_samples_leaf=1, min_samples_split=2,\n",
       "            min_weight_fraction_leaf=0.0, presort=False,\n",
       "            random_state=1068384818, splitter='best'),\n",
       " DecisionTreeRegressor(criterion='mse', max_depth=None, max_features='auto',\n",
       "            max_leaf_nodes=None, min_impurity_split=1e-07,\n",
       "            min_samples_leaf=1, min_samples_split=2,\n",
       "            min_weight_fraction_leaf=0.0, presort=False,\n",
       "            random_state=769886601, splitter='best'),\n",
       " DecisionTreeRegressor(criterion='mse', max_depth=None, max_features='auto',\n",
       "            max_leaf_nodes=None, min_impurity_split=1e-07,\n",
       "            min_samples_leaf=1, min_samples_split=2,\n",
       "            min_weight_fraction_leaf=0.0, presort=False,\n",
       "            random_state=2025471269, splitter='best'),\n",
       " DecisionTreeRegressor(criterion='mse', max_depth=None, max_features='auto',\n",
       "            max_leaf_nodes=None, min_impurity_split=1e-07,\n",
       "            min_samples_leaf=1, min_samples_split=2,\n",
       "            min_weight_fraction_leaf=0.0, presort=False,\n",
       "            random_state=386701308, splitter='best'),\n",
       " DecisionTreeRegressor(criterion='mse', max_depth=None, max_features='auto',\n",
       "            max_leaf_nodes=None, min_impurity_split=1e-07,\n",
       "            min_samples_leaf=1, min_samples_split=2,\n",
       "            min_weight_fraction_leaf=0.0, presort=False,\n",
       "            random_state=2129302957, splitter='best'),\n",
       " DecisionTreeRegressor(criterion='mse', max_depth=None, max_features='auto',\n",
       "            max_leaf_nodes=None, min_impurity_split=1e-07,\n",
       "            min_samples_leaf=1, min_samples_split=2,\n",
       "            min_weight_fraction_leaf=0.0, presort=False,\n",
       "            random_state=1590119606, splitter='best'),\n",
       " DecisionTreeRegressor(criterion='mse', max_depth=None, max_features='auto',\n",
       "            max_leaf_nodes=None, min_impurity_split=1e-07,\n",
       "            min_samples_leaf=1, min_samples_split=2,\n",
       "            min_weight_fraction_leaf=0.0, presort=False,\n",
       "            random_state=19473516, splitter='best'),\n",
       " DecisionTreeRegressor(criterion='mse', max_depth=None, max_features='auto',\n",
       "            max_leaf_nodes=None, min_impurity_split=1e-07,\n",
       "            min_samples_leaf=1, min_samples_split=2,\n",
       "            min_weight_fraction_leaf=0.0, presort=False,\n",
       "            random_state=2051065002, splitter='best'),\n",
       " DecisionTreeRegressor(criterion='mse', max_depth=None, max_features='auto',\n",
       "            max_leaf_nodes=None, min_impurity_split=1e-07,\n",
       "            min_samples_leaf=1, min_samples_split=2,\n",
       "            min_weight_fraction_leaf=0.0, presort=False,\n",
       "            random_state=402624156, splitter='best'),\n",
       " DecisionTreeRegressor(criterion='mse', max_depth=None, max_features='auto',\n",
       "            max_leaf_nodes=None, min_impurity_split=1e-07,\n",
       "            min_samples_leaf=1, min_samples_split=2,\n",
       "            min_weight_fraction_leaf=0.0, presort=False,\n",
       "            random_state=1227620585, splitter='best'),\n",
       " DecisionTreeRegressor(criterion='mse', max_depth=None, max_features='auto',\n",
       "            max_leaf_nodes=None, min_impurity_split=1e-07,\n",
       "            min_samples_leaf=1, min_samples_split=2,\n",
       "            min_weight_fraction_leaf=0.0, presort=False,\n",
       "            random_state=730361788, splitter='best'),\n",
       " DecisionTreeRegressor(criterion='mse', max_depth=None, max_features='auto',\n",
       "            max_leaf_nodes=None, min_impurity_split=1e-07,\n",
       "            min_samples_leaf=1, min_samples_split=2,\n",
       "            min_weight_fraction_leaf=0.0, presort=False,\n",
       "            random_state=536493433, splitter='best'),\n",
       " DecisionTreeRegressor(criterion='mse', max_depth=None, max_features='auto',\n",
       "            max_leaf_nodes=None, min_impurity_split=1e-07,\n",
       "            min_samples_leaf=1, min_samples_split=2,\n",
       "            min_weight_fraction_leaf=0.0, presort=False,\n",
       "            random_state=2075956841, splitter='best'),\n",
       " DecisionTreeRegressor(criterion='mse', max_depth=None, max_features='auto',\n",
       "            max_leaf_nodes=None, min_impurity_split=1e-07,\n",
       "            min_samples_leaf=1, min_samples_split=2,\n",
       "            min_weight_fraction_leaf=0.0, presort=False,\n",
       "            random_state=89364489, splitter='best'),\n",
       " DecisionTreeRegressor(criterion='mse', max_depth=None, max_features='auto',\n",
       "            max_leaf_nodes=None, min_impurity_split=1e-07,\n",
       "            min_samples_leaf=1, min_samples_split=2,\n",
       "            min_weight_fraction_leaf=0.0, presort=False,\n",
       "            random_state=1177336586, splitter='best'),\n",
       " DecisionTreeRegressor(criterion='mse', max_depth=None, max_features='auto',\n",
       "            max_leaf_nodes=None, min_impurity_split=1e-07,\n",
       "            min_samples_leaf=1, min_samples_split=2,\n",
       "            min_weight_fraction_leaf=0.0, presort=False,\n",
       "            random_state=54403953, splitter='best'),\n",
       " DecisionTreeRegressor(criterion='mse', max_depth=None, max_features='auto',\n",
       "            max_leaf_nodes=None, min_impurity_split=1e-07,\n",
       "            min_samples_leaf=1, min_samples_split=2,\n",
       "            min_weight_fraction_leaf=0.0, presort=False,\n",
       "            random_state=2094008900, splitter='best'),\n",
       " DecisionTreeRegressor(criterion='mse', max_depth=None, max_features='auto',\n",
       "            max_leaf_nodes=None, min_impurity_split=1e-07,\n",
       "            min_samples_leaf=1, min_samples_split=2,\n",
       "            min_weight_fraction_leaf=0.0, presort=False,\n",
       "            random_state=432280278, splitter='best'),\n",
       " DecisionTreeRegressor(criterion='mse', max_depth=None, max_features='auto',\n",
       "            max_leaf_nodes=None, min_impurity_split=1e-07,\n",
       "            min_samples_leaf=1, min_samples_split=2,\n",
       "            min_weight_fraction_leaf=0.0, presort=False,\n",
       "            random_state=6945902, splitter='best'),\n",
       " DecisionTreeRegressor(criterion='mse', max_depth=None, max_features='auto',\n",
       "            max_leaf_nodes=None, min_impurity_split=1e-07,\n",
       "            min_samples_leaf=1, min_samples_split=2,\n",
       "            min_weight_fraction_leaf=0.0, presort=False,\n",
       "            random_state=966681479, splitter='best'),\n",
       " DecisionTreeRegressor(criterion='mse', max_depth=None, max_features='auto',\n",
       "            max_leaf_nodes=None, min_impurity_split=1e-07,\n",
       "            min_samples_leaf=1, min_samples_split=2,\n",
       "            min_weight_fraction_leaf=0.0, presort=False,\n",
       "            random_state=2026885255, splitter='best'),\n",
       " DecisionTreeRegressor(criterion='mse', max_depth=None, max_features='auto',\n",
       "            max_leaf_nodes=None, min_impurity_split=1e-07,\n",
       "            min_samples_leaf=1, min_samples_split=2,\n",
       "            min_weight_fraction_leaf=0.0, presort=False,\n",
       "            random_state=906691406, splitter='best'),\n",
       " DecisionTreeRegressor(criterion='mse', max_depth=None, max_features='auto',\n",
       "            max_leaf_nodes=None, min_impurity_split=1e-07,\n",
       "            min_samples_leaf=1, min_samples_split=2,\n",
       "            min_weight_fraction_leaf=0.0, presort=False,\n",
       "            random_state=608181074, splitter='best'),\n",
       " DecisionTreeRegressor(criterion='mse', max_depth=None, max_features='auto',\n",
       "            max_leaf_nodes=None, min_impurity_split=1e-07,\n",
       "            min_samples_leaf=1, min_samples_split=2,\n",
       "            min_weight_fraction_leaf=0.0, presort=False,\n",
       "            random_state=1889843574, splitter='best'),\n",
       " DecisionTreeRegressor(criterion='mse', max_depth=None, max_features='auto',\n",
       "            max_leaf_nodes=None, min_impurity_split=1e-07,\n",
       "            min_samples_leaf=1, min_samples_split=2,\n",
       "            min_weight_fraction_leaf=0.0, presort=False,\n",
       "            random_state=1980307645, splitter='best'),\n",
       " DecisionTreeRegressor(criterion='mse', max_depth=None, max_features='auto',\n",
       "            max_leaf_nodes=None, min_impurity_split=1e-07,\n",
       "            min_samples_leaf=1, min_samples_split=2,\n",
       "            min_weight_fraction_leaf=0.0, presort=False,\n",
       "            random_state=1933611505, splitter='best'),\n",
       " DecisionTreeRegressor(criterion='mse', max_depth=None, max_features='auto',\n",
       "            max_leaf_nodes=None, min_impurity_split=1e-07,\n",
       "            min_samples_leaf=1, min_samples_split=2,\n",
       "            min_weight_fraction_leaf=0.0, presort=False,\n",
       "            random_state=691042817, splitter='best'),\n",
       " DecisionTreeRegressor(criterion='mse', max_depth=None, max_features='auto',\n",
       "            max_leaf_nodes=None, min_impurity_split=1e-07,\n",
       "            min_samples_leaf=1, min_samples_split=2,\n",
       "            min_weight_fraction_leaf=0.0, presort=False,\n",
       "            random_state=1497553867, splitter='best'),\n",
       " DecisionTreeRegressor(criterion='mse', max_depth=None, max_features='auto',\n",
       "            max_leaf_nodes=None, min_impurity_split=1e-07,\n",
       "            min_samples_leaf=1, min_samples_split=2,\n",
       "            min_weight_fraction_leaf=0.0, presort=False,\n",
       "            random_state=1218079177, splitter='best'),\n",
       " DecisionTreeRegressor(criterion='mse', max_depth=None, max_features='auto',\n",
       "            max_leaf_nodes=None, min_impurity_split=1e-07,\n",
       "            min_samples_leaf=1, min_samples_split=2,\n",
       "            min_weight_fraction_leaf=0.0, presort=False,\n",
       "            random_state=1644611383, splitter='best'),\n",
       " DecisionTreeRegressor(criterion='mse', max_depth=None, max_features='auto',\n",
       "            max_leaf_nodes=None, min_impurity_split=1e-07,\n",
       "            min_samples_leaf=1, min_samples_split=2,\n",
       "            min_weight_fraction_leaf=0.0, presort=False,\n",
       "            random_state=101035287, splitter='best'),\n",
       " DecisionTreeRegressor(criterion='mse', max_depth=None, max_features='auto',\n",
       "            max_leaf_nodes=None, min_impurity_split=1e-07,\n",
       "            min_samples_leaf=1, min_samples_split=2,\n",
       "            min_weight_fraction_leaf=0.0, presort=False,\n",
       "            random_state=1014403503, splitter='best'),\n",
       " DecisionTreeRegressor(criterion='mse', max_depth=None, max_features='auto',\n",
       "            max_leaf_nodes=None, min_impurity_split=1e-07,\n",
       "            min_samples_leaf=1, min_samples_split=2,\n",
       "            min_weight_fraction_leaf=0.0, presort=False,\n",
       "            random_state=456030997, splitter='best'),\n",
       " DecisionTreeRegressor(criterion='mse', max_depth=None, max_features='auto',\n",
       "            max_leaf_nodes=None, min_impurity_split=1e-07,\n",
       "            min_samples_leaf=1, min_samples_split=2,\n",
       "            min_weight_fraction_leaf=0.0, presort=False,\n",
       "            random_state=1403494114, splitter='best'),\n",
       " DecisionTreeRegressor(criterion='mse', max_depth=None, max_features='auto',\n",
       "            max_leaf_nodes=None, min_impurity_split=1e-07,\n",
       "            min_samples_leaf=1, min_samples_split=2,\n",
       "            min_weight_fraction_leaf=0.0, presort=False,\n",
       "            random_state=1242177640, splitter='best'),\n",
       " DecisionTreeRegressor(criterion='mse', max_depth=None, max_features='auto',\n",
       "            max_leaf_nodes=None, min_impurity_split=1e-07,\n",
       "            min_samples_leaf=1, min_samples_split=2,\n",
       "            min_weight_fraction_leaf=0.0, presort=False,\n",
       "            random_state=1727933866, splitter='best'),\n",
       " DecisionTreeRegressor(criterion='mse', max_depth=None, max_features='auto',\n",
       "            max_leaf_nodes=None, min_impurity_split=1e-07,\n",
       "            min_samples_leaf=1, min_samples_split=2,\n",
       "            min_weight_fraction_leaf=0.0, presort=False,\n",
       "            random_state=64487725, splitter='best'),\n",
       " DecisionTreeRegressor(criterion='mse', max_depth=None, max_features='auto',\n",
       "            max_leaf_nodes=None, min_impurity_split=1e-07,\n",
       "            min_samples_leaf=1, min_samples_split=2,\n",
       "            min_weight_fraction_leaf=0.0, presort=False,\n",
       "            random_state=388155301, splitter='best')]"
      ]
     },
     "execution_count": 121,
     "metadata": {},
     "output_type": "execute_result"
    }
   ],
   "source": [
    "rf.estimators_"
   ]
  },
  {
   "cell_type": "code",
   "execution_count": 122,
   "metadata": {},
   "outputs": [
    {
     "name": "stdout",
     "output_type": "stream",
     "text": [
      "Feature ranking:\n",
      "1. feature Dropoff_latitude (0.171459)\n",
      "2. feature Dropoff_longitude (0.149896)\n",
      "3. feature Pickup_latitude (0.146153)\n",
      "4. feature Pickup_longitude (0.139273)\n",
      "5. feature Trip_distance (0.129857)\n",
      "6. feature hour_pickup (0.048958)\n",
      "7. feature hour_dropoff (0.048821)\n",
      "8. feature day_dropoff (0.042544)\n",
      "9. feature day_pickup (0.041940)\n",
      "10. feature weekday_dropoff (0.024913)\n",
      "11. feature weekday_pickup (0.024887)\n",
      "12. feature Passenger_count (0.017953)\n",
      "13. feature RateCodeID (0.013345)\n"
     ]
    },
    {
     "data": {
      "image/png": "[encoded data removed]",
      "text/plain": [
       "<matplotlib.figure.Figure at 0x7f0787b800d0>"
      ]
     },
     "metadata": {},
     "output_type": "display_data"
    }
   ],
   "source": [
    "std = np.std([tree.feature_importances_ for tree in rf.estimators_],\n",
    "             axis=0)\n",
    "indices = np.argsort(importances)[::-1]\n",
    "\n",
    "# Print the feature ranking\n",
    "print(\"Feature ranking:\")\n",
    "\n",
    "for f in range(X_train.shape[1]):\n",
    "    print(\"%d. feature %s (%f)\" % (f + 1, X_train.columns[indices[f]], importances[indices[f]]))\n",
    "\n",
    "# Plot the feature importances of the forest\n",
    "plt.figure()\n",
    "plt.title(\"Feature importances\")\n",
    "plt.bar(range(X_train.shape[1]), importances[indices],\n",
    "       color=\"r\", yerr=std[indices], align=\"center\")\n",
    "plt.xticks(range(X_train.shape[1]), indices)\n",
    "plt.xlim([-1, X_train.shape[1]])\n",
    "plt.show()"
   ]
  },
  {
   "cell_type": "code",
   "execution_count": 95,
   "metadata": {
    "collapsed": true
   },
   "outputs": [],
   "source": [
    "##### Linear Regression Model\n",
    "category_features = ['hour_pickup','hour_dropoff','weekday_pickup','weekday_dropoff','day_pickup','day_dropoff','RateCodeID']"
   ]
  },
  {
   "cell_type": "code",
   "execution_count": 96,
   "metadata": {
    "collapsed": true
   },
   "outputs": [],
   "source": [
    "from sklearn.preprocessing import OneHotEncoder\n",
    "enc = OneHotEncoder()\n",
    "train_encoded = enc.fit_transform(X_train[category_features])\n",
    "test_encoded = enc.fit_transform(X_test[category_features])"
   ]
  },
  {
   "cell_type": "code",
   "execution_count": 97,
   "metadata": {},
   "outputs": [
    {
     "data": {
      "text/plain": [
       "array([  0,  24,  48,  55,  62,  93, 124, 130])"
      ]
     },
     "execution_count": 97,
     "metadata": {},
     "output_type": "execute_result"
    }
   ],
   "source": [
    "enc.feature_indices_"
   ]
  },
  {
   "cell_type": "code",
   "execution_count": 98,
   "metadata": {},
   "outputs": [
    {
     "data": {
      "text/plain": [
       "'auto'"
      ]
     },
     "execution_count": 98,
     "metadata": {},
     "output_type": "execute_result"
    }
   ],
   "source": [
    "enc.n_values"
   ]
  },
  {
   "cell_type": "code",
   "execution_count": 105,
   "metadata": {},
   "outputs": [
    {
     "data": {
      "text/plain": [
       "((701286, 128), (561028, 128), (140258, 127))"
      ]
     },
     "execution_count": 105,
     "metadata": {},
     "output_type": "execute_result"
    }
   ],
   "source": [
    "encoded.shape, train_encoded.shape, test_encoded.shape"
   ]
  },
  {
   "cell_type": "code",
   "execution_count": 100,
   "metadata": {},
   "outputs": [
    {
     "name": "stdout",
     "output_type": "stream",
     "text": [
      "hour_pickup24\n",
      "hour_dropoff24\n",
      "weekday_pickup7\n",
      "weekday_dropoff7\n",
      "day_pickup30\n",
      "day_dropoff30\n",
      "RateCodeID6\n"
     ]
    }
   ],
   "source": [
    "for col in data_trips[category_features].columns:\n",
    "    print col + str(len(data_trips[col].unique()))"
   ]
  },
  {
   "cell_type": "code",
   "execution_count": 101,
   "metadata": {
    "collapsed": true
   },
   "outputs": [],
   "source": [
    "num_features = ['RateCodeID','Passenger_count','Trip_distance',\n",
    "            'Pickup_longitude','Pickup_latitude','Dropoff_longitude','Dropoff_latitude']"
   ]
  },
  {
   "cell_type": "code",
   "execution_count": 103,
   "metadata": {
    "collapsed": true
   },
   "outputs": [],
   "source": [
    "from scipy import sparse"
   ]
  },
  {
   "cell_type": "code",
   "execution_count": 104,
   "metadata": {
    "collapsed": true
   },
   "outputs": [],
   "source": [
    "x_train_data = sparse.hstack([X_train[num_features], train_encoded]).tocsr()\n",
    "x_test_data = sparse.hstack([X_test[num_features], test_encoded]).tocsr()"
   ]
  },
  {
   "cell_type": "code",
   "execution_count": 106,
   "metadata": {},
   "outputs": [
    {
     "data": {
      "text/plain": [
       "<561028x135 sparse matrix of type '<type 'numpy.float64'>'\n",
       "\twith 7844706 stored elements in Compressed Sparse Row format>"
      ]
     },
     "execution_count": 106,
     "metadata": {},
     "output_type": "execute_result"
    }
   ],
   "source": [
    "x_train_data"
   ]
  },
  {
   "cell_type": "code",
   "execution_count": 107,
   "metadata": {},
   "outputs": [
    {
     "data": {
      "text/plain": [
       "<140258x134 sparse matrix of type '<type 'numpy.float64'>'\n",
       "\twith 1961126 stored elements in Compressed Sparse Row format>"
      ]
     },
     "execution_count": 107,
     "metadata": {},
     "output_type": "execute_result"
    }
   ],
   "source": [
    "x_test_data"
   ]
  },
  {
   "cell_type": "code",
   "execution_count": 108,
   "metadata": {
    "collapsed": true
   },
   "outputs": [],
   "source": [
    "from sklearn.linear_model import LinearRegression, Ridge"
   ]
  },
  {
   "cell_type": "code",
   "execution_count": 109,
   "metadata": {},
   "outputs": [
    {
     "data": {
      "text/plain": [
       "LinearRegression(copy_X=True, fit_intercept=True, n_jobs=1, normalize=False)"
      ]
     },
     "execution_count": 109,
     "metadata": {},
     "output_type": "execute_result"
    }
   ],
   "source": [
    "lm = LinearRegression()\n",
    "lm.fit(x_train_data, y_train)"
   ]
  },
  {
   "cell_type": "code",
   "execution_count": 111,
   "metadata": {
    "collapsed": true
   },
   "outputs": [],
   "source": [
    "scores = cross_val_score(lm, x_train_data, y_train, cv=5, scoring='neg_mean_squared_error')"
   ]
  },
  {
   "cell_type": "code",
   "execution_count": 112,
   "metadata": {},
   "outputs": [
    {
     "data": {
      "text/plain": [
       "array([-59.08760162, -59.38054487, -59.70313387, -59.94505617, -60.35844657])"
      ]
     },
     "execution_count": 112,
     "metadata": {},
     "output_type": "execute_result"
    }
   ],
   "source": [
    "scores"
   ]
  },
  {
   "cell_type": "code",
   "execution_count": 114,
   "metadata": {},
   "outputs": [
    {
     "name": "stdout",
     "output_type": "stream",
     "text": [
      "[-59.1223506  -59.42504119 -59.73447565 -59.99801543 -60.37917761]\n"
     ]
    }
   ],
   "source": [
    "ridge = Ridge()\n",
    "ridge.fit(x_train_data, y_train)\n",
    "scores = cross_val_score(ridge, x_train_data, y_train, cv=5, scoring='neg_mean_squared_error')\n",
    "print scores"
   ]
  },
  {
   "cell_type": "code",
   "execution_count": 115,
   "metadata": {},
   "outputs": [
    {
     "name": "stdout",
     "output_type": "stream",
     "text": [
      "Linear Regression\n",
      "[-59.29652395 -59.60503005 -59.84482897 -60.18481723 -60.46904094]\n",
      "Ridge Regression\n",
      "[-59.29652395 -59.60503005 -59.84482897 -60.18481723 -60.46904094]\n"
     ]
    }
   ],
   "source": [
    "lm1 = LinearRegression()\n",
    "lm1.fit(X_train, y_train)\n",
    "print \"Linear Regression\"\n",
    "scores = cross_val_score(lm1, X_train, y_train, cv=5, scoring='neg_mean_squared_error')\n",
    "print scores\n",
    "\n",
    "ridge1 = Ridge()\n",
    "ridge1.fit(X_train, y_train)\n",
    "print \"Ridge Regression\"\n",
    "scores = cross_val_score(lm1, X_train, y_train, cv=5, scoring='neg_mean_squared_error')\n",
    "print scores"
   ]
  },
  {
   "cell_type": "code",
   "execution_count": 75,
   "metadata": {},
   "outputs": [
    {
     "data": {
      "text/html": [
       "<div>\n",
       "<style>\n",
       "    .dataframe thead tr:only-child th {\n",
       "        text-align: right;\n",
       "    }\n",
       "\n",
       "    .dataframe thead th {\n",
       "        text-align: left;\n",
       "    }\n",
       "\n",
       "    .dataframe tbody tr th {\n",
       "        vertical-align: top;\n",
       "    }\n",
       "</style>\n",
       "<table border=\"1\" class=\"dataframe\">\n",
       "  <thead>\n",
       "    <tr style=\"text-align: right;\">\n",
       "      <th></th>\n",
       "      <th>RateCodeID</th>\n",
       "      <th>Passenger_count</th>\n",
       "      <th>Trip_distance</th>\n",
       "      <th>Pickup_longitude</th>\n",
       "      <th>Pickup_latitude</th>\n",
       "      <th>Dropoff_longitude</th>\n",
       "      <th>Dropoff_latitude</th>\n",
       "    </tr>\n",
       "  </thead>\n",
       "  <tbody>\n",
       "    <tr>\n",
       "      <th>47674</th>\n",
       "      <td>1</td>\n",
       "      <td>1</td>\n",
       "      <td>2.60</td>\n",
       "      <td>-73.939537</td>\n",
       "      <td>40.805061</td>\n",
       "      <td>-73.947723</td>\n",
       "      <td>40.775085</td>\n",
       "    </tr>\n",
       "    <tr>\n",
       "      <th>536221</th>\n",
       "      <td>1</td>\n",
       "      <td>1</td>\n",
       "      <td>1.80</td>\n",
       "      <td>-73.987411</td>\n",
       "      <td>40.692333</td>\n",
       "      <td>-73.970001</td>\n",
       "      <td>40.677895</td>\n",
       "    </tr>\n",
       "    <tr>\n",
       "      <th>1190229</th>\n",
       "      <td>1</td>\n",
       "      <td>1</td>\n",
       "      <td>1.39</td>\n",
       "      <td>-73.955940</td>\n",
       "      <td>40.681236</td>\n",
       "      <td>-73.951218</td>\n",
       "      <td>40.667236</td>\n",
       "    </tr>\n",
       "    <tr>\n",
       "      <th>255078</th>\n",
       "      <td>1</td>\n",
       "      <td>1</td>\n",
       "      <td>1.82</td>\n",
       "      <td>-73.957771</td>\n",
       "      <td>40.729897</td>\n",
       "      <td>-73.948448</td>\n",
       "      <td>40.707626</td>\n",
       "    </tr>\n",
       "    <tr>\n",
       "      <th>509681</th>\n",
       "      <td>1</td>\n",
       "      <td>1</td>\n",
       "      <td>1.60</td>\n",
       "      <td>-73.949371</td>\n",
       "      <td>40.784962</td>\n",
       "      <td>-73.949524</td>\n",
       "      <td>40.802189</td>\n",
       "    </tr>\n",
       "  </tbody>\n",
       "</table>\n",
       "</div>"
      ],
      "text/plain": [
       "         RateCodeID  Passenger_count  Trip_distance  Pickup_longitude  \\\n",
       "47674             1                1           2.60        -73.939537   \n",
       "536221            1                1           1.80        -73.987411   \n",
       "1190229           1                1           1.39        -73.955940   \n",
       "255078            1                1           1.82        -73.957771   \n",
       "509681            1                1           1.60        -73.949371   \n",
       "\n",
       "         Pickup_latitude  Dropoff_longitude  Dropoff_latitude  \n",
       "47674          40.805061         -73.947723         40.775085  \n",
       "536221         40.692333         -73.970001         40.677895  \n",
       "1190229        40.681236         -73.951218         40.667236  \n",
       "255078         40.729897         -73.948448         40.707626  \n",
       "509681         40.784962         -73.949524         40.802189  "
      ]
     },
     "execution_count": 75,
     "metadata": {},
     "output_type": "execute_result"
    }
   ],
   "source": [
    "X_train[num_features].head()"
   ]
  },
  {
   "cell_type": "code",
   "execution_count": 77,
   "metadata": {},
   "outputs": [
    {
     "data": {
      "text/html": [
       "<div>\n",
       "<style>\n",
       "    .dataframe thead tr:only-child th {\n",
       "        text-align: right;\n",
       "    }\n",
       "\n",
       "    .dataframe thead th {\n",
       "        text-align: left;\n",
       "    }\n",
       "\n",
       "    .dataframe tbody tr th {\n",
       "        vertical-align: top;\n",
       "    }\n",
       "</style>\n",
       "<table border=\"1\" class=\"dataframe\">\n",
       "  <thead>\n",
       "    <tr style=\"text-align: right;\">\n",
       "      <th></th>\n",
       "      <th>RateCodeID</th>\n",
       "      <th>Passenger_count</th>\n",
       "      <th>Trip_distance</th>\n",
       "      <th>Pickup_longitude</th>\n",
       "      <th>Pickup_latitude</th>\n",
       "      <th>Dropoff_longitude</th>\n",
       "      <th>Dropoff_latitude</th>\n",
       "    </tr>\n",
       "  </thead>\n",
       "  <tbody>\n",
       "    <tr>\n",
       "      <th>446980</th>\n",
       "      <td>1</td>\n",
       "      <td>1</td>\n",
       "      <td>0.68</td>\n",
       "      <td>-73.951050</td>\n",
       "      <td>40.674511</td>\n",
       "      <td>-73.950104</td>\n",
       "      <td>40.680382</td>\n",
       "    </tr>\n",
       "    <tr>\n",
       "      <th>1424677</th>\n",
       "      <td>1</td>\n",
       "      <td>1</td>\n",
       "      <td>0.70</td>\n",
       "      <td>-73.977142</td>\n",
       "      <td>40.672264</td>\n",
       "      <td>-73.985275</td>\n",
       "      <td>40.665283</td>\n",
       "    </tr>\n",
       "    <tr>\n",
       "      <th>350860</th>\n",
       "      <td>1</td>\n",
       "      <td>1</td>\n",
       "      <td>1.05</td>\n",
       "      <td>-73.947540</td>\n",
       "      <td>40.815216</td>\n",
       "      <td>-73.959694</td>\n",
       "      <td>40.808681</td>\n",
       "    </tr>\n",
       "    <tr>\n",
       "      <th>189702</th>\n",
       "      <td>1</td>\n",
       "      <td>1</td>\n",
       "      <td>1.64</td>\n",
       "      <td>-73.978378</td>\n",
       "      <td>40.683994</td>\n",
       "      <td>-73.989655</td>\n",
       "      <td>40.665195</td>\n",
       "    </tr>\n",
       "    <tr>\n",
       "      <th>597550</th>\n",
       "      <td>1</td>\n",
       "      <td>1</td>\n",
       "      <td>0.00</td>\n",
       "      <td>-73.983276</td>\n",
       "      <td>40.677292</td>\n",
       "      <td>-73.983459</td>\n",
       "      <td>40.671162</td>\n",
       "    </tr>\n",
       "  </tbody>\n",
       "</table>\n",
       "</div>"
      ],
      "text/plain": [
       "         RateCodeID  Passenger_count  Trip_distance  Pickup_longitude  \\\n",
       "446980            1                1           0.68        -73.951050   \n",
       "1424677           1                1           0.70        -73.977142   \n",
       "350860            1                1           1.05        -73.947540   \n",
       "189702            1                1           1.64        -73.978378   \n",
       "597550            1                1           0.00        -73.983276   \n",
       "\n",
       "         Pickup_latitude  Dropoff_longitude  Dropoff_latitude  \n",
       "446980         40.674511         -73.950104         40.680382  \n",
       "1424677        40.672264         -73.985275         40.665283  \n",
       "350860         40.815216         -73.959694         40.808681  \n",
       "189702         40.683994         -73.989655         40.665195  \n",
       "597550         40.677292         -73.983459         40.671162  "
      ]
     },
     "execution_count": 77,
     "metadata": {},
     "output_type": "execute_result"
    }
   ],
   "source": [
    "X_test[num_features].head()"
   ]
  },
  {
   "cell_type": "code",
   "execution_count": 79,
   "metadata": {},
   "outputs": [
    {
     "data": {
      "text/html": [
       "<div>\n",
       "<style>\n",
       "    .dataframe thead tr:only-child th {\n",
       "        text-align: right;\n",
       "    }\n",
       "\n",
       "    .dataframe thead th {\n",
       "        text-align: left;\n",
       "    }\n",
       "\n",
       "    .dataframe tbody tr th {\n",
       "        vertical-align: top;\n",
       "    }\n",
       "</style>\n",
       "<table border=\"1\" class=\"dataframe\">\n",
       "  <thead>\n",
       "    <tr style=\"text-align: right;\">\n",
       "      <th></th>\n",
       "      <th>tip_percentage</th>\n",
       "    </tr>\n",
       "  </thead>\n",
       "  <tbody>\n",
       "    <tr>\n",
       "      <th>47674</th>\n",
       "      <td>16.614420</td>\n",
       "    </tr>\n",
       "    <tr>\n",
       "      <th>536221</th>\n",
       "      <td>19.858156</td>\n",
       "    </tr>\n",
       "    <tr>\n",
       "      <th>1190229</th>\n",
       "      <td>70.671378</td>\n",
       "    </tr>\n",
       "    <tr>\n",
       "      <th>255078</th>\n",
       "      <td>0.000000</td>\n",
       "    </tr>\n",
       "    <tr>\n",
       "      <th>509681</th>\n",
       "      <td>16.666667</td>\n",
       "    </tr>\n",
       "  </tbody>\n",
       "</table>\n",
       "</div>"
      ],
      "text/plain": [
       "         tip_percentage\n",
       "47674         16.614420\n",
       "536221        19.858156\n",
       "1190229       70.671378\n",
       "255078         0.000000\n",
       "509681        16.666667"
      ]
     },
     "execution_count": 79,
     "metadata": {},
     "output_type": "execute_result"
    }
   ],
   "source": [
    "y_train.head()"
   ]
  },
  {
   "cell_type": "code",
   "execution_count": 80,
   "metadata": {},
   "outputs": [
    {
     "data": {
      "text/html": [
       "<div>\n",
       "<style>\n",
       "    .dataframe thead tr:only-child th {\n",
       "        text-align: right;\n",
       "    }\n",
       "\n",
       "    .dataframe thead th {\n",
       "        text-align: left;\n",
       "    }\n",
       "\n",
       "    .dataframe tbody tr th {\n",
       "        vertical-align: top;\n",
       "    }\n",
       "</style>\n",
       "<table border=\"1\" class=\"dataframe\">\n",
       "  <thead>\n",
       "    <tr style=\"text-align: right;\">\n",
       "      <th></th>\n",
       "      <th>tip_percentage</th>\n",
       "    </tr>\n",
       "  </thead>\n",
       "  <tbody>\n",
       "    <tr>\n",
       "      <th>446980</th>\n",
       "      <td>20.000000</td>\n",
       "    </tr>\n",
       "    <tr>\n",
       "      <th>1424677</th>\n",
       "      <td>16.564417</td>\n",
       "    </tr>\n",
       "    <tr>\n",
       "      <th>350860</th>\n",
       "      <td>16.666667</td>\n",
       "    </tr>\n",
       "    <tr>\n",
       "      <th>189702</th>\n",
       "      <td>8.849558</td>\n",
       "    </tr>\n",
       "    <tr>\n",
       "      <th>597550</th>\n",
       "      <td>16.666667</td>\n",
       "    </tr>\n",
       "  </tbody>\n",
       "</table>\n",
       "</div>"
      ],
      "text/plain": [
       "         tip_percentage\n",
       "446980        20.000000\n",
       "1424677       16.564417\n",
       "350860        16.666667\n",
       "189702         8.849558\n",
       "597550        16.666667"
      ]
     },
     "execution_count": 80,
     "metadata": {},
     "output_type": "execute_result"
    }
   ],
   "source": [
    "y_test.head()"
   ]
  },
  {
   "cell_type": "markdown",
   "metadata": {},
   "source": [
    "#### Question 5"
   ]
  },
  {
   "cell_type": "markdown",
   "metadata": {},
   "source": [
    "###### Option C: Search\n",
    "We’re thinking about promoting ride sharing. Build a function that given point a point P, find the k trip origination points nearest P.\n",
    "For this question, point P would be a taxi ride starting location picked by us at a given LAT-LONG.\n",
    "As an extra layer of complexity, consider the time for pickups, so this could eventually be used for real time ride sharing matching.\n",
    "Please explain not only how this can be computed, but how efficient your approach is (time and space complexity)"
   ]
  },
  {
   "cell_type": "code",
   "execution_count": 42,
   "metadata": {},
   "outputs": [
    {
     "data": {
      "text/plain": [
       "(1494925, 25)"
      ]
     },
     "execution_count": 42,
     "metadata": {},
     "output_type": "execute_result"
    }
   ],
   "source": [
    "clean_trips.shape"
   ]
  },
  {
   "cell_type": "code",
   "execution_count": 43,
   "metadata": {},
   "outputs": [
    {
     "data": {
      "text/plain": [
       "Index([u'VendorID', u'lpep_pickup_datetime', u'Lpep_dropoff_datetime',\n",
       "       u'Store_and_fwd_flag', u'RateCodeID', u'Pickup_longitude',\n",
       "       u'Pickup_latitude', u'Dropoff_longitude', u'Dropoff_latitude',\n",
       "       u'Passenger_count', u'Trip_distance', u'Fare_amount', u'Extra',\n",
       "       u'MTA_tax', u'Tip_amount', u'Tolls_amount', u'Ehail_fee',\n",
       "       u'improvement_surcharge', u'Total_amount', u'Payment_type',\n",
       "       u'Trip_type ', u'pickup_datetime', u'dropoff_datetime', u'hour_pickup',\n",
       "       u'hour_dropoff'],\n",
       "      dtype='object')"
      ]
     },
     "execution_count": 43,
     "metadata": {},
     "output_type": "execute_result"
    }
   ],
   "source": [
    "clean_trips.columns"
   ]
  },
  {
   "cell_type": "code",
   "execution_count": 44,
   "metadata": {},
   "outputs": [
    {
     "data": {
      "text/html": [
       "<div>\n",
       "<style>\n",
       "    .dataframe thead tr:only-child th {\n",
       "        text-align: right;\n",
       "    }\n",
       "\n",
       "    .dataframe thead th {\n",
       "        text-align: left;\n",
       "    }\n",
       "\n",
       "    .dataframe tbody tr th {\n",
       "        vertical-align: top;\n",
       "    }\n",
       "</style>\n",
       "<table border=\"1\" class=\"dataframe\">\n",
       "  <thead>\n",
       "    <tr style=\"text-align: right;\">\n",
       "      <th></th>\n",
       "      <th>VendorID</th>\n",
       "      <th>lpep_pickup_datetime</th>\n",
       "      <th>Pickup_longitude</th>\n",
       "      <th>Pickup_latitude</th>\n",
       "    </tr>\n",
       "  </thead>\n",
       "  <tbody>\n",
       "    <tr>\n",
       "      <th>0</th>\n",
       "      <td>2</td>\n",
       "      <td>2015-09-01 00:02:34</td>\n",
       "      <td>-73.979485</td>\n",
       "      <td>40.684956</td>\n",
       "    </tr>\n",
       "    <tr>\n",
       "      <th>1</th>\n",
       "      <td>2</td>\n",
       "      <td>2015-09-01 00:04:20</td>\n",
       "      <td>-74.010796</td>\n",
       "      <td>40.912216</td>\n",
       "    </tr>\n",
       "    <tr>\n",
       "      <th>2</th>\n",
       "      <td>2</td>\n",
       "      <td>2015-09-01 00:01:50</td>\n",
       "      <td>-73.921410</td>\n",
       "      <td>40.766708</td>\n",
       "    </tr>\n",
       "    <tr>\n",
       "      <th>3</th>\n",
       "      <td>2</td>\n",
       "      <td>2015-09-01 00:02:36</td>\n",
       "      <td>-73.921387</td>\n",
       "      <td>40.766678</td>\n",
       "    </tr>\n",
       "    <tr>\n",
       "      <th>4</th>\n",
       "      <td>2</td>\n",
       "      <td>2015-09-01 00:00:14</td>\n",
       "      <td>-73.955482</td>\n",
       "      <td>40.714046</td>\n",
       "    </tr>\n",
       "  </tbody>\n",
       "</table>\n",
       "</div>"
      ],
      "text/plain": [
       "   VendorID lpep_pickup_datetime  Pickup_longitude  Pickup_latitude\n",
       "0         2  2015-09-01 00:02:34        -73.979485        40.684956\n",
       "1         2  2015-09-01 00:04:20        -74.010796        40.912216\n",
       "2         2  2015-09-01 00:01:50        -73.921410        40.766708\n",
       "3         2  2015-09-01 00:02:36        -73.921387        40.766678\n",
       "4         2  2015-09-01 00:00:14        -73.955482        40.714046"
      ]
     },
     "execution_count": 44,
     "metadata": {},
     "output_type": "execute_result"
    }
   ],
   "source": [
    "clean_trips[['VendorID','lpep_pickup_datetime','Pickup_longitude','Pickup_latitude']].head()"
   ]
  },
  {
   "cell_type": "code",
   "execution_count": 45,
   "metadata": {},
   "outputs": [
    {
     "data": {
      "text/plain": [
       "count    1.494925e+06\n",
       "mean    -7.383084e+01\n",
       "std      2.776083e+00\n",
       "min     -8.331908e+01\n",
       "25%     -7.395961e+01\n",
       "50%     -7.394536e+01\n",
       "75%     -7.391748e+01\n",
       "max      0.000000e+00\n",
       "Name: Pickup_longitude, dtype: float64"
      ]
     },
     "execution_count": 45,
     "metadata": {},
     "output_type": "execute_result"
    }
   ],
   "source": [
    "clean_trips.Pickup_longitude.describe()"
   ]
  },
  {
   "cell_type": "code",
   "execution_count": 46,
   "metadata": {
    "collapsed": true
   },
   "outputs": [],
   "source": [
    "search_trips = clean_trips[(clean_trips.Pickup_longitude!=0) & (clean_trips.Pickup_latitude!=0)]"
   ]
  },
  {
   "cell_type": "code",
   "execution_count": 47,
   "metadata": {},
   "outputs": [
    {
     "data": {
      "text/plain": [
       "((1494925, 25), (1492815, 25))"
      ]
     },
     "execution_count": 47,
     "metadata": {},
     "output_type": "execute_result"
    }
   ],
   "source": [
    "clean_trips.shape, search_trips.shape"
   ]
  },
  {
   "cell_type": "code",
   "execution_count": 48,
   "metadata": {},
   "outputs": [
    {
     "name": "stdout",
     "output_type": "stream",
     "text": [
      "-83.3190765381 -71.0042114258\n",
      "39.3569374084 43.1772613525\n"
     ]
    }
   ],
   "source": [
    "print search_trips.Pickup_longitude.min(), search_trips.Pickup_longitude.max()\n",
    "print search_trips.Pickup_latitude.min(), search_trips.Pickup_latitude.max()"
   ]
  },
  {
   "cell_type": "code",
   "execution_count": 49,
   "metadata": {
    "collapsed": true
   },
   "outputs": [],
   "source": [
    "from sklearn.neighbors import KDTree"
   ]
  },
  {
   "cell_type": "code",
   "execution_count": 50,
   "metadata": {
    "collapsed": true
   },
   "outputs": [],
   "source": [
    "tree = KDTree(search_trips[['Pickup_longitude', 'Pickup_latitude']])"
   ]
  },
  {
   "cell_type": "code",
   "execution_count": 51,
   "metadata": {},
   "outputs": [
    {
     "data": {
      "text/plain": [
       "<sklearn.neighbors.kd_tree.KDTree at 0x6d0a070>"
      ]
     },
     "execution_count": 51,
     "metadata": {},
     "output_type": "execute_result"
    }
   ],
   "source": [
    "tree"
   ]
  },
  {
   "cell_type": "code",
   "execution_count": 52,
   "metadata": {
    "collapsed": true
   },
   "outputs": [],
   "source": [
    "point_query = np.array([-73.958844, 40.682388]).reshape(1,-1)"
   ]
  },
  {
   "cell_type": "code",
   "execution_count": 53,
   "metadata": {
    "collapsed": true
   },
   "outputs": [],
   "source": [
    "dist, ind = tree.query(point_query, k=5)"
   ]
  },
  {
   "cell_type": "code",
   "execution_count": 54,
   "metadata": {},
   "outputs": [
    {
     "data": {
      "text/plain": [
       "(array([[  8.62140430e-05,   9.68515956e-05,   1.00956659e-04,\n",
       "           1.08313703e-04,   1.12043886e-04]]),\n",
       " array([[715942, 406083, 536953, 266028,  55857]]))"
      ]
     },
     "execution_count": 54,
     "metadata": {},
     "output_type": "execute_result"
    }
   ],
   "source": [
    "dist, ind"
   ]
  },
  {
   "cell_type": "code",
   "execution_count": 55,
   "metadata": {},
   "outputs": [
    {
     "data": {
      "text/plain": [
       "[715942, 406083, 536953, 266028, 55857]"
      ]
     },
     "execution_count": 55,
     "metadata": {},
     "output_type": "execute_result"
    }
   ],
   "source": [
    "ind.tolist()[0]"
   ]
  },
  {
   "cell_type": "code",
   "execution_count": 62,
   "metadata": {},
   "outputs": [
    {
     "data": {
      "text/html": [
       "<div>\n",
       "<style>\n",
       "    .dataframe thead tr:only-child th {\n",
       "        text-align: right;\n",
       "    }\n",
       "\n",
       "    .dataframe thead th {\n",
       "        text-align: left;\n",
       "    }\n",
       "\n",
       "    .dataframe tbody tr th {\n",
       "        vertical-align: top;\n",
       "    }\n",
       "</style>\n",
       "<table border=\"1\" class=\"dataframe\">\n",
       "  <thead>\n",
       "    <tr style=\"text-align: right;\">\n",
       "      <th></th>\n",
       "      <th>VendorID</th>\n",
       "      <th>Pickup_latitude</th>\n",
       "      <th>Pickup_longitude</th>\n",
       "    </tr>\n",
       "  </thead>\n",
       "  <tbody>\n",
       "    <tr>\n",
       "      <th>715942</th>\n",
       "      <td>2</td>\n",
       "      <td>40.791206</td>\n",
       "      <td>-73.952240</td>\n",
       "    </tr>\n",
       "    <tr>\n",
       "      <th>406083</th>\n",
       "      <td>2</td>\n",
       "      <td>40.718792</td>\n",
       "      <td>-73.841217</td>\n",
       "    </tr>\n",
       "    <tr>\n",
       "      <th>536953</th>\n",
       "      <td>1</td>\n",
       "      <td>40.654064</td>\n",
       "      <td>-73.956139</td>\n",
       "    </tr>\n",
       "    <tr>\n",
       "      <th>266028</th>\n",
       "      <td>2</td>\n",
       "      <td>40.688736</td>\n",
       "      <td>-73.948502</td>\n",
       "    </tr>\n",
       "    <tr>\n",
       "      <th>55857</th>\n",
       "      <td>1</td>\n",
       "      <td>40.842129</td>\n",
       "      <td>-73.943771</td>\n",
       "    </tr>\n",
       "  </tbody>\n",
       "</table>\n",
       "</div>"
      ],
      "text/plain": [
       "        VendorID  Pickup_latitude  Pickup_longitude\n",
       "715942         2        40.791206        -73.952240\n",
       "406083         2        40.718792        -73.841217\n",
       "536953         1        40.654064        -73.956139\n",
       "266028         2        40.688736        -73.948502\n",
       "55857          1        40.842129        -73.943771"
      ]
     },
     "execution_count": 62,
     "metadata": {},
     "output_type": "execute_result"
    }
   ],
   "source": [
    "search_trips.loc[ind.tolist()[0],['VendorID','Pickup_latitude','Pickup_longitude']]"
   ]
  },
  {
   "cell_type": "code",
   "execution_count": 64,
   "metadata": {
    "collapsed": true
   },
   "outputs": [],
   "source": [
    "from sklearn.neighbors import KDTree\n",
    "\n",
    "def find_k_nearest_points(lat, lon, current_time, k):\n",
    "    # Load trip data in past 10 minutes\n",
    "    last_10_mins_trips = clean_trips[(current_time - clean_trips['pickup_datetime']).dt.minute < 10]\n",
    "    # Construct KD Tree from the pickup points from last 10 mins trips\n",
    "    points = last_10_mins_trips[['Pickup_latitude','Pickup_longitude']]\n",
    "    tree = KDTree(points)\n",
    "    # Query k nearest points\n",
    "    point_query = np.array([lat,lon]).reshape(1,-1)\n",
    "    dist, ind = tree.query(point_query, k=k)\n",
    "    # Return k VendorID and Pickup lat/lon coordinates\n",
    "    k_points = last_10_mins_trips.loc[ind.tolist(),['VendorID','Pickup_latitude','Pickup_longitude']]\n",
    "    return k_points"
   ]
  },
  {
   "cell_type": "markdown",
   "metadata": {},
   "source": [
    "###### Option D: Anomaly Detection\n",
    "What anomalies can you find in the data? Did taxi traffic or behavior deviate from the norm on a particular day/time or in a particular location?\n",
    "Using time-series analysis, clustering, or some other method, please develop a process/methodology to identify out of the norm behavior and attempt to explain why those anomalies occurred."
   ]
  },
  {
   "cell_type": "code",
   "execution_count": null,
   "metadata": {
    "collapsed": true
   },
   "outputs": [],
   "source": []
  }
 ],
 "metadata": {
  "kernelspec": {
   "display_name": "Python 2",
   "language": "python",
   "name": "python2"
  },
  "language_info": {
   "codemirror_mode": {
    "name": "ipython",
    "version": 2
   },
   "file_extension": ".py",
   "mimetype": "text/x-python",
   "name": "python",
   "nbconvert_exporter": "python",
   "pygments_lexer": "ipython2",
   "version": "2.7.12"
  }
 },
 "nbformat": 4,
 "nbformat_minor": 1
}
