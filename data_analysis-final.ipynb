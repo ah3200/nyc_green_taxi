{
 "cells": [
  {
   "cell_type": "markdown",
   "metadata": {},
   "source": [
    "### Required Questions: Please answer completely all four required questions.\n",
    "\n",
    "#### Question 1\n",
    "Programmatically download and load into your favorite analytical tool the trip data for September 2015.\n",
    "Report how many rows and columns of data you have loaded.\n",
    "\n",
    "#### Question 2\n",
    "Plot a histogram of the number of the trip distance (\"Trip Distance\").\n",
    "Report any structure you find and any hypotheses you have about that structure.\n",
    "\n",
    "#### Question 3\n",
    "Report mean and median trip distance grouped by hour of day.\n",
    "We'd like to get a rough sense of identifying trips that originate or terminate at one of the NYC area airports. Can you provide a count of how many transactions fit this criteria, the average fair, and any other interesting characteristics of these trips.\n",
    "\n",
    "#### Question 4\n",
    "Build a derived variable for tip as a percentage of the total fare.\n",
    "Build a predictive model for tip as a percentage of the total fare. Use as much of the data as you like (or all of it). We will validate a sample."
   ]
  },
  {
   "cell_type": "code",
   "execution_count": 1,
   "metadata": {},
   "outputs": [],
   "source": [
    "import pandas as pd\n",
    "import numpy as np\n",
    "\n",
    "import matplotlib.pyplot as plt\n",
    "%matplotlib inline\n",
    "import seaborn as sns"
   ]
  },
  {
   "cell_type": "markdown",
   "metadata": {},
   "source": [
    "#### Question 1\n",
    "Programmatically download and load into your favorite analytical tool the trip data for September 2015.\n",
    "Report how many rows and columns of data you have loaded."
   ]
  },
  {
   "cell_type": "code",
   "execution_count": 2,
   "metadata": {
    "collapsed": true
   },
   "outputs": [],
   "source": [
    "# Dataset can be loaded from url provided by TLC\n",
    "#url = \"https://s3.amazonaws.com/nyc-tlc/trip+data/green_tripdata_2015-09.csv\"\n",
    "# In this notebook, the data has been downloaded to local computer\n",
    "trips = pd.read_csv('./data/green_tripdata_2015-09.csv')"
   ]
  },
  {
   "cell_type": "code",
   "execution_count": 3,
   "metadata": {},
   "outputs": [
    {
     "name": "stdout",
     "output_type": "stream",
     "text": [
      "Number of rows = 1494926\n",
      "Number of columns = 21\n"
     ]
    }
   ],
   "source": [
    "# Inspect number of rows/columns\n",
    "print \"Number of rows = %i\" % (trips.shape[0])\n",
    "print \"Number of columns = %i\" % (trips.shape[1])"
   ]
  },
  {
   "cell_type": "code",
   "execution_count": 4,
   "metadata": {},
   "outputs": [
    {
     "name": "stdout",
     "output_type": "stream",
     "text": [
      "Index([u'VendorID', u'lpep_pickup_datetime', u'Lpep_dropoff_datetime',\n",
      "       u'Store_and_fwd_flag', u'RateCodeID', u'Pickup_longitude',\n",
      "       u'Pickup_latitude', u'Dropoff_longitude', u'Dropoff_latitude',\n",
      "       u'Passenger_count', u'Trip_distance', u'Fare_amount', u'Extra',\n",
      "       u'MTA_tax', u'Tip_amount', u'Tolls_amount', u'Ehail_fee',\n",
      "       u'improvement_surcharge', u'Total_amount', u'Payment_type',\n",
      "       u'Trip_type '],\n",
      "      dtype='object')\n"
     ]
    }
   ],
   "source": [
    "# I also examined column description\n",
    "# Data dictionaries can be found at \n",
    "# http://www.nyc.gov/html/tlc/downloads/pdf/data_dictionary_trip_records_green.pdf\n",
    "print trips.columns"
   ]
  },
  {
   "cell_type": "code",
   "execution_count": 5,
   "metadata": {},
   "outputs": [
    {
     "data": {
      "text/html": [
       "<div>\n",
       "<style>\n",
       "    .dataframe thead tr:only-child th {\n",
       "        text-align: right;\n",
       "    }\n",
       "\n",
       "    .dataframe thead th {\n",
       "        text-align: left;\n",
       "    }\n",
       "\n",
       "    .dataframe tbody tr th {\n",
       "        vertical-align: top;\n",
       "    }\n",
       "</style>\n",
       "<table border=\"1\" class=\"dataframe\">\n",
       "  <thead>\n",
       "    <tr style=\"text-align: right;\">\n",
       "      <th></th>\n",
       "      <th>VendorID</th>\n",
       "      <th>lpep_pickup_datetime</th>\n",
       "      <th>Lpep_dropoff_datetime</th>\n",
       "      <th>Store_and_fwd_flag</th>\n",
       "      <th>RateCodeID</th>\n",
       "      <th>Pickup_longitude</th>\n",
       "      <th>Pickup_latitude</th>\n",
       "      <th>Dropoff_longitude</th>\n",
       "      <th>Dropoff_latitude</th>\n",
       "      <th>Passenger_count</th>\n",
       "      <th>...</th>\n",
       "      <th>Fare_amount</th>\n",
       "      <th>Extra</th>\n",
       "      <th>MTA_tax</th>\n",
       "      <th>Tip_amount</th>\n",
       "      <th>Tolls_amount</th>\n",
       "      <th>Ehail_fee</th>\n",
       "      <th>improvement_surcharge</th>\n",
       "      <th>Total_amount</th>\n",
       "      <th>Payment_type</th>\n",
       "      <th>Trip_type</th>\n",
       "    </tr>\n",
       "  </thead>\n",
       "  <tbody>\n",
       "    <tr>\n",
       "      <th>0</th>\n",
       "      <td>2</td>\n",
       "      <td>2015-09-01 00:02:34</td>\n",
       "      <td>2015-09-01 00:02:38</td>\n",
       "      <td>N</td>\n",
       "      <td>5</td>\n",
       "      <td>-73.979485</td>\n",
       "      <td>40.684956</td>\n",
       "      <td>-73.979431</td>\n",
       "      <td>40.685020</td>\n",
       "      <td>1</td>\n",
       "      <td>...</td>\n",
       "      <td>7.8</td>\n",
       "      <td>0.0</td>\n",
       "      <td>0.0</td>\n",
       "      <td>1.95</td>\n",
       "      <td>0.0</td>\n",
       "      <td>NaN</td>\n",
       "      <td>0.0</td>\n",
       "      <td>9.75</td>\n",
       "      <td>1</td>\n",
       "      <td>2.0</td>\n",
       "    </tr>\n",
       "    <tr>\n",
       "      <th>1</th>\n",
       "      <td>2</td>\n",
       "      <td>2015-09-01 00:04:20</td>\n",
       "      <td>2015-09-01 00:04:24</td>\n",
       "      <td>N</td>\n",
       "      <td>5</td>\n",
       "      <td>-74.010796</td>\n",
       "      <td>40.912216</td>\n",
       "      <td>-74.010780</td>\n",
       "      <td>40.912212</td>\n",
       "      <td>1</td>\n",
       "      <td>...</td>\n",
       "      <td>45.0</td>\n",
       "      <td>0.0</td>\n",
       "      <td>0.0</td>\n",
       "      <td>0.00</td>\n",
       "      <td>0.0</td>\n",
       "      <td>NaN</td>\n",
       "      <td>0.0</td>\n",
       "      <td>45.00</td>\n",
       "      <td>1</td>\n",
       "      <td>2.0</td>\n",
       "    </tr>\n",
       "    <tr>\n",
       "      <th>2</th>\n",
       "      <td>2</td>\n",
       "      <td>2015-09-01 00:01:50</td>\n",
       "      <td>2015-09-01 00:04:24</td>\n",
       "      <td>N</td>\n",
       "      <td>1</td>\n",
       "      <td>-73.921410</td>\n",
       "      <td>40.766708</td>\n",
       "      <td>-73.914413</td>\n",
       "      <td>40.764687</td>\n",
       "      <td>1</td>\n",
       "      <td>...</td>\n",
       "      <td>4.0</td>\n",
       "      <td>0.5</td>\n",
       "      <td>0.5</td>\n",
       "      <td>0.50</td>\n",
       "      <td>0.0</td>\n",
       "      <td>NaN</td>\n",
       "      <td>0.3</td>\n",
       "      <td>5.80</td>\n",
       "      <td>1</td>\n",
       "      <td>1.0</td>\n",
       "    </tr>\n",
       "    <tr>\n",
       "      <th>3</th>\n",
       "      <td>2</td>\n",
       "      <td>2015-09-01 00:02:36</td>\n",
       "      <td>2015-09-01 00:06:42</td>\n",
       "      <td>N</td>\n",
       "      <td>1</td>\n",
       "      <td>-73.921387</td>\n",
       "      <td>40.766678</td>\n",
       "      <td>-73.931427</td>\n",
       "      <td>40.771584</td>\n",
       "      <td>1</td>\n",
       "      <td>...</td>\n",
       "      <td>5.0</td>\n",
       "      <td>0.5</td>\n",
       "      <td>0.5</td>\n",
       "      <td>0.00</td>\n",
       "      <td>0.0</td>\n",
       "      <td>NaN</td>\n",
       "      <td>0.3</td>\n",
       "      <td>6.30</td>\n",
       "      <td>2</td>\n",
       "      <td>1.0</td>\n",
       "    </tr>\n",
       "    <tr>\n",
       "      <th>4</th>\n",
       "      <td>2</td>\n",
       "      <td>2015-09-01 00:00:14</td>\n",
       "      <td>2015-09-01 00:04:20</td>\n",
       "      <td>N</td>\n",
       "      <td>1</td>\n",
       "      <td>-73.955482</td>\n",
       "      <td>40.714046</td>\n",
       "      <td>-73.944412</td>\n",
       "      <td>40.714729</td>\n",
       "      <td>1</td>\n",
       "      <td>...</td>\n",
       "      <td>5.0</td>\n",
       "      <td>0.5</td>\n",
       "      <td>0.5</td>\n",
       "      <td>0.00</td>\n",
       "      <td>0.0</td>\n",
       "      <td>NaN</td>\n",
       "      <td>0.3</td>\n",
       "      <td>6.30</td>\n",
       "      <td>2</td>\n",
       "      <td>1.0</td>\n",
       "    </tr>\n",
       "  </tbody>\n",
       "</table>\n",
       "<p>5 rows × 21 columns</p>\n",
       "</div>"
      ],
      "text/plain": [
       "   VendorID lpep_pickup_datetime Lpep_dropoff_datetime Store_and_fwd_flag  \\\n",
       "0         2  2015-09-01 00:02:34   2015-09-01 00:02:38                  N   \n",
       "1         2  2015-09-01 00:04:20   2015-09-01 00:04:24                  N   \n",
       "2         2  2015-09-01 00:01:50   2015-09-01 00:04:24                  N   \n",
       "3         2  2015-09-01 00:02:36   2015-09-01 00:06:42                  N   \n",
       "4         2  2015-09-01 00:00:14   2015-09-01 00:04:20                  N   \n",
       "\n",
       "   RateCodeID  Pickup_longitude  Pickup_latitude  Dropoff_longitude  \\\n",
       "0           5        -73.979485        40.684956         -73.979431   \n",
       "1           5        -74.010796        40.912216         -74.010780   \n",
       "2           1        -73.921410        40.766708         -73.914413   \n",
       "3           1        -73.921387        40.766678         -73.931427   \n",
       "4           1        -73.955482        40.714046         -73.944412   \n",
       "\n",
       "   Dropoff_latitude  Passenger_count     ...      Fare_amount  Extra  MTA_tax  \\\n",
       "0         40.685020                1     ...              7.8    0.0      0.0   \n",
       "1         40.912212                1     ...             45.0    0.0      0.0   \n",
       "2         40.764687                1     ...              4.0    0.5      0.5   \n",
       "3         40.771584                1     ...              5.0    0.5      0.5   \n",
       "4         40.714729                1     ...              5.0    0.5      0.5   \n",
       "\n",
       "   Tip_amount  Tolls_amount  Ehail_fee  improvement_surcharge  Total_amount  \\\n",
       "0        1.95           0.0        NaN                    0.0          9.75   \n",
       "1        0.00           0.0        NaN                    0.0         45.00   \n",
       "2        0.50           0.0        NaN                    0.3          5.80   \n",
       "3        0.00           0.0        NaN                    0.3          6.30   \n",
       "4        0.00           0.0        NaN                    0.3          6.30   \n",
       "\n",
       "   Payment_type  Trip_type   \n",
       "0             1         2.0  \n",
       "1             1         2.0  \n",
       "2             1         1.0  \n",
       "3             2         1.0  \n",
       "4             2         1.0  \n",
       "\n",
       "[5 rows x 21 columns]"
      ]
     },
     "execution_count": 5,
     "metadata": {},
     "output_type": "execute_result"
    }
   ],
   "source": [
    "# A quick look on data\n",
    "trips.head()"
   ]
  },
  {
   "cell_type": "code",
   "execution_count": 6,
   "metadata": {},
   "outputs": [
    {
     "data": {
      "text/plain": [
       "VendorID                       0\n",
       "lpep_pickup_datetime           0\n",
       "Lpep_dropoff_datetime          0\n",
       "Store_and_fwd_flag             0\n",
       "RateCodeID                     0\n",
       "Pickup_longitude               0\n",
       "Pickup_latitude                0\n",
       "Dropoff_longitude              0\n",
       "Dropoff_latitude               0\n",
       "Passenger_count                0\n",
       "Trip_distance                  0\n",
       "Fare_amount                    0\n",
       "Extra                          0\n",
       "MTA_tax                        0\n",
       "Tip_amount                     0\n",
       "Tolls_amount                   0\n",
       "Ehail_fee                1494926\n",
       "improvement_surcharge          0\n",
       "Total_amount                   0\n",
       "Payment_type                   0\n",
       "Trip_type                      4\n",
       "dtype: int64"
      ]
     },
     "execution_count": 6,
     "metadata": {},
     "output_type": "execute_result"
    }
   ],
   "source": [
    "# Check the completeness of data\n",
    "trips.isnull().sum()"
   ]
  },
  {
   "cell_type": "markdown",
   "metadata": {},
   "source": [
    "It seems the data completeness is very good. Only the field 'Ehail_fee' is null for all rows. There is no definition of this field in data dictionaries so we will ignore this field in the analysis and modeling"
   ]
  },
  {
   "cell_type": "markdown",
   "metadata": {},
   "source": [
    "#### Question 2\n",
    "Plot a histogram of the number of the trip distance (\"Trip Distance\").\n",
    "Report any structure you find and any hypotheses you have about that structure."
   ]
  },
  {
   "cell_type": "code",
   "execution_count": 7,
   "metadata": {},
   "outputs": [
    {
     "name": "stdout",
     "output_type": "stream",
     "text": [
      "Mean = 2.968\n",
      "Standard deviation = 3.077\n",
      "Median = 1.980\n",
      "Min = 0.000\n",
      "Max = 603.100\n"
     ]
    }
   ],
   "source": [
    "# Summary statistics\n",
    "print \"Mean = %.3f\" % trips.Trip_distance.mean()\n",
    "print \"Standard deviation = %.3f\" % trips.Trip_distance.std()\n",
    "print \"Median = %.3f\" % trips.Trip_distance.median()\n",
    "print \"Min = %.3f\" % trips.Trip_distance.min()\n",
    "print \"Max = %.3f\" % trips.Trip_distance.max()"
   ]
  },
  {
   "cell_type": "code",
   "execution_count": 8,
   "metadata": {},
   "outputs": [
    {
     "data": {
      "text/plain": [
       "<matplotlib.text.Text at 0x7fe4a9bcbe90>"
      ]
     },
     "execution_count": 8,
     "metadata": {},
     "output_type": "execute_result"
    },
    {
     "data": {
      "image/png": "[encoded data removed]",
      "text/plain": [
       "<matplotlib.figure.Figure at 0x7fe4a608fa50>"
      ]
     },
     "metadata": {},
     "output_type": "display_data"
    }
   ],
   "source": [
    "# Plot histogram and Box-plot to visualize Trip_distance\n",
    "# Create a figure instance, and the two subplots\n",
    "fig = plt.figure(figsize = (20,4))\n",
    "ax1 = fig.add_subplot(121)\n",
    "ax2 = fig.add_subplot(122)\n",
    "\n",
    "p1 = trips.Trip_distance.hist(bins=100, ax=ax1)\n",
    "p2 = sns.boxplot(trips.Trip_distance, ax=ax2)\n",
    "\n",
    "ax1.set(ylabel='Trip distance (miles)')\n",
    "ax1.set_title(\"Histogram of trip distance of NYC green taxi (September 2015)\", size=15)\n",
    "\n",
    "ax2.set(xlabel='Trip distance (miles)')\n",
    "ax2.set_title(\"Box plot of trip distance of NYC green taxi (September 2015)\", size=15)"
   ]
  },
  {
   "cell_type": "code",
   "execution_count": 9,
   "metadata": {
    "collapsed": true
   },
   "outputs": [],
   "source": [
    "check_col = ['lpep_pickup_datetime','Lpep_dropoff_datetime','Pickup_longitude','Pickup_latitude',\n",
    "       'Dropoff_longitude','Dropoff_latitude','RateCodeID','Passenger_count','Trip_distance','Fare_amount',\n",
    "       'Tip_amount','Tolls_amount','Total_amount','Payment_type']"
   ]
  },
  {
   "cell_type": "code",
   "execution_count": 10,
   "metadata": {},
   "outputs": [
    {
     "data": {
      "text/html": [
       "<div>\n",
       "<style>\n",
       "    .dataframe thead tr:only-child th {\n",
       "        text-align: right;\n",
       "    }\n",
       "\n",
       "    .dataframe thead th {\n",
       "        text-align: left;\n",
       "    }\n",
       "\n",
       "    .dataframe tbody tr th {\n",
       "        vertical-align: top;\n",
       "    }\n",
       "</style>\n",
       "<table border=\"1\" class=\"dataframe\">\n",
       "  <thead>\n",
       "    <tr style=\"text-align: right;\">\n",
       "      <th></th>\n",
       "      <th>lpep_pickup_datetime</th>\n",
       "      <th>Lpep_dropoff_datetime</th>\n",
       "      <th>Pickup_longitude</th>\n",
       "      <th>Pickup_latitude</th>\n",
       "      <th>Dropoff_longitude</th>\n",
       "      <th>Dropoff_latitude</th>\n",
       "      <th>RateCodeID</th>\n",
       "      <th>Passenger_count</th>\n",
       "      <th>Trip_distance</th>\n",
       "      <th>Fare_amount</th>\n",
       "      <th>Tip_amount</th>\n",
       "      <th>Tolls_amount</th>\n",
       "      <th>Total_amount</th>\n",
       "      <th>Payment_type</th>\n",
       "    </tr>\n",
       "  </thead>\n",
       "  <tbody>\n",
       "    <tr>\n",
       "      <th>478080</th>\n",
       "      <td>2015-09-10 21:15:00</td>\n",
       "      <td>2015-09-11 00:52:07</td>\n",
       "      <td>-73.871719</td>\n",
       "      <td>40.771744</td>\n",
       "      <td>-76.121590</td>\n",
       "      <td>42.799343</td>\n",
       "      <td>5</td>\n",
       "      <td>1</td>\n",
       "      <td>246.28</td>\n",
       "      <td>300.00</td>\n",
       "      <td>77.44</td>\n",
       "      <td>9.75</td>\n",
       "      <td>387.19</td>\n",
       "      <td>1</td>\n",
       "    </tr>\n",
       "    <tr>\n",
       "      <th>516757</th>\n",
       "      <td>2015-09-11 17:22:50</td>\n",
       "      <td>2015-09-11 20:39:48</td>\n",
       "      <td>-73.937775</td>\n",
       "      <td>40.800926</td>\n",
       "      <td>-72.269753</td>\n",
       "      <td>40.928116</td>\n",
       "      <td>1</td>\n",
       "      <td>1</td>\n",
       "      <td>120.13</td>\n",
       "      <td>316.00</td>\n",
       "      <td>0.00</td>\n",
       "      <td>0.00</td>\n",
       "      <td>317.80</td>\n",
       "      <td>2</td>\n",
       "    </tr>\n",
       "    <tr>\n",
       "      <th>885097</th>\n",
       "      <td>2015-09-18 20:21:27</td>\n",
       "      <td>2015-09-18 22:36:04</td>\n",
       "      <td>-73.958954</td>\n",
       "      <td>40.819847</td>\n",
       "      <td>-72.258629</td>\n",
       "      <td>40.930805</td>\n",
       "      <td>1</td>\n",
       "      <td>1</td>\n",
       "      <td>100.74</td>\n",
       "      <td>258.50</td>\n",
       "      <td>0.00</td>\n",
       "      <td>0.00</td>\n",
       "      <td>259.80</td>\n",
       "      <td>2</td>\n",
       "    </tr>\n",
       "    <tr>\n",
       "      <th>944537</th>\n",
       "      <td>2015-09-19 18:49:29</td>\n",
       "      <td>2015-09-19 21:06:23</td>\n",
       "      <td>-73.961609</td>\n",
       "      <td>40.805958</td>\n",
       "      <td>-72.261024</td>\n",
       "      <td>41.917648</td>\n",
       "      <td>1</td>\n",
       "      <td>1</td>\n",
       "      <td>134.70</td>\n",
       "      <td>342.50</td>\n",
       "      <td>102.95</td>\n",
       "      <td>0.00</td>\n",
       "      <td>446.25</td>\n",
       "      <td>1</td>\n",
       "    </tr>\n",
       "    <tr>\n",
       "      <th>1077032</th>\n",
       "      <td>2015-09-22 10:30:53</td>\n",
       "      <td>2015-09-22 12:28:59</td>\n",
       "      <td>-73.898193</td>\n",
       "      <td>40.749580</td>\n",
       "      <td>-73.899033</td>\n",
       "      <td>40.746319</td>\n",
       "      <td>1</td>\n",
       "      <td>1</td>\n",
       "      <td>105.65</td>\n",
       "      <td>271.50</td>\n",
       "      <td>0.00</td>\n",
       "      <td>15.29</td>\n",
       "      <td>287.59</td>\n",
       "      <td>2</td>\n",
       "    </tr>\n",
       "    <tr>\n",
       "      <th>1282594</th>\n",
       "      <td>2015-09-26 17:23:52</td>\n",
       "      <td>2015-09-27 00:00:00</td>\n",
       "      <td>-73.803436</td>\n",
       "      <td>40.677845</td>\n",
       "      <td>-73.840210</td>\n",
       "      <td>40.719513</td>\n",
       "      <td>5</td>\n",
       "      <td>2</td>\n",
       "      <td>108.62</td>\n",
       "      <td>180.00</td>\n",
       "      <td>18.08</td>\n",
       "      <td>0.00</td>\n",
       "      <td>198.88</td>\n",
       "      <td>1</td>\n",
       "    </tr>\n",
       "    <tr>\n",
       "      <th>1321961</th>\n",
       "      <td>2015-09-27 03:13:48</td>\n",
       "      <td>2015-09-27 03:24:12</td>\n",
       "      <td>-73.937164</td>\n",
       "      <td>40.804386</td>\n",
       "      <td>-73.901382</td>\n",
       "      <td>40.819443</td>\n",
       "      <td>1</td>\n",
       "      <td>1</td>\n",
       "      <td>603.10</td>\n",
       "      <td>1.25</td>\n",
       "      <td>0.00</td>\n",
       "      <td>0.00</td>\n",
       "      <td>2.55</td>\n",
       "      <td>2</td>\n",
       "    </tr>\n",
       "    <tr>\n",
       "      <th>1416994</th>\n",
       "      <td>2015-09-29 10:45:52</td>\n",
       "      <td>2015-09-29 16:55:23</td>\n",
       "      <td>-73.931129</td>\n",
       "      <td>40.693161</td>\n",
       "      <td>-73.936172</td>\n",
       "      <td>40.685581</td>\n",
       "      <td>1</td>\n",
       "      <td>2</td>\n",
       "      <td>112.60</td>\n",
       "      <td>389.00</td>\n",
       "      <td>0.00</td>\n",
       "      <td>41.08</td>\n",
       "      <td>430.88</td>\n",
       "      <td>1</td>\n",
       "    </tr>\n",
       "    <tr>\n",
       "      <th>1432692</th>\n",
       "      <td>2015-09-29 17:01:17</td>\n",
       "      <td>2015-09-29 17:01:19</td>\n",
       "      <td>-73.936172</td>\n",
       "      <td>40.685581</td>\n",
       "      <td>-73.936172</td>\n",
       "      <td>40.685581</td>\n",
       "      <td>3</td>\n",
       "      <td>1</td>\n",
       "      <td>112.60</td>\n",
       "      <td>20.00</td>\n",
       "      <td>6.35</td>\n",
       "      <td>0.00</td>\n",
       "      <td>27.65</td>\n",
       "      <td>1</td>\n",
       "    </tr>\n",
       "    <tr>\n",
       "      <th>1457965</th>\n",
       "      <td>2015-09-30 09:42:56</td>\n",
       "      <td>2015-09-30 09:42:56</td>\n",
       "      <td>-73.914627</td>\n",
       "      <td>40.871475</td>\n",
       "      <td>-73.912315</td>\n",
       "      <td>40.872181</td>\n",
       "      <td>5</td>\n",
       "      <td>1</td>\n",
       "      <td>108.50</td>\n",
       "      <td>18.00</td>\n",
       "      <td>0.00</td>\n",
       "      <td>0.00</td>\n",
       "      <td>18.30</td>\n",
       "      <td>2</td>\n",
       "    </tr>\n",
       "  </tbody>\n",
       "</table>\n",
       "</div>"
      ],
      "text/plain": [
       "        lpep_pickup_datetime Lpep_dropoff_datetime  Pickup_longitude  \\\n",
       "478080   2015-09-10 21:15:00   2015-09-11 00:52:07        -73.871719   \n",
       "516757   2015-09-11 17:22:50   2015-09-11 20:39:48        -73.937775   \n",
       "885097   2015-09-18 20:21:27   2015-09-18 22:36:04        -73.958954   \n",
       "944537   2015-09-19 18:49:29   2015-09-19 21:06:23        -73.961609   \n",
       "1077032  2015-09-22 10:30:53   2015-09-22 12:28:59        -73.898193   \n",
       "1282594  2015-09-26 17:23:52   2015-09-27 00:00:00        -73.803436   \n",
       "1321961  2015-09-27 03:13:48   2015-09-27 03:24:12        -73.937164   \n",
       "1416994  2015-09-29 10:45:52   2015-09-29 16:55:23        -73.931129   \n",
       "1432692  2015-09-29 17:01:17   2015-09-29 17:01:19        -73.936172   \n",
       "1457965  2015-09-30 09:42:56   2015-09-30 09:42:56        -73.914627   \n",
       "\n",
       "         Pickup_latitude  Dropoff_longitude  Dropoff_latitude  RateCodeID  \\\n",
       "478080         40.771744         -76.121590         42.799343           5   \n",
       "516757         40.800926         -72.269753         40.928116           1   \n",
       "885097         40.819847         -72.258629         40.930805           1   \n",
       "944537         40.805958         -72.261024         41.917648           1   \n",
       "1077032        40.749580         -73.899033         40.746319           1   \n",
       "1282594        40.677845         -73.840210         40.719513           5   \n",
       "1321961        40.804386         -73.901382         40.819443           1   \n",
       "1416994        40.693161         -73.936172         40.685581           1   \n",
       "1432692        40.685581         -73.936172         40.685581           3   \n",
       "1457965        40.871475         -73.912315         40.872181           5   \n",
       "\n",
       "         Passenger_count  Trip_distance  Fare_amount  Tip_amount  \\\n",
       "478080                 1         246.28       300.00       77.44   \n",
       "516757                 1         120.13       316.00        0.00   \n",
       "885097                 1         100.74       258.50        0.00   \n",
       "944537                 1         134.70       342.50      102.95   \n",
       "1077032                1         105.65       271.50        0.00   \n",
       "1282594                2         108.62       180.00       18.08   \n",
       "1321961                1         603.10         1.25        0.00   \n",
       "1416994                2         112.60       389.00        0.00   \n",
       "1432692                1         112.60        20.00        6.35   \n",
       "1457965                1         108.50        18.00        0.00   \n",
       "\n",
       "         Tolls_amount  Total_amount  Payment_type  \n",
       "478080           9.75        387.19             1  \n",
       "516757           0.00        317.80             2  \n",
       "885097           0.00        259.80             2  \n",
       "944537           0.00        446.25             1  \n",
       "1077032         15.29        287.59             2  \n",
       "1282594          0.00        198.88             1  \n",
       "1321961          0.00          2.55             2  \n",
       "1416994         41.08        430.88             1  \n",
       "1432692          0.00         27.65             1  \n",
       "1457965          0.00         18.30             2  "
      ]
     },
     "execution_count": 10,
     "metadata": {},
     "output_type": "execute_result"
    }
   ],
   "source": [
    "# Let's also check rows with Trip distance > 100 miles to see if they are valid outliers\n",
    "trips[trips.Trip_distance > 100][check_col]"
   ]
  },
  {
   "cell_type": "markdown",
   "metadata": {},
   "source": [
    "There seems to be an unusual data point: Trip distance is 603.1 miles but the fare amount is only 1.25. Let's also check rows with Trip distance > 100 miles to see if they are valid outliers. It is likely to be caused by data entry error. Also, there are two data points with trip distance of 112.60 and 108.50 miles but the fare amounts of \\$20 and \\$18 respectively. These two data points seem unusual as well. \n",
    "\n",
    "However, at this point, we will only remove that one data point which we are confident that it's an outlier due to data entry error"
   ]
  },
  {
   "cell_type": "code",
   "execution_count": 11,
   "metadata": {
    "collapsed": true
   },
   "outputs": [],
   "source": [
    "# Remove outlier (600 miles) and assign new dataframe 'clean_trips'\n",
    "clean_trips = trips[trips.Trip_distance < 600]"
   ]
  },
  {
   "cell_type": "code",
   "execution_count": 12,
   "metadata": {},
   "outputs": [
    {
     "data": {
      "text/plain": [
       "<matplotlib.text.Text at 0x7fe4a9821950>"
      ]
     },
     "execution_count": 12,
     "metadata": {},
     "output_type": "execute_result"
    },
    {
     "data": {
      "image/png": "[encoded data removed]",
      "text/plain": [
       "<matplotlib.figure.Figure at 0x7fe4a9c6e510>"
      ]
     },
     "metadata": {},
     "output_type": "display_data"
    }
   ],
   "source": [
    "# To better visualize the trip distance in general we will only plot histogram for \n",
    "# the trips with trip distance less than 50 miles\n",
    "fig = plt.figure(figsize = (20,4))\n",
    "ax1 = fig.add_subplot(121)\n",
    "ax2 = fig.add_subplot(122)\n",
    "p1 = clean_trips[clean_trips.Trip_distance < 50].Trip_distance.hist(bins=100, ax=ax1)\n",
    "p2 = sns.boxplot(clean_trips[clean_trips.Trip_distance < 50].Trip_distance, ax=ax2)\n",
    "\n",
    "ax1.set(ylabel='Trip distance (miles)')\n",
    "ax1.set_title(\"Histogram of trip distance of NYC green taxi (September 2015)\", size=15)\n",
    "\n",
    "ax2.set(xlabel='Trip distance (miles)')\n",
    "ax2.set_title(\"Box plot of trip distance of NYC green taxi (September 2015)\", size=15)"
   ]
  },
  {
   "cell_type": "markdown",
   "metadata": {},
   "source": [
    "By plotting only the data points where the trip distance is less than 50 miles, we can see clearer visualization on the trip distance distribution\n",
    "\n",
    "In summary, the trip distance data has right-skewed distribution, where mean (2.968 miles) is less than median (1.980 miles). In this case, median would be better measure of the average trip distance. We can say that the average trip distance of the green taxis's trips in September 2015 is about 2 miles."
   ]
  },
  {
   "cell_type": "markdown",
   "metadata": {},
   "source": [
    "#### Question 3\n",
    "Report mean and median trip distance grouped by hour of day.\n",
    "We'd like to get a rough sense of identifying trips that originate or terminate at one of the NYC area airports. Can you provide a count of how many transactions fit this criteria, the average fair, and any other interesting characteristics of these trips."
   ]
  },
  {
   "cell_type": "markdown",
   "metadata": {},
   "source": [
    "##### Mean and median trip distance grouped by hour of day\n",
    "We will use hour from pickup date/time (lpep_pickup_datetime) field"
   ]
  },
  {
   "cell_type": "code",
   "execution_count": 13,
   "metadata": {},
   "outputs": [
    {
     "data": {
      "text/plain": [
       "('2015-09-30 23:59:58', '2015-09-01 00:00:00')"
      ]
     },
     "execution_count": 13,
     "metadata": {},
     "output_type": "execute_result"
    }
   ],
   "source": [
    "clean_trips['lpep_pickup_datetime'].max(), clean_trips['lpep_pickup_datetime'].min()"
   ]
  },
  {
   "cell_type": "code",
   "execution_count": 14,
   "metadata": {},
   "outputs": [
    {
     "name": "stderr",
     "output_type": "stream",
     "text": [
      "/usr/local/lib/python2.7/dist-packages/ipykernel_launcher.py:3: SettingWithCopyWarning: \n",
      "A value is trying to be set on a copy of a slice from a DataFrame.\n",
      "Try using .loc[row_indexer,col_indexer] = value instead\n",
      "\n",
      "See the caveats in the documentation: http://pandas.pydata.org/pandas-docs/stable/indexing.html#indexing-view-versus-copy\n",
      "  This is separate from the ipykernel package so we can avoid doing imports until\n",
      "/usr/local/lib/python2.7/dist-packages/ipykernel_launcher.py:4: SettingWithCopyWarning: \n",
      "A value is trying to be set on a copy of a slice from a DataFrame.\n",
      "Try using .loc[row_indexer,col_indexer] = value instead\n",
      "\n",
      "See the caveats in the documentation: http://pandas.pydata.org/pandas-docs/stable/indexing.html#indexing-view-versus-copy\n",
      "  after removing the cwd from sys.path.\n",
      "/usr/local/lib/python2.7/dist-packages/ipykernel_launcher.py:6: SettingWithCopyWarning: \n",
      "A value is trying to be set on a copy of a slice from a DataFrame.\n",
      "Try using .loc[row_indexer,col_indexer] = value instead\n",
      "\n",
      "See the caveats in the documentation: http://pandas.pydata.org/pandas-docs/stable/indexing.html#indexing-view-versus-copy\n",
      "  \n",
      "/usr/local/lib/python2.7/dist-packages/ipykernel_launcher.py:7: SettingWithCopyWarning: \n",
      "A value is trying to be set on a copy of a slice from a DataFrame.\n",
      "Try using .loc[row_indexer,col_indexer] = value instead\n",
      "\n",
      "See the caveats in the documentation: http://pandas.pydata.org/pandas-docs/stable/indexing.html#indexing-view-versus-copy\n",
      "  import sys\n"
     ]
    }
   ],
   "source": [
    "# We will use pick-up date/time to calculate mean/median of trip distance by hour of day\n",
    "# Convert to datetime data type\n",
    "clean_trips['pickup_datetime'] = pd.to_datetime(clean_trips['lpep_pickup_datetime'], format='%Y-%m-%d %H:%M:%S')\n",
    "clean_trips['dropoff_datetime'] = pd.to_datetime(clean_trips['Lpep_dropoff_datetime'], format='%Y-%m-%d %H:%M:%S')\n",
    "# Extract hour data\n",
    "clean_trips['hour_pickup'] = clean_trips['pickup_datetime'].dt.hour\n",
    "clean_trips['hour_dropoff'] = clean_trips['dropoff_datetime'].dt.hour"
   ]
  },
  {
   "cell_type": "code",
   "execution_count": 15,
   "metadata": {
    "collapsed": true
   },
   "outputs": [],
   "source": [
    "# Trip distance by hour of day (based on pickup hour of day)\n",
    "distance_by_hour_pickup = clean_trips.groupby('hour_pickup').agg({'Trip_distance':(np.mean,np.median)})"
   ]
  },
  {
   "cell_type": "code",
   "execution_count": 16,
   "metadata": {},
   "outputs": [
    {
     "data": {
      "text/html": [
       "<div>\n",
       "<style>\n",
       "    .dataframe thead tr:only-child th {\n",
       "        text-align: right;\n",
       "    }\n",
       "\n",
       "    .dataframe thead th {\n",
       "        text-align: left;\n",
       "    }\n",
       "\n",
       "    .dataframe tbody tr th {\n",
       "        vertical-align: top;\n",
       "    }\n",
       "</style>\n",
       "<table border=\"1\" class=\"dataframe\">\n",
       "  <thead>\n",
       "    <tr>\n",
       "      <th></th>\n",
       "      <th>hour_pickup</th>\n",
       "      <th colspan=\"2\" halign=\"left\">Trip_distance</th>\n",
       "    </tr>\n",
       "    <tr>\n",
       "      <th></th>\n",
       "      <th></th>\n",
       "      <th>mean</th>\n",
       "      <th>median</th>\n",
       "    </tr>\n",
       "  </thead>\n",
       "  <tbody>\n",
       "    <tr>\n",
       "      <th>0</th>\n",
       "      <td>0</td>\n",
       "      <td>3.115276</td>\n",
       "      <td>2.20</td>\n",
       "    </tr>\n",
       "    <tr>\n",
       "      <th>1</th>\n",
       "      <td>1</td>\n",
       "      <td>3.017347</td>\n",
       "      <td>2.12</td>\n",
       "    </tr>\n",
       "    <tr>\n",
       "      <th>2</th>\n",
       "      <td>2</td>\n",
       "      <td>3.046176</td>\n",
       "      <td>2.14</td>\n",
       "    </tr>\n",
       "    <tr>\n",
       "      <th>3</th>\n",
       "      <td>3</td>\n",
       "      <td>3.193985</td>\n",
       "      <td>2.20</td>\n",
       "    </tr>\n",
       "    <tr>\n",
       "      <th>4</th>\n",
       "      <td>4</td>\n",
       "      <td>3.526555</td>\n",
       "      <td>2.36</td>\n",
       "    </tr>\n",
       "    <tr>\n",
       "      <th>5</th>\n",
       "      <td>5</td>\n",
       "      <td>4.133474</td>\n",
       "      <td>2.90</td>\n",
       "    </tr>\n",
       "    <tr>\n",
       "      <th>6</th>\n",
       "      <td>6</td>\n",
       "      <td>4.055149</td>\n",
       "      <td>2.84</td>\n",
       "    </tr>\n",
       "    <tr>\n",
       "      <th>7</th>\n",
       "      <td>7</td>\n",
       "      <td>3.284394</td>\n",
       "      <td>2.17</td>\n",
       "    </tr>\n",
       "    <tr>\n",
       "      <th>8</th>\n",
       "      <td>8</td>\n",
       "      <td>3.048450</td>\n",
       "      <td>1.98</td>\n",
       "    </tr>\n",
       "    <tr>\n",
       "      <th>9</th>\n",
       "      <td>9</td>\n",
       "      <td>2.999105</td>\n",
       "      <td>1.96</td>\n",
       "    </tr>\n",
       "    <tr>\n",
       "      <th>10</th>\n",
       "      <td>10</td>\n",
       "      <td>2.944482</td>\n",
       "      <td>1.92</td>\n",
       "    </tr>\n",
       "    <tr>\n",
       "      <th>11</th>\n",
       "      <td>11</td>\n",
       "      <td>2.912015</td>\n",
       "      <td>1.88</td>\n",
       "    </tr>\n",
       "    <tr>\n",
       "      <th>12</th>\n",
       "      <td>12</td>\n",
       "      <td>2.903065</td>\n",
       "      <td>1.89</td>\n",
       "    </tr>\n",
       "    <tr>\n",
       "      <th>13</th>\n",
       "      <td>13</td>\n",
       "      <td>2.878294</td>\n",
       "      <td>1.84</td>\n",
       "    </tr>\n",
       "    <tr>\n",
       "      <th>14</th>\n",
       "      <td>14</td>\n",
       "      <td>2.864304</td>\n",
       "      <td>1.83</td>\n",
       "    </tr>\n",
       "    <tr>\n",
       "      <th>15</th>\n",
       "      <td>15</td>\n",
       "      <td>2.857040</td>\n",
       "      <td>1.81</td>\n",
       "    </tr>\n",
       "    <tr>\n",
       "      <th>16</th>\n",
       "      <td>16</td>\n",
       "      <td>2.779852</td>\n",
       "      <td>1.80</td>\n",
       "    </tr>\n",
       "    <tr>\n",
       "      <th>17</th>\n",
       "      <td>17</td>\n",
       "      <td>2.679114</td>\n",
       "      <td>1.78</td>\n",
       "    </tr>\n",
       "    <tr>\n",
       "      <th>18</th>\n",
       "      <td>18</td>\n",
       "      <td>2.653222</td>\n",
       "      <td>1.80</td>\n",
       "    </tr>\n",
       "    <tr>\n",
       "      <th>19</th>\n",
       "      <td>19</td>\n",
       "      <td>2.715597</td>\n",
       "      <td>1.85</td>\n",
       "    </tr>\n",
       "    <tr>\n",
       "      <th>20</th>\n",
       "      <td>20</td>\n",
       "      <td>2.777052</td>\n",
       "      <td>1.90</td>\n",
       "    </tr>\n",
       "    <tr>\n",
       "      <th>21</th>\n",
       "      <td>21</td>\n",
       "      <td>2.999189</td>\n",
       "      <td>2.03</td>\n",
       "    </tr>\n",
       "    <tr>\n",
       "      <th>22</th>\n",
       "      <td>22</td>\n",
       "      <td>3.185394</td>\n",
       "      <td>2.20</td>\n",
       "    </tr>\n",
       "    <tr>\n",
       "      <th>23</th>\n",
       "      <td>23</td>\n",
       "      <td>3.191538</td>\n",
       "      <td>2.22</td>\n",
       "    </tr>\n",
       "  </tbody>\n",
       "</table>\n",
       "</div>"
      ],
      "text/plain": [
       "   hour_pickup Trip_distance       \n",
       "                        mean median\n",
       "0            0      3.115276   2.20\n",
       "1            1      3.017347   2.12\n",
       "2            2      3.046176   2.14\n",
       "3            3      3.193985   2.20\n",
       "4            4      3.526555   2.36\n",
       "5            5      4.133474   2.90\n",
       "6            6      4.055149   2.84\n",
       "7            7      3.284394   2.17\n",
       "8            8      3.048450   1.98\n",
       "9            9      2.999105   1.96\n",
       "10          10      2.944482   1.92\n",
       "11          11      2.912015   1.88\n",
       "12          12      2.903065   1.89\n",
       "13          13      2.878294   1.84\n",
       "14          14      2.864304   1.83\n",
       "15          15      2.857040   1.81\n",
       "16          16      2.779852   1.80\n",
       "17          17      2.679114   1.78\n",
       "18          18      2.653222   1.80\n",
       "19          19      2.715597   1.85\n",
       "20          20      2.777052   1.90\n",
       "21          21      2.999189   2.03\n",
       "22          22      3.185394   2.20\n",
       "23          23      3.191538   2.22"
      ]
     },
     "execution_count": 16,
     "metadata": {},
     "output_type": "execute_result"
    }
   ],
   "source": [
    "distance_by_hour_pickup.reset_index()"
   ]
  },
  {
   "cell_type": "code",
   "execution_count": 17,
   "metadata": {},
   "outputs": [
    {
     "data": {
      "text/plain": [
       "<matplotlib.legend.Legend at 0x7fe4a9c6ed50>"
      ]
     },
     "execution_count": 17,
     "metadata": {},
     "output_type": "execute_result"
    },
    {
     "data": {
      "image/png": "[encoded data removed]",
      "text/plain": [
       "<matplotlib.figure.Figure at 0x7fe4a9c6ea10>"
      ]
     },
     "metadata": {},
     "output_type": "display_data"
    }
   ],
   "source": [
    "# Plot mean/median trip distance\n",
    "ax = sns.tsplot(distance_by_hour_pickup['Trip_distance']['mean'], color='g')\n",
    "sns.tsplot(distance_by_hour_pickup['Trip_distance']['median'], color='r')\n",
    "\n",
    "ax.set(xlabel='Hour of day')\n",
    "ax.set(ylabel='Trip distance (miles)')\n",
    "ax.set_title(\"Mean and Median of NYC Green Taxi trip distance in September 2015\", size=15)\n",
    "ax.legend(labels=['Mean','Median'])"
   ]
  },
  {
   "cell_type": "markdown",
   "metadata": {},
   "source": [
    "##### Trip from/to NYC area airports"
   ]
  },
  {
   "cell_type": "code",
   "execution_count": 18,
   "metadata": {},
   "outputs": [
    {
     "data": {
      "text/plain": [
       "1     1454464\n",
       "5       33943\n",
       "2        4435\n",
       "3        1117\n",
       "4         925\n",
       "6          36\n",
       "99          6\n",
       "Name: RateCodeID, dtype: int64"
      ]
     },
     "execution_count": 18,
     "metadata": {},
     "output_type": "execute_result"
    }
   ],
   "source": [
    "trips.RateCodeID.value_counts()"
   ]
  },
  {
   "cell_type": "markdown",
   "metadata": {},
   "source": [
    "There are three major airports in NYC area: JFK, La Guardia and Newark (in NJ)\n",
    "\n",
    "According to fare types defined by TLC (http://www.nyc.gov/html/tlc/html/passenger/taxicab_rate.shtml), taxi trip from/to JFK and Newark are of special RateCodeID '2' and '3' respectively whereas the trip from/to La Guardia is standard (metered) fare (RateCodeID = '1').\n",
    "\n",
    "For this question, I will analyze the trip from/to JFK, which is the largest airport among the three."
   ]
  },
  {
   "cell_type": "code",
   "execution_count": 19,
   "metadata": {
    "collapsed": true
   },
   "outputs": [],
   "source": [
    "# Filter trip from/to JFK i.e. RatedCodeID = 2\n",
    "jfk_trips = trips[trips.RateCodeID==2]"
   ]
  },
  {
   "cell_type": "code",
   "execution_count": 20,
   "metadata": {},
   "outputs": [
    {
     "name": "stdout",
     "output_type": "stream",
     "text": [
      "Number of trip from/to JFK = 4435 trips\n"
     ]
    }
   ],
   "source": [
    "print \"Number of trip from/to JFK = %s trips\" % jfk_trips.shape[0]"
   ]
  },
  {
   "cell_type": "code",
   "execution_count": 21,
   "metadata": {},
   "outputs": [
    {
     "data": {
      "text/plain": [
       "Index([u'VendorID', u'lpep_pickup_datetime', u'Lpep_dropoff_datetime',\n",
       "       u'Store_and_fwd_flag', u'RateCodeID', u'Pickup_longitude',\n",
       "       u'Pickup_latitude', u'Dropoff_longitude', u'Dropoff_latitude',\n",
       "       u'Passenger_count', u'Trip_distance', u'Fare_amount', u'Extra',\n",
       "       u'MTA_tax', u'Tip_amount', u'Tolls_amount', u'Ehail_fee',\n",
       "       u'improvement_surcharge', u'Total_amount', u'Payment_type',\n",
       "       u'Trip_type '],\n",
       "      dtype='object')"
      ]
     },
     "execution_count": 21,
     "metadata": {},
     "output_type": "execute_result"
    }
   ],
   "source": [
    "jfk_trips.columns"
   ]
  },
  {
   "cell_type": "code",
   "execution_count": 156,
   "metadata": {},
   "outputs": [
    {
     "name": "stdout",
     "output_type": "stream",
     "text": [
      "Trips from/to JFK Airport\n",
      "Average Trip distance = 10.245 miles\n",
      "Average Fare amount = $49.02\n",
      "Average Tolls amount = $2.68\n",
      "Average Tip amount = $4.08\n"
     ]
    }
   ],
   "source": [
    "# Average Fare for trips from/to JFK Airport\n",
    "print \"Trips from/to JFK Airport\"\n",
    "print \"Average Trip distance = %.3f miles\" % jfk_trips.Trip_distance.mean()\n",
    "print \"Average Fare amount = $%.2f\" % jfk_trips.Fare_amount.mean()\n",
    "print \"Average Tolls amount = $%.2f\" % jfk_trips.Tolls_amount.mean()\n",
    "print \"Average Tip amount = $%.2f\" % jfk_trips.Tip_amount.mean()"
   ]
  },
  {
   "cell_type": "code",
   "execution_count": 157,
   "metadata": {
    "collapsed": true
   },
   "outputs": [],
   "source": [
    "standard_trips = trips[trips.RateCodeID==1]"
   ]
  },
  {
   "cell_type": "code",
   "execution_count": 158,
   "metadata": {},
   "outputs": [
    {
     "name": "stdout",
     "output_type": "stream",
     "text": [
      "Standard trips\n",
      "Average Trip distance = 2.923 miles\n",
      "Average Fare amount = $12.24\n",
      "Average Tolls amount = $0.11\n",
      "Average Tip amount = $1.23\n"
     ]
    }
   ],
   "source": [
    "# Average Fare for Standard trip (Rate code = 1)\n",
    "print \"Standard trips\"\n",
    "print \"Average Trip distance = %.3f miles\" % standard_trips.Trip_distance.mean()\n",
    "print \"Average Fare amount = $%.2f\" % standard_trips.Fare_amount.mean()\n",
    "print \"Average Tolls amount = $%.2f\" % standard_trips.Tolls_amount.mean()\n",
    "print \"Average Tip amount = $%.2f\" % standard_trips.Tip_amount.mean()"
   ]
  },
  {
   "cell_type": "markdown",
   "metadata": {
    "collapsed": true
   },
   "source": [
    "##### Alternative approach by using Lat/Lon coordinates\n",
    "An alternative approach is to convert pickup/dropoff location (in latitude/longitude) into geographic information such as neighborhood. One of which is Neighborhood Tabulation Areas (NTAs).\n",
    "\n",
    "We will need NTA shapefile to find out which neighborhood (NTA) the pickup/dropoff locations are in. The NTA code for JFK airport is QN98\n",
    "\n",
    "The NYC NTA Shape file can be downloaded from: https://www1.nyc.gov/site/planning/data-maps/open-data/dwn-nynta.page\n",
    "\n",
    "The code to processing geographic information is adapted from https://gis.stackexchange.com/questions/174159/convert-a-pandas-dataframe-to-a-geodataframe"
   ]
  },
  {
   "cell_type": "code",
   "execution_count": 161,
   "metadata": {},
   "outputs": [],
   "source": [
    "import geopandas\n",
    "#import geocoder\n",
    "from geopandas.tools import sjoin\n",
    "from shapely.geometry import Point"
   ]
  },
  {
   "cell_type": "code",
   "execution_count": 162,
   "metadata": {},
   "outputs": [],
   "source": [
    "poly = geopandas.GeoDataFrame.from_file('./data/nynta_17a/nynta.shp')"
   ]
  },
  {
   "cell_type": "code",
   "execution_count": 165,
   "metadata": {},
   "outputs": [
    {
     "data": {
      "text/plain": [
       "Index([u'VendorID', u'lpep_pickup_datetime', u'Lpep_dropoff_datetime',\n",
       "       u'Store_and_fwd_flag', u'RateCodeID', u'Pickup_longitude',\n",
       "       u'Pickup_latitude', u'Dropoff_longitude', u'Dropoff_latitude',\n",
       "       u'Passenger_count', u'Trip_distance', u'Fare_amount', u'Extra',\n",
       "       u'MTA_tax', u'Tip_amount', u'Tolls_amount', u'Ehail_fee',\n",
       "       u'improvement_surcharge', u'Total_amount', u'Payment_type',\n",
       "       u'Trip_type ', u'pickup_datetime', u'dropoff_datetime', u'hour_pickup',\n",
       "       u'hour_dropoff', u'seconds_diff', u'geometry'],\n",
       "      dtype='object')"
      ]
     },
     "execution_count": 165,
     "metadata": {},
     "output_type": "execute_result"
    }
   ],
   "source": [
    "clean_trips.columns"
   ]
  },
  {
   "cell_type": "code",
   "execution_count": 166,
   "metadata": {},
   "outputs": [
    {
     "name": "stderr",
     "output_type": "stream",
     "text": [
      "/usr/local/lib/python2.7/dist-packages/ipykernel_launcher.py:1: SettingWithCopyWarning: \n",
      "A value is trying to be set on a copy of a slice from a DataFrame.\n",
      "Try using .loc[row_indexer,col_indexer] = value instead\n",
      "\n",
      "See the caveats in the documentation: http://pandas.pydata.org/pandas-docs/stable/indexing.html#indexing-view-versus-copy\n",
      "  \"\"\"Entry point for launching an IPython kernel.\n",
      "/usr/local/lib/python2.7/dist-packages/ipykernel_launcher.py:2: SettingWithCopyWarning: \n",
      "A value is trying to be set on a copy of a slice from a DataFrame.\n",
      "Try using .loc[row_indexer,col_indexer] = value instead\n",
      "\n",
      "See the caveats in the documentation: http://pandas.pydata.org/pandas-docs/stable/indexing.html#indexing-view-versus-copy\n",
      "  \n"
     ]
    }
   ],
   "source": [
    "clean_trips['geometry_pickup'] = clean_trips.apply(lambda x: Point((float(x.Pickup_longitude), float(x.Pickup_latitude))), axis=1)\n",
    "clean_trips['geometry_dropoff'] = clean_trips.apply(lambda x: Point((float(x.Dropoff_longitude), float(x.Dropoff_latitude))), axis=1)"
   ]
  },
  {
   "cell_type": "code",
   "execution_count": 167,
   "metadata": {},
   "outputs": [],
   "source": [
    "gdata_pickup = geopandas.GeoDataFrame(clean_trips, geometry='geometry_pickup')\n",
    "gdata_pickup .crs = {'init' :'epsg:4326'} # Setting the current reference system\n",
    "gdata_pickup .to_crs(crs=poly.crs, inplace=True) # Translating into the poly reference system\n",
    "\n",
    "gdata_dropoff = geopandas.GeoDataFrame(clean_trips, geometry='geometry_dropoff')\n",
    "gdata_dropoff .crs = {'init' :'epsg:4326'} # Setting the current reference system\n",
    "gdata_dropoff .to_crs(crs=poly.crs, inplace=True) # Translating into the poly reference system"
   ]
  },
  {
   "cell_type": "code",
   "execution_count": 170,
   "metadata": {},
   "outputs": [],
   "source": [
    "pickup_nta = sjoin(poly, gdata_pickup, how='left', op='contains')\n",
    "dropoff_nta = sjoin(poly, gdata_dropoff, how='left', op='contains')"
   ]
  },
  {
   "cell_type": "code",
   "execution_count": 178,
   "metadata": {},
   "outputs": [
    {
     "data": {
      "text/plain": [
       "((1491749, 37), (1487681, 37), (1494925, 29))"
      ]
     },
     "execution_count": 178,
     "metadata": {},
     "output_type": "execute_result"
    }
   ],
   "source": [
    "pickup_nta.shape, dropoff_nta.shape, clean_trips.shape"
   ]
  },
  {
   "cell_type": "code",
   "execution_count": 176,
   "metadata": {},
   "outputs": [
    {
     "name": "stdout",
     "output_type": "stream",
     "text": [
      "The number of trips from JFK Airport: 711 trips\n",
      "The number of trips to JFK Airport: 34657 trips\n"
     ]
    }
   ],
   "source": [
    "print \"The number of trips from JFK Airport: %s trips\" % pickup_nta[pickup_nta.NTACode=='QN98'].shape[0]\n",
    "print \"The number of trips to JFK Airport: %s trips\" % dropoff_nta[dropoff_nta.NTACode=='QN98'].shape[0]"
   ]
  },
  {
   "cell_type": "code",
   "execution_count": 184,
   "metadata": {},
   "outputs": [
    {
     "data": {
      "text/plain": [
       "BoroCode                       0\n",
       "BoroName                       0\n",
       "CountyFIPS                     0\n",
       "NTACode                        0\n",
       "NTAName                        0\n",
       "Shape_Leng                     0\n",
       "Shape_Area                     0\n",
       "geometry_left                  0\n",
       "index_right                   10\n",
       "VendorID                      10\n",
       "lpep_pickup_datetime          10\n",
       "Lpep_dropoff_datetime         10\n",
       "Store_and_fwd_flag            10\n",
       "RateCodeID                    10\n",
       "Pickup_longitude              10\n",
       "Pickup_latitude               10\n",
       "Dropoff_longitude             10\n",
       "Dropoff_latitude              10\n",
       "Passenger_count               10\n",
       "Trip_distance                 10\n",
       "Fare_amount                   10\n",
       "Extra                         10\n",
       "MTA_tax                       10\n",
       "Tip_amount                    10\n",
       "Tolls_amount                  10\n",
       "Ehail_fee                1491749\n",
       "improvement_surcharge         10\n",
       "Total_amount                  10\n",
       "Payment_type                  10\n",
       "Trip_type                     14\n",
       "pickup_datetime               10\n",
       "dropoff_datetime              10\n",
       "hour_pickup                   10\n",
       "hour_dropoff                  10\n",
       "seconds_diff                  10\n",
       "geometry_right                10\n",
       "geometry_dropoff              10\n",
       "dtype: int64"
      ]
     },
     "execution_count": 184,
     "metadata": {},
     "output_type": "execute_result"
    }
   ],
   "source": [
    "pickup_nta.isnull().sum()"
   ]
  },
  {
   "cell_type": "code",
   "execution_count": 185,
   "metadata": {},
   "outputs": [
    {
     "data": {
      "text/plain": [
       "BoroCode                       0\n",
       "BoroName                       0\n",
       "CountyFIPS                     0\n",
       "NTACode                        0\n",
       "NTAName                        0\n",
       "Shape_Leng                     0\n",
       "Shape_Area                     0\n",
       "geometry_left                  0\n",
       "index_right                    2\n",
       "VendorID                       2\n",
       "lpep_pickup_datetime           2\n",
       "Lpep_dropoff_datetime          2\n",
       "Store_and_fwd_flag             2\n",
       "RateCodeID                     2\n",
       "Pickup_longitude               2\n",
       "Pickup_latitude                2\n",
       "Dropoff_longitude              2\n",
       "Dropoff_latitude               2\n",
       "Passenger_count                2\n",
       "Trip_distance                  2\n",
       "Fare_amount                    2\n",
       "Extra                          2\n",
       "MTA_tax                        2\n",
       "Tip_amount                     2\n",
       "Tolls_amount                   2\n",
       "Ehail_fee                1487681\n",
       "improvement_surcharge          2\n",
       "Total_amount                   2\n",
       "Payment_type                   2\n",
       "Trip_type                      2\n",
       "pickup_datetime                2\n",
       "dropoff_datetime               2\n",
       "hour_pickup                    2\n",
       "hour_dropoff                   2\n",
       "seconds_diff                   2\n",
       "geometry_right                 2\n",
       "geometry_pickup                2\n",
       "dtype: int64"
      ]
     },
     "execution_count": 185,
     "metadata": {},
     "output_type": "execute_result"
    }
   ],
   "source": [
    "dropoff_nta.isnull().sum()"
   ]
  },
  {
   "cell_type": "code",
   "execution_count": 179,
   "metadata": {},
   "outputs": [],
   "source": [
    "jfk_pickup = pickup_nta[pickup_nta.NTACode=='QN98'][['Trip_distance','Fare_amount','Tolls_amount','Tip_amount']]\n",
    "jfk_dropoff = dropoff_nta[dropoff_nta.NTACode=='QN98'][['Trip_distance','Fare_amount','Tolls_amount','Tip_amount']]\n",
    "jfk_airport_trips = pd.concat((jfk_pickup, jfk_dropoff))"
   ]
  },
  {
   "cell_type": "code",
   "execution_count": 181,
   "metadata": {},
   "outputs": [],
   "source": [
    "non_jfk_pickup = pickup_nta[pickup_nta.NTACode!='QN98'][['Trip_distance','Fare_amount','Tolls_amount','Tip_amount']]\n",
    "non_jfk_dropoff = dropoff_nta[dropoff_nta.NTACode!='QN98'][['Trip_distance','Fare_amount','Tolls_amount','Tip_amount']]\n",
    "non_jfk_airport_trips = pd.concat((non_jfk_pickup, non_jfk_dropoff))"
   ]
  },
  {
   "cell_type": "code",
   "execution_count": 183,
   "metadata": {},
   "outputs": [
    {
     "data": {
      "text/plain": [
       "((35368, 4), (2944062, 4))"
      ]
     },
     "execution_count": 183,
     "metadata": {},
     "output_type": "execute_result"
    }
   ],
   "source": [
    "jfk_airport_trips.shape, non_jfk_airport_trips.shape"
   ]
  },
  {
   "cell_type": "code",
   "execution_count": 55,
   "metadata": {},
   "outputs": [
    {
     "data": {
      "text/plain": [
       "5.0    372\n",
       "1.0    310\n",
       "2.0     25\n",
       "3.0      3\n",
       "4.0      1\n",
       "Name: RateCodeID, dtype: int64"
      ]
     },
     "execution_count": 55,
     "metadata": {},
     "output_type": "execute_result"
    }
   ],
   "source": [
    "pointInGeo[pointInGeo.NTACode=='QN98'].RateCodeID.value_counts()"
   ]
  },
  {
   "cell_type": "code",
   "execution_count": 58,
   "metadata": {},
   "outputs": [
    {
     "data": {
      "text/plain": [
       "Brooklyn         567970\n",
       "Manhattan        426111\n",
       "Queens           412820\n",
       "Bronx             84741\n",
       "Staten Island       107\n",
       "Name: BoroName, dtype: int64"
      ]
     },
     "execution_count": 58,
     "metadata": {},
     "output_type": "execute_result"
    }
   ],
   "source": [
    "pointInGeo.BoroName.value_counts()"
   ]
  },
  {
   "cell_type": "markdown",
   "metadata": {
    "collapsed": true
   },
   "source": [
    "#### Question 4\n",
    "Build a derived variable for tip as a percentage of the total fare.\n",
    "Build a predictive model for tip as a percentage of the total fare. Use as much of the data as you like (or all of it). We will validate a sample."
   ]
  },
  {
   "cell_type": "code",
   "execution_count": 25,
   "metadata": {},
   "outputs": [
    {
     "name": "stdout",
     "output_type": "stream",
     "text": [
      "Number of trips with Tip amount = 0: 892155\n",
      "Number of trips with Tip amount < 0: 38\n",
      "Number of trips with Tip amount > 0: 602732\n"
     ]
    }
   ],
   "source": [
    "print \"Number of trips with Tip amount = 0: %s\" % len(clean_trips[clean_trips.Tip_amount==0])\n",
    "print \"Number of trips with Tip amount < 0: %s\" % len(clean_trips[clean_trips.Tip_amount<0])\n",
    "print \"Number of trips with Tip amount > 0: %s\" % len(clean_trips[clean_trips.Tip_amount>0])"
   ]
  },
  {
   "cell_type": "markdown",
   "metadata": {},
   "source": [
    "According to the data dictionaries provided by TLC, Tip_amount field only records credit card tips, not cash tips. Hence, the Tip_amount value = 0 could be either actual no tip or tip not recorded. \n",
    "\n",
    "There is another column called 'Payment_type', which specify different type of payment.\n",
    "\n",
    "I decided not to include the trips with Tip amount = 0 in building the predictive model since I think they do not the represent ground truth"
   ]
  },
  {
   "cell_type": "code",
   "execution_count": 26,
   "metadata": {},
   "outputs": [
    {
     "data": {
      "text/html": [
       "<div>\n",
       "<style>\n",
       "    .dataframe thead tr:only-child th {\n",
       "        text-align: right;\n",
       "    }\n",
       "\n",
       "    .dataframe thead th {\n",
       "        text-align: left;\n",
       "    }\n",
       "\n",
       "    .dataframe tbody tr th {\n",
       "        vertical-align: top;\n",
       "    }\n",
       "</style>\n",
       "<table border=\"1\" class=\"dataframe\">\n",
       "  <thead>\n",
       "    <tr style=\"text-align: right;\">\n",
       "      <th></th>\n",
       "      <th>lpep_pickup_datetime</th>\n",
       "      <th>Lpep_dropoff_datetime</th>\n",
       "      <th>Pickup_longitude</th>\n",
       "      <th>Pickup_latitude</th>\n",
       "      <th>Dropoff_longitude</th>\n",
       "      <th>Dropoff_latitude</th>\n",
       "      <th>RateCodeID</th>\n",
       "      <th>Passenger_count</th>\n",
       "      <th>Trip_distance</th>\n",
       "      <th>Fare_amount</th>\n",
       "      <th>Tip_amount</th>\n",
       "      <th>Tolls_amount</th>\n",
       "      <th>Total_amount</th>\n",
       "      <th>Payment_type</th>\n",
       "    </tr>\n",
       "  </thead>\n",
       "  <tbody>\n",
       "    <tr>\n",
       "      <th>74598</th>\n",
       "      <td>2015-09-02 19:42:27</td>\n",
       "      <td>2015-09-02 19:42:38</td>\n",
       "      <td>-73.93058</td>\n",
       "      <td>40.685566</td>\n",
       "      <td>-73.930580</td>\n",
       "      <td>40.685566</td>\n",
       "      <td>1</td>\n",
       "      <td>1</td>\n",
       "      <td>1.1</td>\n",
       "      <td>2.5</td>\n",
       "      <td>150.00</td>\n",
       "      <td>0.0</td>\n",
       "      <td>154.30</td>\n",
       "      <td>2</td>\n",
       "    </tr>\n",
       "    <tr>\n",
       "      <th>1341588</th>\n",
       "      <td>2015-09-27 15:24:32</td>\n",
       "      <td>2015-09-27 16:24:51</td>\n",
       "      <td>-73.92823</td>\n",
       "      <td>40.761208</td>\n",
       "      <td>-74.177002</td>\n",
       "      <td>40.694790</td>\n",
       "      <td>1</td>\n",
       "      <td>2</td>\n",
       "      <td>21.1</td>\n",
       "      <td>65.5</td>\n",
       "      <td>13.26</td>\n",
       "      <td>0.0</td>\n",
       "      <td>79.56</td>\n",
       "      <td>2</td>\n",
       "    </tr>\n",
       "  </tbody>\n",
       "</table>\n",
       "</div>"
      ],
      "text/plain": [
       "        lpep_pickup_datetime Lpep_dropoff_datetime  Pickup_longitude  \\\n",
       "74598    2015-09-02 19:42:27   2015-09-02 19:42:38         -73.93058   \n",
       "1341588  2015-09-27 15:24:32   2015-09-27 16:24:51         -73.92823   \n",
       "\n",
       "         Pickup_latitude  Dropoff_longitude  Dropoff_latitude  RateCodeID  \\\n",
       "74598          40.685566         -73.930580         40.685566           1   \n",
       "1341588        40.761208         -74.177002         40.694790           1   \n",
       "\n",
       "         Passenger_count  Trip_distance  Fare_amount  Tip_amount  \\\n",
       "74598                  1            1.1          2.5      150.00   \n",
       "1341588                2           21.1         65.5       13.26   \n",
       "\n",
       "         Tolls_amount  Total_amount  Payment_type  \n",
       "74598             0.0        154.30             2  \n",
       "1341588           0.0         79.56             2  "
      ]
     },
     "execution_count": 26,
     "metadata": {},
     "output_type": "execute_result"
    }
   ],
   "source": [
    "clean_trips[(clean_trips.Payment_type==2) & (clean_trips.Tip_amount > 0)][check_col]"
   ]
  },
  {
   "cell_type": "code",
   "execution_count": 27,
   "metadata": {},
   "outputs": [
    {
     "data": {
      "text/plain": [
       "2    783696\n",
       "1     98557\n",
       "3      5463\n",
       "4      4365\n",
       "5        74\n",
       "Name: Payment_type, dtype: int64"
      ]
     },
     "execution_count": 27,
     "metadata": {},
     "output_type": "execute_result"
    }
   ],
   "source": [
    "# Payment type definition\n",
    "# 1 = Credit Card\n",
    "# 2 = Cash\n",
    "# 3 = No Charge\n",
    "# 4 = Dispute\n",
    "# 5 = Unknown\n",
    "# 6 = Voided trip\n",
    "clean_trips[clean_trips.Tip_amount==0].Payment_type.value_counts()"
   ]
  },
  {
   "cell_type": "code",
   "execution_count": 28,
   "metadata": {},
   "outputs": [
    {
     "data": {
      "text/plain": [
       "3    35\n",
       "4     2\n",
       "1     1\n",
       "Name: Payment_type, dtype: int64"
      ]
     },
     "execution_count": 28,
     "metadata": {},
     "output_type": "execute_result"
    }
   ],
   "source": [
    "clean_trips[clean_trips.Tip_amount<0].Payment_type.value_counts()"
   ]
  },
  {
   "cell_type": "code",
   "execution_count": 29,
   "metadata": {},
   "outputs": [
    {
     "data": {
      "text/plain": [
       "1    602729\n",
       "2         2\n",
       "4         1\n",
       "Name: Payment_type, dtype: int64"
      ]
     },
     "execution_count": 29,
     "metadata": {},
     "output_type": "execute_result"
    }
   ],
   "source": [
    "clean_trips[clean_trips.Tip_amount>0].Payment_type.value_counts()"
   ]
  },
  {
   "cell_type": "markdown",
   "metadata": {},
   "source": [
    "To sum up, I will use only the trips that belong to credit card payment type and tip amount > 0 and also Fare amount > 0 to build the predictive model"
   ]
  },
  {
   "cell_type": "code",
   "execution_count": 30,
   "metadata": {
    "collapsed": true
   },
   "outputs": [],
   "source": [
    "data_trips = clean_trips[(clean_trips.Payment_type==1) & (clean_trips.Tip_amount >= 0) & (clean_trips.Fare_amount > 0)]"
   ]
  },
  {
   "cell_type": "code",
   "execution_count": 31,
   "metadata": {},
   "outputs": [
    {
     "name": "stdout",
     "output_type": "stream",
     "text": [
      "The number of data points to used for prediction = 700797\n"
     ]
    }
   ],
   "source": [
    "print \"The number of data points to used for prediction = %s\" % data_trips.shape[0]"
   ]
  },
  {
   "cell_type": "code",
   "execution_count": 32,
   "metadata": {},
   "outputs": [
    {
     "name": "stderr",
     "output_type": "stream",
     "text": [
      "/usr/local/lib/python2.7/dist-packages/ipykernel_launcher.py:2: SettingWithCopyWarning: \n",
      "A value is trying to be set on a copy of a slice from a DataFrame.\n",
      "Try using .loc[row_indexer,col_indexer] = value instead\n",
      "\n",
      "See the caveats in the documentation: http://pandas.pydata.org/pandas-docs/stable/indexing.html#indexing-view-versus-copy\n",
      "  \n"
     ]
    }
   ],
   "source": [
    "# Calculate Tip percentage of Total amount\n",
    "data_trips['tip_percentage'] = data_trips['Tip_amount'] * 100 / data_trips['Total_amount']\n",
    "#data_trips['tip_percentage'].fillna(0, inplace=True)"
   ]
  },
  {
   "cell_type": "code",
   "execution_count": 34,
   "metadata": {},
   "outputs": [
    {
     "data": {
      "text/plain": [
       "VendorID                      0\n",
       "lpep_pickup_datetime          0\n",
       "Lpep_dropoff_datetime         0\n",
       "Store_and_fwd_flag            0\n",
       "RateCodeID                    0\n",
       "Pickup_longitude              0\n",
       "Pickup_latitude               0\n",
       "Dropoff_longitude             0\n",
       "Dropoff_latitude              0\n",
       "Passenger_count               0\n",
       "Trip_distance                 0\n",
       "Fare_amount                   0\n",
       "Extra                         0\n",
       "MTA_tax                       0\n",
       "Tip_amount                    0\n",
       "Tolls_amount                  0\n",
       "Ehail_fee                700797\n",
       "improvement_surcharge         0\n",
       "Total_amount                  0\n",
       "Payment_type                  0\n",
       "Trip_type                     3\n",
       "pickup_datetime               0\n",
       "dropoff_datetime              0\n",
       "hour_pickup                   0\n",
       "hour_dropoff                  0\n",
       "tip_percentage                0\n",
       "dtype: int64"
      ]
     },
     "execution_count": 34,
     "metadata": {},
     "output_type": "execute_result"
    }
   ],
   "source": [
    "# check for null values\n",
    "data_trips.isnull().sum()"
   ]
  },
  {
   "cell_type": "code",
   "execution_count": 35,
   "metadata": {},
   "outputs": [
    {
     "data": {
      "text/plain": [
       "count    700797.000000\n",
       "mean         14.129021\n",
       "std           7.727541\n",
       "min           0.000000\n",
       "25%          10.791367\n",
       "50%          16.666667\n",
       "75%          16.666667\n",
       "max          99.337748\n",
       "Name: tip_percentage, dtype: float64"
      ]
     },
     "execution_count": 35,
     "metadata": {},
     "output_type": "execute_result"
    }
   ],
   "source": [
    "data_trips['tip_percentage'].describe()"
   ]
  },
  {
   "cell_type": "code",
   "execution_count": 36,
   "metadata": {},
   "outputs": [
    {
     "data": {
      "text/plain": [
       "<matplotlib.text.Text at 0x7fe4a93ac110>"
      ]
     },
     "execution_count": 36,
     "metadata": {},
     "output_type": "execute_result"
    },
    {
     "data": {
      "image/png": "[encoded data removed]",
      "text/plain": [
       "<matplotlib.figure.Figure at 0x7fe4a95e7e90>"
      ]
     },
     "metadata": {},
     "output_type": "display_data"
    }
   ],
   "source": [
    "# Histogram of tip percentage\n",
    "ax = data_trips['tip_percentage'].hist(bins=40)\n",
    "ax.set(xlabel='Percentage of Tips from Total Amount ')\n",
    "ax.set_title(\"Histogram of Tip percentage (September 2015)\", size=15)"
   ]
  },
  {
   "cell_type": "code",
   "execution_count": 37,
   "metadata": {},
   "outputs": [
    {
     "data": {
      "text/plain": [
       "<matplotlib.text.Text at 0x7fe4a8c4b0d0>"
      ]
     },
     "execution_count": 37,
     "metadata": {},
     "output_type": "execute_result"
    },
    {
     "data": {
      "image/png": "[encoded data removed]",
      "text/plain": [
       "<matplotlib.figure.Figure at 0x7fe4a9b6a250>"
      ]
     },
     "metadata": {},
     "output_type": "display_data"
    }
   ],
   "source": [
    "ax = sns.boxplot(data_trips['tip_percentage'])\n",
    "ax.set(xlabel='Percentage of Tips from Total Amount ')\n",
    "ax.set_title(\"Box plot of Tip percentage (September 2015)\", size=15)"
   ]
  },
  {
   "cell_type": "markdown",
   "metadata": {},
   "source": [
    "As we can see from the plot and the data summary, the tip percentage is about 14.1% in average and the majority is within the range from 10% to 16%"
   ]
  },
  {
   "cell_type": "markdown",
   "metadata": {},
   "source": [
    "##### Features Engineering\n",
    "Now that we have target variable to be predicted (tip percentage), we will prepare the features for using to predict the tip percentage\n",
    "\n",
    "Features that we are going to use:\n",
    "1. Pickup/Dropoff date/time: tip percentage could be varied by day, hour or weekday in a month\n",
    "2. RateCodeID or trip type\n",
    "3. Passenger_count\n",
    "4. Trip distance\n",
    "5. Trip duration\n",
    "6. Average speed\n",
    "7. Fare amount\n",
    "8. Pickup/Dropoff location: in this model, I will just use latitude and longitude but I could also convert them to other geographic features such as pickup/dropoff neighborhood or zipcode"
   ]
  },
  {
   "cell_type": "code",
   "execution_count": 51,
   "metadata": {},
   "outputs": [
    {
     "name": "stderr",
     "output_type": "stream",
     "text": [
      "/usr/local/lib/python2.7/dist-packages/ipykernel_launcher.py:3: SettingWithCopyWarning: \n",
      "A value is trying to be set on a copy of a slice from a DataFrame.\n",
      "Try using .loc[row_indexer,col_indexer] = value instead\n",
      "\n",
      "See the caveats in the documentation: http://pandas.pydata.org/pandas-docs/stable/indexing.html#indexing-view-versus-copy\n",
      "  This is separate from the ipykernel package so we can avoid doing imports until\n",
      "/usr/local/lib/python2.7/dist-packages/ipykernel_launcher.py:4: SettingWithCopyWarning: \n",
      "A value is trying to be set on a copy of a slice from a DataFrame.\n",
      "Try using .loc[row_indexer,col_indexer] = value instead\n",
      "\n",
      "See the caveats in the documentation: http://pandas.pydata.org/pandas-docs/stable/indexing.html#indexing-view-versus-copy\n",
      "  after removing the cwd from sys.path.\n",
      "/usr/local/lib/python2.7/dist-packages/ipykernel_launcher.py:5: SettingWithCopyWarning: \n",
      "A value is trying to be set on a copy of a slice from a DataFrame.\n",
      "Try using .loc[row_indexer,col_indexer] = value instead\n",
      "\n",
      "See the caveats in the documentation: http://pandas.pydata.org/pandas-docs/stable/indexing.html#indexing-view-versus-copy\n",
      "  \"\"\"\n",
      "/usr/local/lib/python2.7/dist-packages/ipykernel_launcher.py:6: SettingWithCopyWarning: \n",
      "A value is trying to be set on a copy of a slice from a DataFrame.\n",
      "Try using .loc[row_indexer,col_indexer] = value instead\n",
      "\n",
      "See the caveats in the documentation: http://pandas.pydata.org/pandas-docs/stable/indexing.html#indexing-view-versus-copy\n",
      "  \n",
      "/usr/local/lib/python2.7/dist-packages/ipykernel_launcher.py:9: SettingWithCopyWarning: \n",
      "A value is trying to be set on a copy of a slice from a DataFrame.\n",
      "Try using .loc[row_indexer,col_indexer] = value instead\n",
      "\n",
      "See the caveats in the documentation: http://pandas.pydata.org/pandas-docs/stable/indexing.html#indexing-view-versus-copy\n",
      "  if __name__ == '__main__':\n",
      "/usr/local/lib/python2.7/dist-packages/ipykernel_launcher.py:12: SettingWithCopyWarning: \n",
      "A value is trying to be set on a copy of a slice from a DataFrame.\n",
      "Try using .loc[row_indexer,col_indexer] = value instead\n",
      "\n",
      "See the caveats in the documentation: http://pandas.pydata.org/pandas-docs/stable/indexing.html#indexing-view-versus-copy\n",
      "  if sys.path[0] == '':\n"
     ]
    }
   ],
   "source": [
    "# Prepare features\n",
    "# Additional time dimension features\n",
    "data_trips['weekday_pickup'] = data_trips['pickup_datetime'].dt.weekday\n",
    "data_trips['weekday_dropoff'] = data_trips['dropoff_datetime'].dt.weekday\n",
    "data_trips['day_pickup'] = data_trips['pickup_datetime'].dt.day\n",
    "data_trips['day_dropoff'] = data_trips['dropoff_datetime'].dt.day\n",
    "\n",
    "# Trip duration feature\n",
    "data_trips['trip_duration_mins'] = (data_trips['dropoff_datetime'] - data_trips['pickup_datetime']).dt.seconds / 60.0\n",
    "\n",
    "# Average speed of the trip miles/hours feature\n",
    "data_trips['avg_speed'] = data_trips['Trip_distance'] * 60 / data_trips['trip_duration_mins']"
   ]
  },
  {
   "cell_type": "code",
   "execution_count": 52,
   "metadata": {},
   "outputs": [],
   "source": [
    "# Certain rows have Trip_distance > 0 and trip_duration = 0 so the speed resulted in Infinity (inf)\n",
    "# We need to replace them by null\n",
    "data_trips['avg_speed'].replace([np.inf, -np.inf], np.nan, inplace=True)"
   ]
  },
  {
   "cell_type": "code",
   "execution_count": 53,
   "metadata": {},
   "outputs": [
    {
     "data": {
      "text/plain": [
       "count    700797.000000\n",
       "mean         21.060579\n",
       "std          91.414179\n",
       "min           0.000000\n",
       "25%           7.100000\n",
       "50%          12.016667\n",
       "75%          19.533333\n",
       "max        1439.883333\n",
       "Name: trip_duration_mins, dtype: float64"
      ]
     },
     "execution_count": 53,
     "metadata": {},
     "output_type": "execute_result"
    }
   ],
   "source": [
    "# Summary of trip duration (mins)\n",
    "data_trips['trip_duration_mins'].describe()"
   ]
  },
  {
   "cell_type": "code",
   "execution_count": 54,
   "metadata": {},
   "outputs": [
    {
     "data": {
      "text/plain": [
       "count    700630.000000\n",
       "mean         15.615160\n",
       "std         268.060625\n",
       "min           0.000000\n",
       "25%           9.688889\n",
       "50%          12.198929\n",
       "75%          15.737705\n",
       "max      202680.000000\n",
       "Name: avg_speed, dtype: float64"
      ]
     },
     "execution_count": 54,
     "metadata": {},
     "output_type": "execute_result"
    }
   ],
   "source": [
    "# Summary of average speed (miles/hour)\n",
    "data_trips['avg_speed'].describe()"
   ]
  },
  {
   "cell_type": "code",
   "execution_count": 55,
   "metadata": {
    "collapsed": true
   },
   "outputs": [],
   "source": [
    "features = ['hour_pickup','hour_dropoff','weekday_pickup','weekday_dropoff','day_pickup','day_dropoff',\n",
    "            'Fare_amount','RateCodeID','Passenger_count','Trip_distance','trip_duration_mins','avg_speed',\n",
    "            'Pickup_longitude','Pickup_latitude','Dropoff_longitude','Dropoff_latitude']\n",
    "target = ['tip_percentage']"
   ]
  },
  {
   "cell_type": "code",
   "execution_count": 56,
   "metadata": {},
   "outputs": [
    {
     "data": {
      "text/html": [
       "<div>\n",
       "<style>\n",
       "    .dataframe thead tr:only-child th {\n",
       "        text-align: right;\n",
       "    }\n",
       "\n",
       "    .dataframe thead th {\n",
       "        text-align: left;\n",
       "    }\n",
       "\n",
       "    .dataframe tbody tr th {\n",
       "        vertical-align: top;\n",
       "    }\n",
       "</style>\n",
       "<table border=\"1\" class=\"dataframe\">\n",
       "  <thead>\n",
       "    <tr style=\"text-align: right;\">\n",
       "      <th></th>\n",
       "      <th>hour_pickup</th>\n",
       "      <th>hour_dropoff</th>\n",
       "      <th>weekday_pickup</th>\n",
       "      <th>weekday_dropoff</th>\n",
       "      <th>day_pickup</th>\n",
       "      <th>day_dropoff</th>\n",
       "      <th>Fare_amount</th>\n",
       "      <th>RateCodeID</th>\n",
       "      <th>Passenger_count</th>\n",
       "      <th>Trip_distance</th>\n",
       "      <th>trip_duration_mins</th>\n",
       "      <th>avg_speed</th>\n",
       "      <th>Pickup_longitude</th>\n",
       "      <th>Pickup_latitude</th>\n",
       "      <th>Dropoff_longitude</th>\n",
       "      <th>Dropoff_latitude</th>\n",
       "    </tr>\n",
       "  </thead>\n",
       "  <tbody>\n",
       "    <tr>\n",
       "      <th>0</th>\n",
       "      <td>0</td>\n",
       "      <td>0</td>\n",
       "      <td>1</td>\n",
       "      <td>1</td>\n",
       "      <td>1</td>\n",
       "      <td>1</td>\n",
       "      <td>7.8</td>\n",
       "      <td>5</td>\n",
       "      <td>1</td>\n",
       "      <td>0.00</td>\n",
       "      <td>0.066667</td>\n",
       "      <td>0.000000</td>\n",
       "      <td>-73.979485</td>\n",
       "      <td>40.684956</td>\n",
       "      <td>-73.979431</td>\n",
       "      <td>40.685020</td>\n",
       "    </tr>\n",
       "    <tr>\n",
       "      <th>1</th>\n",
       "      <td>0</td>\n",
       "      <td>0</td>\n",
       "      <td>1</td>\n",
       "      <td>1</td>\n",
       "      <td>1</td>\n",
       "      <td>1</td>\n",
       "      <td>45.0</td>\n",
       "      <td>5</td>\n",
       "      <td>1</td>\n",
       "      <td>0.00</td>\n",
       "      <td>0.066667</td>\n",
       "      <td>0.000000</td>\n",
       "      <td>-74.010796</td>\n",
       "      <td>40.912216</td>\n",
       "      <td>-74.010780</td>\n",
       "      <td>40.912212</td>\n",
       "    </tr>\n",
       "    <tr>\n",
       "      <th>2</th>\n",
       "      <td>0</td>\n",
       "      <td>0</td>\n",
       "      <td>1</td>\n",
       "      <td>1</td>\n",
       "      <td>1</td>\n",
       "      <td>1</td>\n",
       "      <td>4.0</td>\n",
       "      <td>1</td>\n",
       "      <td>1</td>\n",
       "      <td>0.59</td>\n",
       "      <td>2.566667</td>\n",
       "      <td>13.792208</td>\n",
       "      <td>-73.921410</td>\n",
       "      <td>40.766708</td>\n",
       "      <td>-73.914413</td>\n",
       "      <td>40.764687</td>\n",
       "    </tr>\n",
       "    <tr>\n",
       "      <th>5</th>\n",
       "      <td>0</td>\n",
       "      <td>0</td>\n",
       "      <td>1</td>\n",
       "      <td>1</td>\n",
       "      <td>1</td>\n",
       "      <td>1</td>\n",
       "      <td>5.5</td>\n",
       "      <td>1</td>\n",
       "      <td>1</td>\n",
       "      <td>1.07</td>\n",
       "      <td>4.683333</td>\n",
       "      <td>13.708185</td>\n",
       "      <td>-73.945297</td>\n",
       "      <td>40.808186</td>\n",
       "      <td>-73.937668</td>\n",
       "      <td>40.821198</td>\n",
       "    </tr>\n",
       "    <tr>\n",
       "      <th>6</th>\n",
       "      <td>0</td>\n",
       "      <td>0</td>\n",
       "      <td>1</td>\n",
       "      <td>1</td>\n",
       "      <td>1</td>\n",
       "      <td>1</td>\n",
       "      <td>6.5</td>\n",
       "      <td>1</td>\n",
       "      <td>1</td>\n",
       "      <td>1.43</td>\n",
       "      <td>4.966667</td>\n",
       "      <td>17.275168</td>\n",
       "      <td>-73.890877</td>\n",
       "      <td>40.746426</td>\n",
       "      <td>-73.876923</td>\n",
       "      <td>40.756306</td>\n",
       "    </tr>\n",
       "  </tbody>\n",
       "</table>\n",
       "</div>"
      ],
      "text/plain": [
       "   hour_pickup  hour_dropoff  weekday_pickup  weekday_dropoff  day_pickup  \\\n",
       "0            0             0               1                1           1   \n",
       "1            0             0               1                1           1   \n",
       "2            0             0               1                1           1   \n",
       "5            0             0               1                1           1   \n",
       "6            0             0               1                1           1   \n",
       "\n",
       "   day_dropoff  Fare_amount  RateCodeID  Passenger_count  Trip_distance  \\\n",
       "0            1          7.8           5                1           0.00   \n",
       "1            1         45.0           5                1           0.00   \n",
       "2            1          4.0           1                1           0.59   \n",
       "5            1          5.5           1                1           1.07   \n",
       "6            1          6.5           1                1           1.43   \n",
       "\n",
       "   trip_duration_mins  avg_speed  Pickup_longitude  Pickup_latitude  \\\n",
       "0            0.066667   0.000000        -73.979485        40.684956   \n",
       "1            0.066667   0.000000        -74.010796        40.912216   \n",
       "2            2.566667  13.792208        -73.921410        40.766708   \n",
       "5            4.683333  13.708185        -73.945297        40.808186   \n",
       "6            4.966667  17.275168        -73.890877        40.746426   \n",
       "\n",
       "   Dropoff_longitude  Dropoff_latitude  \n",
       "0         -73.979431         40.685020  \n",
       "1         -74.010780         40.912212  \n",
       "2         -73.914413         40.764687  \n",
       "5         -73.937668         40.821198  \n",
       "6         -73.876923         40.756306  "
      ]
     },
     "execution_count": 56,
     "metadata": {},
     "output_type": "execute_result"
    }
   ],
   "source": [
    "data_trips[features].head()"
   ]
  },
  {
   "cell_type": "code",
   "execution_count": 57,
   "metadata": {},
   "outputs": [
    {
     "data": {
      "text/plain": [
       "hour_pickup             0\n",
       "hour_dropoff            0\n",
       "weekday_pickup          0\n",
       "weekday_dropoff         0\n",
       "day_pickup              0\n",
       "day_dropoff             0\n",
       "Fare_amount             0\n",
       "RateCodeID              0\n",
       "Passenger_count         0\n",
       "Trip_distance           0\n",
       "trip_duration_mins      0\n",
       "avg_speed             167\n",
       "Pickup_longitude        0\n",
       "Pickup_latitude         0\n",
       "Dropoff_longitude       0\n",
       "Dropoff_latitude        0\n",
       "dtype: int64"
      ]
     },
     "execution_count": 57,
     "metadata": {},
     "output_type": "execute_result"
    }
   ],
   "source": [
    "data_trips[features].isnull().sum()"
   ]
  },
  {
   "cell_type": "code",
   "execution_count": 58,
   "metadata": {},
   "outputs": [],
   "source": [
    "# Fill null average speed with 0\n",
    "data_trips['avg_speed'].fillna(0, inplace=True)"
   ]
  },
  {
   "cell_type": "markdown",
   "metadata": {},
   "source": [
    "##### Model Training\n",
    "I will use Random Forest Regressor model for prediction. Random Forest is a decision tree ensemble model which is quite popular nowaday and it performs relatively well in many situations,in term of both model accuracy/performance and model overfitting control."
   ]
  },
  {
   "cell_type": "code",
   "execution_count": 59,
   "metadata": {
    "collapsed": true
   },
   "outputs": [],
   "source": [
    "# Split test/train set\n",
    "from sklearn.model_selection import train_test_split\n",
    "X_train, X_test, y_train, y_test = train_test_split(data_trips[features], data_trips[target], test_size=0.3, random_state=40)"
   ]
  },
  {
   "cell_type": "code",
   "execution_count": 61,
   "metadata": {},
   "outputs": [
    {
     "data": {
      "text/plain": [
       "((490557, 16), (210240, 16), (490557, 1), (210240, 1))"
      ]
     },
     "execution_count": 61,
     "metadata": {},
     "output_type": "execute_result"
    }
   ],
   "source": [
    "X_train.shape, X_test.shape, y_train.shape, y_test.shape"
   ]
  },
  {
   "cell_type": "code",
   "execution_count": 67,
   "metadata": {},
   "outputs": [
    {
     "data": {
      "text/plain": [
       "GridSearchCV(cv=5, error_score='raise',\n",
       "       estimator=RandomForestRegressor(bootstrap=True, criterion='mse', max_depth=None,\n",
       "           max_features='auto', max_leaf_nodes=None,\n",
       "           min_impurity_split=1e-07, min_samples_leaf=1,\n",
       "           min_samples_split=2, min_weight_fraction_leaf=0.0,\n",
       "           n_estimators=10, n_jobs=1, oob_score=False, random_state=None,\n",
       "           verbose=0, warm_start=False),\n",
       "       fit_params={}, iid=True, n_jobs=1,\n",
       "       param_grid={'n_estimators': [10, 25, 50], 'max_depth': [4, 6, 8]},\n",
       "       pre_dispatch='2*n_jobs', refit=True, return_train_score=True,\n",
       "       scoring='neg_mean_squared_error', verbose=0)"
      ]
     },
     "execution_count": 67,
     "metadata": {},
     "output_type": "execute_result"
    }
   ],
   "source": [
    "from sklearn.ensemble import RandomForestRegressor\n",
    "from sklearn.model_selection import GridSearchCV\n",
    "\n",
    "param_grid = { \n",
    "    'n_estimators': [10, 25, 50],\n",
    "    'max_depth': [4,6,8]\n",
    "}\n",
    "\n",
    "rf = RandomForestRegressor(n_estimators=10)\n",
    "\n",
    "CV_rf = GridSearchCV(estimator=rf, param_grid=param_grid, cv= 5, scoring='neg_mean_squared_error')\n",
    "CV_rf.fit(X_train, y_train)"
   ]
  },
  {
   "cell_type": "code",
   "execution_count": 68,
   "metadata": {},
   "outputs": [
    {
     "name": "stdout",
     "output_type": "stream",
     "text": [
      "{'n_estimators': 50, 'max_depth': 8}\n"
     ]
    }
   ],
   "source": [
    "print CV_rf.best_params_\n",
    "#print sorted(CV_rf.cv_results_.keys())"
   ]
  },
  {
   "cell_type": "code",
   "execution_count": 69,
   "metadata": {},
   "outputs": [
    {
     "name": "stdout",
     "output_type": "stream",
     "text": [
      "-52.0237531364\n"
     ]
    }
   ],
   "source": [
    "print CV_rf.best_score_"
   ]
  },
  {
   "cell_type": "code",
   "execution_count": 73,
   "metadata": {},
   "outputs": [
    {
     "name": "stderr",
     "output_type": "stream",
     "text": [
      "/usr/local/lib/python2.7/dist-packages/ipykernel_launcher.py:2: DataConversionWarning: A column-vector y was passed when a 1d array was expected. Please change the shape of y to (n_samples,), for example using ravel().\n",
      "  \n"
     ]
    },
    {
     "data": {
      "text/plain": [
       "RandomForestRegressor(bootstrap=True, criterion='mse', max_depth=8,\n",
       "           max_features='auto', max_leaf_nodes=None,\n",
       "           min_impurity_split=1e-07, min_samples_leaf=1,\n",
       "           min_samples_split=2, min_weight_fraction_leaf=0.0,\n",
       "           n_estimators=50, n_jobs=1, oob_score=False, random_state=None,\n",
       "           verbose=0, warm_start=False)"
      ]
     },
     "execution_count": 73,
     "metadata": {},
     "output_type": "execute_result"
    }
   ],
   "source": [
    "model_rf = RandomForestRegressor(n_estimators=50, max_depth=8)\n",
    "model_rf.fit(X_train, y_train)"
   ]
  },
  {
   "cell_type": "code",
   "execution_count": 74,
   "metadata": {},
   "outputs": [
    {
     "name": "stdout",
     "output_type": "stream",
     "text": [
      "Mean squared error of test dataset: 51.4700473744\n"
     ]
    }
   ],
   "source": [
    "from sklearn.metrics import mean_squared_error\n",
    "\n",
    "y_pred = model_rf.predict(X_test)\n",
    "print \"Mean squared error of test dataset: %s\" % mean_squared_error(y_test, y_pred)"
   ]
  },
  {
   "cell_type": "code",
   "execution_count": 75,
   "metadata": {},
   "outputs": [],
   "source": [
    "importances = model_rf.feature_importances_"
   ]
  },
  {
   "cell_type": "code",
   "execution_count": 86,
   "metadata": {},
   "outputs": [
    {
     "name": "stdout",
     "output_type": "stream",
     "text": [
      "Feature ranking:\n",
      "1. feature Dropoff_latitude (0.291493)\n",
      "2. feature Fare_amount (0.288570)\n",
      "3. feature Pickup_longitude (0.086369)\n",
      "4. feature Dropoff_longitude (0.076183)\n",
      "5. feature RateCodeID (0.072726)\n",
      "6. feature Pickup_latitude (0.058266)\n",
      "7. feature trip_duration_mins (0.055982)\n",
      "8. feature avg_speed (0.018612)\n",
      "9. feature Trip_distance (0.015125)\n",
      "10. feature hour_dropoff (0.007202)\n",
      "11. feature hour_pickup (0.006502)\n",
      "12. feature day_pickup (0.006437)\n",
      "13. feature day_dropoff (0.006260)\n",
      "14. feature weekday_dropoff (0.003730)\n",
      "15. feature weekday_pickup (0.003514)\n",
      "16. feature Passenger_count (0.003030)\n"
     ]
    },
    {
     "data": {
      "image/png": "[encoded data removed]",
      "text/plain": [
       "<matplotlib.figure.Figure at 0x7fe492ca4950>"
      ]
     },
     "metadata": {},
     "output_type": "display_data"
    }
   ],
   "source": [
    "std = np.std([tree.feature_importances_ for tree in model_rf.estimators_],\n",
    "             axis=0)\n",
    "indices = np.argsort(importances)[::-1]\n",
    "\n",
    "# Print the feature ranking\n",
    "print(\"Feature ranking:\")\n",
    "\n",
    "for f in range(X_train.shape[1]):\n",
    "    print(\"%d. feature %s (%f)\" % (f + 1, X_train.columns[indices[f]], importances[indices[f]]))\n",
    "\n",
    "# Label\n",
    "label_ticks = [X_train.columns[i] for i in indices]\n",
    "    \n",
    "# Plot the feature importances of the forest\n",
    "plt.figure()\n",
    "plt.title(\"Feature importances\")\n",
    "plt.bar(range(X_train.shape[1]), importances[indices],\n",
    "       color=\"r\", yerr=std[indices], align=\"center\")\n",
    "plt.xticks(range(X_train.shape[1]), label_ticks, rotation=90)\n",
    "plt.xlim([-1, X_train.shape[1]])\n",
    "plt.show()"
   ]
  },
  {
   "cell_type": "markdown",
   "metadata": {},
   "source": [
    "##### Additional Ideas to improve the predictive model\n",
    "Random forest works relatively well with mean squared error at about 55. However, there are several opportunities to improve the model performance. \n",
    "1. Parameter tuning\n",
    "Fine-tuning parameter would definitely increase model performance, for example, by increasing number of trees (n_estimators) in the model. However, increasing number of trees will also increase training time and require larger computing power. Other parameters we could adjust are min_sample_leaf and max_features.\n",
    "2. Using other models\n",
    "I have also tried using Linear regression and Ridge regression models and they both performed comparably with the random forest regressor model with n_estimators = 10. However, increasing the number of trees in random forest model would be likely to outperform linear regression and ridge regression, which have limitation in parameter tuning to improve model performance. Nevertheless, the benefit of using the linear models over random forest is that it can be trained much faster.\n",
    "3. Additional Features and Feature Engineering\n",
    "Adding new features would potentially improve model performance but it would require more time for trying several different features and doing cross validation. For example, I actually tried one-hot encoding for some categorical variables such hour and day pick-up/drop-off in the linear model, but it did not improve the performance of the model without one-hot encoding. "
   ]
  },
  {
   "cell_type": "code",
   "execution_count": 88,
   "metadata": {},
   "outputs": [
    {
     "name": "stdout",
     "output_type": "stream",
     "text": [
      "Linear Regression\n",
      "[-57.55571403 -56.88609746 -57.79062582 -59.73853017 -59.07367328]\n",
      "Ridge Regression\n",
      "[-57.55571403 -56.88609746 -57.79062582 -59.73853017 -59.07367328]\n"
     ]
    }
   ],
   "source": [
    "# Linear Regression and Ridge Regression models\n",
    "from sklearn.model_selection import cross_val_score\n",
    "from sklearn.linear_model import LinearRegression, Ridge\n",
    "\n",
    "lm1 = LinearRegression()\n",
    "lm1.fit(X_train, y_train)\n",
    "print \"Linear Regression\"\n",
    "scores = cross_val_score(lm1, X_train, y_train, cv=5, scoring='neg_mean_squared_error')\n",
    "print scores\n",
    "\n",
    "ridge1 = Ridge()\n",
    "ridge1.fit(X_train, y_train)\n",
    "print \"Ridge Regression\"\n",
    "scores = cross_val_score(lm1, X_train, y_train, cv=5, scoring='neg_mean_squared_error')\n",
    "print scores"
   ]
  },
  {
   "cell_type": "code",
   "execution_count": 89,
   "metadata": {},
   "outputs": [
    {
     "name": "stdout",
     "output_type": "stream",
     "text": [
      "Linear Regression (one-hot encoding)\n",
      "[-57.62029112 -56.87527537 -57.61194555 -56.55800218 -58.94347929]\n",
      "Ridge Regression (one-hot encoding)\n",
      "[-57.6448547  -56.91785988 -57.66214749 -56.58606577 -58.97009969]\n"
     ]
    }
   ],
   "source": [
    "##### Linear Regression Model with One-hot encoding\n",
    "from sklearn.preprocessing import OneHotEncoder\n",
    "from scipy import sparse\n",
    "\n",
    "category_features = ['hour_pickup','hour_dropoff','weekday_pickup','weekday_dropoff','day_pickup','day_dropoff','RateCodeID']\n",
    "num_features = ['RateCodeID','Passenger_count','Trip_distance',\n",
    "            'Pickup_longitude','Pickup_latitude','Dropoff_longitude','Dropoff_latitude']\n",
    "\n",
    "enc = OneHotEncoder()\n",
    "train_encoded = enc.fit_transform(X_train[category_features])\n",
    "test_encoded = enc.fit_transform(X_test[category_features])\n",
    "\n",
    "x_train_data = sparse.hstack([X_train[num_features], train_encoded]).tocsr()\n",
    "x_test_data = sparse.hstack([X_test[num_features], test_encoded]).tocsr()\n",
    "\n",
    "lm = LinearRegression()\n",
    "lm.fit(x_train_data, y_train)\n",
    "scores = cross_val_score(lm, x_train_data, y_train, cv=5, scoring='neg_mean_squared_error')\n",
    "print \"Linear Regression (one-hot encoding)\" \n",
    "print scores\n",
    "\n",
    "ridge = Ridge()\n",
    "ridge.fit(x_train_data, y_train)\n",
    "scores = cross_val_score(ridge, x_train_data, y_train, cv=5, scoring='neg_mean_squared_error')\n",
    "print \"Ridge Regression (one-hot encoding)\"\n",
    "print scores"
   ]
  },
  {
   "cell_type": "markdown",
   "metadata": {},
   "source": [
    "#### Question 5"
   ]
  },
  {
   "cell_type": "markdown",
   "metadata": {},
   "source": [
    "###### Option C: Search\n",
    "We’re thinking about promoting ride sharing. Build a function that given point a point P, find the k trip origination points nearest P.\n",
    "For this question, point P would be a taxi ride starting location picked by us at a given LAT-LONG.\n",
    "As an extra layer of complexity, consider the time for pickups, so this could eventually be used for real time ride sharing matching.\n",
    "Please explain not only how this can be computed, but how efficient your approach is (time and space complexity)"
   ]
  },
  {
   "cell_type": "code",
   "execution_count": 90,
   "metadata": {
    "collapsed": true
   },
   "outputs": [],
   "source": [
    "#search_trips = clean_trips[(clean_trips.Pickup_longitude!=0) & (clean_trips.Pickup_latitude!=0)]"
   ]
  },
  {
   "cell_type": "code",
   "execution_count": 147,
   "metadata": {},
   "outputs": [],
   "source": [
    "from sklearn.neighbors import KDTree\n",
    "import datetime\n",
    "\n",
    "def find_k_nearest_points(lon, lat, k, current_time=datetime.datetime.now()):\n",
    "    # Load trip data in past 5 minutes (300 seconds)\n",
    "    last_5_mins_trips = clean_trips[(current_time - clean_trips['pickup_datetime']).dt.total_seconds() < 300].reset_index()\n",
    "    #last_5_mins_trips = clean_trips\n",
    "    # Construct KD Tree from the pickup points from last 10 mins trips\n",
    "    points = last_5_mins_trips[['Pickup_longitude','Pickup_latitude']]\n",
    "    if len(points) > 0:\n",
    "        tree = KDTree(points)\n",
    "        # Query k nearest points\n",
    "        point_query = np.array([lon,lat]).reshape(1,-1)\n",
    "        dist, ind = tree.query(point_query, k=k)\n",
    "        # Return k VendorID and Pickup lat/lon coordinates\n",
    "        k_points = last_5_mins_trips.loc[ind.tolist()[0],['index','Pickup_longitude','Pickup_latitude']]\n",
    "        return k_points\n",
    "    else:\n",
    "        return []"
   ]
  },
  {
   "cell_type": "code",
   "execution_count": 148,
   "metadata": {},
   "outputs": [],
   "source": [
    "# Test function\n",
    "current = datetime.datetime(2015, 9, 29, 16, 29, 43)\n",
    "result = find_k_nearest_points(-73.958844, 40.682388, 5, current)"
   ]
  },
  {
   "cell_type": "code",
   "execution_count": 150,
   "metadata": {},
   "outputs": [
    {
     "data": {
      "text/html": [
       "<div>\n",
       "<style>\n",
       "    .dataframe thead tr:only-child th {\n",
       "        text-align: right;\n",
       "    }\n",
       "\n",
       "    .dataframe thead th {\n",
       "        text-align: left;\n",
       "    }\n",
       "\n",
       "    .dataframe tbody tr th {\n",
       "        vertical-align: top;\n",
       "    }\n",
       "</style>\n",
       "<table border=\"1\" class=\"dataframe\">\n",
       "  <thead>\n",
       "    <tr style=\"text-align: right;\">\n",
       "      <th></th>\n",
       "      <th>index</th>\n",
       "      <th>Pickup_longitude</th>\n",
       "      <th>Pickup_latitude</th>\n",
       "    </tr>\n",
       "  </thead>\n",
       "  <tbody>\n",
       "    <tr>\n",
       "      <th>33042</th>\n",
       "      <td>1461320</td>\n",
       "      <td>-73.958656</td>\n",
       "      <td>40.682400</td>\n",
       "    </tr>\n",
       "    <tr>\n",
       "      <th>55688</th>\n",
       "      <td>1483966</td>\n",
       "      <td>-73.958679</td>\n",
       "      <td>40.682213</td>\n",
       "    </tr>\n",
       "    <tr>\n",
       "      <th>32547</th>\n",
       "      <td>1460825</td>\n",
       "      <td>-73.958672</td>\n",
       "      <td>40.682556</td>\n",
       "    </tr>\n",
       "    <tr>\n",
       "      <th>39858</th>\n",
       "      <td>1468136</td>\n",
       "      <td>-73.958618</td>\n",
       "      <td>40.682083</td>\n",
       "    </tr>\n",
       "    <tr>\n",
       "      <th>26297</th>\n",
       "      <td>1454575</td>\n",
       "      <td>-73.958641</td>\n",
       "      <td>40.682030</td>\n",
       "    </tr>\n",
       "  </tbody>\n",
       "</table>\n",
       "</div>"
      ],
      "text/plain": [
       "         index  Pickup_longitude  Pickup_latitude\n",
       "33042  1461320        -73.958656        40.682400\n",
       "55688  1483966        -73.958679        40.682213\n",
       "32547  1460825        -73.958672        40.682556\n",
       "39858  1468136        -73.958618        40.682083\n",
       "26297  1454575        -73.958641        40.682030"
      ]
     },
     "execution_count": 150,
     "metadata": {},
     "output_type": "execute_result"
    }
   ],
   "source": [
    "# Display 5 nearest starting locations from (-73.958844, 40.682388)\n",
    "result"
   ]
  },
  {
   "cell_type": "markdown",
   "metadata": {
    "collapsed": true
   },
   "source": [
    "I used KD-Tree data structure for this search algorithm. KD-Tree is a space-partitioning data structure for k-dimensional space. In our case with 2 dimensional space (latitude and longitude), KD-Tree can be efficient for searching nearest data points in coordinate plane. The algorithm in the search function is as follow:\n",
    "1. Query all taxi starting location (lat/lon) within specific time window (e.g. last 5 minutes)\n",
    "2. Construct KD-Tree from the data query. By iteratively segmenting midpoint in coordinates space, KD-Tree is constructed and store data points in tree leaves. (For sklearn implementation, it uses median as midpoint). The time complexity for constructing KD-Tree is O(nlog(n)) its space complexity = O(n).\n",
    "3. Search for K nearest points in the tree, in which the time complexity of the search is O(log(n)), and return those points and index as output\n",
    "\n",
    "I did not implement the KDTree from scratch but used KDTree function from sklearn package for convenience. In real-time application, we might consider reconstructing KDTree every specific time interval so we do not need to constructing KD-Tree for every search query. Also, we might need to limit the area when query taxi location data points e.g. query all taxi starting locations within last 5 minutes and within 5 miles from the query location."
   ]
  },
  {
   "cell_type": "code",
   "execution_count": null,
   "metadata": {
    "collapsed": true
   },
   "outputs": [],
   "source": []
  }
 ],
 "metadata": {
  "kernelspec": {
   "display_name": "Python 2",
   "language": "python",
   "name": "python2"
  },
  "language_info": {
   "codemirror_mode": {
    "name": "ipython",
    "version": 2
   },
   "file_extension": ".py",
   "mimetype": "text/x-python",
   "name": "python",
   "nbconvert_exporter": "python",
   "pygments_lexer": "ipython2",
   "version": "2.7.12"
  }
 },
 "nbformat": 4,
 "nbformat_minor": 1
}
